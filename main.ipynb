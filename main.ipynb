{
 "cells": [
  {
   "cell_type": "markdown",
   "metadata": {},
   "source": [
    "# Basic modelling module"
   ]
  },
  {
   "cell_type": "code",
   "execution_count": 1,
   "metadata": {},
   "outputs": [],
   "source": [
    "# make plots be included into this doc\n",
    "%matplotlib inline"
   ]
  },
  {
   "cell_type": "markdown",
   "metadata": {},
   "source": [
    "# Importing modules"
   ]
  },
  {
   "cell_type": "code",
   "execution_count": 2,
   "metadata": {},
   "outputs": [],
   "source": [
    "import numpy as np\n",
    "import pandas as pd\n",
    "import os\n",
    "from IPython.core.display import display, HTML\n",
    "from bin.model import *\n",
    "from sklearn.pipeline import Pipeline\n",
    "from bin.conf import PREDICTOR_LOADERS\n",
    "from bin.loader import get_predictor_data\n",
    "from sklearn.model_selection import StratifiedKFold\n",
    "from sklearn.feature_selection import RFECV\n",
    "from sklearn.linear_model import LogisticRegression\n",
    "from sklearn.discriminant_analysis import LinearDiscriminantAnalysis\n",
    "from sklearn.naive_bayes import GaussianNB\n",
    "from sklearn.pipeline import make_pipeline\n",
    "from sklearn.preprocessing import StandardScaler\n",
    "from sklearn.tree import DecisionTreeClassifier\n",
    "from sklearn.svm import SVC\n",
    "import matplotlib.pyplot as plt"
   ]
  },
  {
   "cell_type": "markdown",
   "metadata": {},
   "source": [
    "# Constants definitions"
   ]
  },
  {
   "cell_type": "code",
   "execution_count": 3,
   "metadata": {},
   "outputs": [],
   "source": [
    "SOURCE_DATA_PATH = './data' # relative (or absolute) path to the data directory\n",
    "CSV_SEPARATOR = r';' # separator used in csv data files\n",
    "DATA_FILE_NAMES = ['broad_leaf_GBIF.csv',# all data files should be in the same format\n",
    "                   'широколиственные.csv',\n",
    "                  # 'broad_leaved_herbarium_and_observation.csv',\n",
    "                   'GBIF_coordinate.csv'\n",
    "                  ] \n",
    "ALLOWED_COLUMNS = ['species', 'latitude', 'longitude'] # only these columns will be retained for computations\n",
    "COLUMNS_DTYPES = [np.str, np.float64, np.float64] # Should have the same length as ALLOWED_COLUMNS\n",
    "MODEL_SPECIES = ['quercus',\n",
    "                 'quercus mongolica',\n",
    "                 'quercus crispula',\n",
    "                 'kalopanax septemlobus',\n",
    "                 'fraxinus mandshurica'] # all  species should be given in lowercase format\n",
    "\n",
    "# Initial set of variables (see conf.py: PREDICTOR_LOADERS parameter for details)\n",
    "#VARIABLE_SET = tuple(['WKI' + str(k) for k in range(2, 7)])\n",
    "#VARIABLE_SET += tuple(['CKI' + str(k) for k in range(2, 7)])\n",
    "VARIABLE_SET = tuple(['BIO' + str(k) for k in range(1, 20)])\n",
    "#VARIABLE_SET += ('PWKI0', 'PCKI0','IT', 'IC', 'TMINM', 'TMAXM')\n",
    "#VARIABLE_SET += tuple(['PREC' + str(k) for k in range(1, 13)])\n",
    "#VARIABLE_SET += tuple(['TAVG' + str(k) for k in range(1, 13)])\n",
    "#VARIABLE_SET += tuple(['TMIN' + str(k) for k in range(1, 13)])\n",
    "#VARIABLE_SET += tuple(['TMAX' + str(k) for k in range(1, 13)])\n",
    "\n",
    "\n",
    "CLASSIFIERS = [ ('tree', DecisionTreeClassifier(random_state=10)),\n",
    "                ('MaxEnt', LogisticRegression()),\n",
    "                #('SVM', SVC(kernel='linear'))\n",
    "                #('LDA', LinearDiscriminantAnalysis())\n",
    "              ]\n",
    "KFOLDS_NUMBER = 20\n",
    "PSEUDO_ABSENCE_DENSITY = 1"
   ]
  },
  {
   "cell_type": "markdown",
   "metadata": {},
   "source": [
    "# Source data loading and preprocessing"
   ]
  },
  {
   "cell_type": "code",
   "execution_count": 4,
   "metadata": {},
   "outputs": [
    {
     "name": "stdout",
     "output_type": "stream",
     "text": [
      "The file broad_leaf_GBIF.csv succesfully loaded.\n",
      "File overview:\n",
      "<class 'pandas.core.frame.DataFrame'>\n",
      "RangeIndex: 3036 entries, 0 to 3035\n",
      "Data columns (total 4 columns):\n",
      "species        3036 non-null object\n",
      "countrycode    3036 non-null object\n",
      "latitude       3034 non-null float64\n",
      "longitude      3034 non-null float64\n",
      "dtypes: float64(2), object(2)\n",
      "memory usage: 95.0+ KB\n",
      "==================================================\n",
      "The file широколиственные.csv succesfully loaded.\n",
      "File overview:\n",
      "<class 'pandas.core.frame.DataFrame'>\n",
      "RangeIndex: 605 entries, 0 to 604\n",
      "Data columns (total 3 columns):\n",
      "species      605 non-null object\n",
      "latitude     604 non-null float64\n",
      "longitude    604 non-null float64\n",
      "dtypes: float64(2), object(1)\n",
      "memory usage: 14.3+ KB\n",
      "==================================================\n",
      "The file GBIF_coordinate.csv succesfully loaded.\n",
      "File overview:\n",
      "<class 'pandas.core.frame.DataFrame'>\n",
      "RangeIndex: 2443 entries, 0 to 2442\n",
      "Data columns (total 3 columns):\n",
      "species      2443 non-null object\n",
      "latitude     2437 non-null float64\n",
      "longitude    2437 non-null float64\n",
      "dtypes: float64(2), object(1)\n",
      "memory usage: 57.3+ KB\n",
      "==================================================\n"
     ]
    },
    {
     "data": {
      "text/html": [
       "<h3>Original size: 6084</h3>"
      ],
      "text/plain": [
       "<IPython.core.display.HTML object>"
      ]
     },
     "metadata": {},
     "output_type": "display_data"
    },
    {
     "data": {
      "text/html": [
       "<h3>The size after duplications removal: 2410</h3>"
      ],
      "text/plain": [
       "<IPython.core.display.HTML object>"
      ]
     },
     "metadata": {},
     "output_type": "display_data"
    }
   ],
   "source": [
    "original_presence_data = pd.DataFrame({col: [] for col in ALLOWED_COLUMNS}) #initialize dataframe-accumulator\n",
    "for filename in DATA_FILE_NAMES:\n",
    "    try:\n",
    "        # data loading procedure\n",
    "        data = pd.read_csv(os.path.join(SOURCE_DATA_PATH, filename),\n",
    "                           sep=CSV_SEPARATOR, dtype={a:b for a,b in zip(ALLOWED_COLUMNS, COLUMNS_DTYPES)})\n",
    "    except IOError:\n",
    "        print(\"Couldn't read the file %s.\" % filename)\n",
    "    if any(data):\n",
    "        print('The file %s succesfully loaded.' % filename)\n",
    "        print('File overview:')\n",
    "        data.info()\n",
    "        print('='*50)\n",
    "    # data concatenation procedure\n",
    "    original_presence_data = pd.concat([original_presence_data, data[ALLOWED_COLUMNS]], ignore_index=True)\n",
    "\n",
    "# make species names lowercased and stripped\n",
    "original_presence_data['species'] = original_presence_data['species'].apply(str.lower).apply(str.strip)\n",
    "\n",
    "display(HTML('<h3>Original size: %s</h3>'%original_presence_data['species'].size))\n",
    "\n",
    "# remove duplicate rows and nan values\n",
    "original_presence_data = original_presence_data.dropna().drop_duplicates(ALLOWED_COLUMNS).reset_index(drop=True)\n",
    "display(HTML('<h3>The size after duplications removal: %s</h3>'%original_presence_data['species'].size))\n"
   ]
  },
  {
   "cell_type": "markdown",
   "metadata": {},
   "source": [
    "## Initial dataset overview"
   ]
  },
  {
   "cell_type": "code",
   "execution_count": 5,
   "metadata": {},
   "outputs": [
    {
     "data": {
      "text/html": [
       "<h3>General info:</h3>"
      ],
      "text/plain": [
       "<IPython.core.display.HTML object>"
      ]
     },
     "metadata": {},
     "output_type": "display_data"
    },
    {
     "name": "stdout",
     "output_type": "stream",
     "text": [
      "<class 'pandas.core.frame.DataFrame'>\n",
      "RangeIndex: 2410 entries, 0 to 2409\n",
      "Data columns (total 3 columns):\n",
      "latitude     2410 non-null float64\n",
      "longitude    2410 non-null float64\n",
      "species      2410 non-null object\n",
      "dtypes: float64(2), object(1)\n",
      "memory usage: 56.6+ KB\n"
     ]
    },
    {
     "data": {
      "text/html": [
       "<h3>Species occurences overview:</h3>"
      ],
      "text/plain": [
       "<IPython.core.display.HTML object>"
      ]
     },
     "metadata": {},
     "output_type": "display_data"
    },
    {
     "data": {
      "text/plain": [
       "quercus mongolica         329\n",
       "carpinus cordata          307\n",
       "kalopanax septemlobus     303\n",
       "juglans mandshurica       299\n",
       "fraxinus lanuginosa       274\n",
       "quercus crispula          163\n",
       "phellodendron amurense    152\n",
       "ulmus davidiana           135\n",
       "ulmus laciniata           104\n",
       "acer mono                  78\n",
       "acer pictum                75\n",
       "pinus koraiensis           51\n",
       "fraxinus mandshurica       40\n",
       "fraxinus rhynchophylla     34\n",
       "juglans ailanthifolia      27\n",
       "tilia amurensis            23\n",
       "abies holophylla           16\n",
       "Name: species, dtype: int64"
      ]
     },
     "execution_count": 5,
     "metadata": {},
     "output_type": "execute_result"
    }
   ],
   "source": [
    "display(HTML('<h3>General info:</h3>'))\n",
    "original_presence_data.info()\n",
    "display(HTML('<h3>Species occurences overview:</h3>'))\n",
    "original_presence_data['species'].value_counts()"
   ]
  },
  {
   "cell_type": "markdown",
   "metadata": {},
   "source": [
    "# MAIN LOOP OVER ALL SPECIES"
   ]
  },
  {
   "cell_type": "code",
   "execution_count": 6,
   "metadata": {},
   "outputs": [
    {
     "data": {
      "text/html": [
       "<h5>=============== quercus ======================</h5>"
      ],
      "text/plain": [
       "<IPython.core.display.HTML object>"
      ]
     },
     "metadata": {},
     "output_type": "display_data"
    },
    {
     "name": "stdout",
     "output_type": "stream",
     "text": [
      "Constructing the dataset...\n",
      "Removed correlated features:  {'BIO17', 'BIO9', 'BIO7', 'BIO13', 'BIO16', 'BIO10', 'BIO18', 'BIO11', 'BIO19', 'BIO6'}\n",
      "Leaved features:  {'BIO1', 'BIO3', 'BIO12', 'BIO8', 'BIO4', 'BIO14', 'BIO15', 'BIO2', 'BIO5'}\n",
      "Dataset is formed.\n",
      "<class 'pandas.core.frame.DataFrame'>\n",
      "RangeIndex: 4450 entries, 0 to 4449\n",
      "Data columns (total 13 columns):\n",
      "BIO1         4450 non-null float64\n",
      "BIO12        4450 non-null float64\n",
      "BIO14        4450 non-null float64\n",
      "BIO15        4450 non-null float64\n",
      "BIO2         4450 non-null float64\n",
      "BIO3         4450 non-null float64\n",
      "BIO4         4450 non-null float64\n",
      "BIO5         4450 non-null float64\n",
      "BIO8         4450 non-null float64\n",
      "absence      4450 non-null bool\n",
      "latitude     4450 non-null float64\n",
      "longitude    4450 non-null float64\n",
      "species      4450 non-null object\n",
      "dtypes: bool(1), float64(11), object(1)\n",
      "memory usage: 421.6+ KB\n",
      "Preforming recursive feature ellimination for the <tree> classifier...\n",
      "Preforming recursive feature ellimination for the <MaxEnt> classifier...\n"
     ]
    },
    {
     "data": {
      "text/html": [
       "<h5> --------------- Summary for quercus: --------------- </h5>"
      ],
      "text/plain": [
       "<IPython.core.display.HTML object>"
      ]
     },
     "metadata": {},
     "output_type": "display_data"
    },
    {
     "name": "stdout",
     "output_type": "stream",
     "text": [
      "The best classifier is tree. Its accuracy score is 0.9984254433806002.\n",
      "Optimal predictor set (acc):  ['BIO1' 'BIO12' 'BIO8' 'BIO5']\n",
      "The best classifier is MaxEnt. Its roc/auc score is 0.9991935159805762.\n",
      "Optimal predictor set (auc):  ['BIO1' 'BIO3' 'BIO12' 'BIO8' 'BIO14' 'BIO5']\n",
      "Statistic over all classifiers: \n",
      "AUC/ROC - Case:\n"
     ]
    },
    {
     "data": {
      "text/html": [
       "<div>\n",
       "<style scoped>\n",
       "    .dataframe tbody tr th:only-of-type {\n",
       "        vertical-align: middle;\n",
       "    }\n",
       "\n",
       "    .dataframe tbody tr th {\n",
       "        vertical-align: top;\n",
       "    }\n",
       "\n",
       "    .dataframe thead th {\n",
       "        text-align: right;\n",
       "    }\n",
       "</style>\n",
       "<table border=\"1\" class=\"dataframe\">\n",
       "  <thead>\n",
       "    <tr style=\"text-align: right;\">\n",
       "      <th></th>\n",
       "      <th>MaxEnt</th>\n",
       "      <th>tree</th>\n",
       "    </tr>\n",
       "  </thead>\n",
       "  <tbody>\n",
       "    <tr>\n",
       "      <th>0</th>\n",
       "      <td>0.999194</td>\n",
       "      <td>0.993665</td>\n",
       "    </tr>\n",
       "    <tr>\n",
       "      <th>1</th>\n",
       "      <td>[BIO1, BIO3, BIO12, BIO8, BIO14]</td>\n",
       "      <td>[BIO1, BIO12, BIO8, BIO5]</td>\n",
       "    </tr>\n",
       "  </tbody>\n",
       "</table>\n",
       "</div>"
      ],
      "text/plain": [
       "                             MaxEnt                       tree\n",
       "0                          0.999194                   0.993665\n",
       "1  [BIO1, BIO3, BIO12, BIO8, BIO14]  [BIO1, BIO12, BIO8, BIO5]"
      ]
     },
     "metadata": {},
     "output_type": "display_data"
    },
    {
     "name": "stdout",
     "output_type": "stream",
     "text": [
      "Precision - Case:\n"
     ]
    },
    {
     "data": {
      "text/html": [
       "<div>\n",
       "<style scoped>\n",
       "    .dataframe tbody tr th:only-of-type {\n",
       "        vertical-align: middle;\n",
       "    }\n",
       "\n",
       "    .dataframe tbody tr th {\n",
       "        vertical-align: top;\n",
       "    }\n",
       "\n",
       "    .dataframe thead th {\n",
       "        text-align: right;\n",
       "    }\n",
       "</style>\n",
       "<table border=\"1\" class=\"dataframe\">\n",
       "  <thead>\n",
       "    <tr style=\"text-align: right;\">\n",
       "      <th></th>\n",
       "      <th>MaxEnt</th>\n",
       "      <th>tree</th>\n",
       "    </tr>\n",
       "  </thead>\n",
       "  <tbody>\n",
       "    <tr>\n",
       "      <th>0</th>\n",
       "      <td>0.996182</td>\n",
       "      <td>0.998425</td>\n",
       "    </tr>\n",
       "    <tr>\n",
       "      <th>1</th>\n",
       "      <td>[BIO1, BIO3, BIO12, BIO8, BIO4]</td>\n",
       "      <td>[BIO1, BIO12, BIO8, BIO5]</td>\n",
       "    </tr>\n",
       "  </tbody>\n",
       "</table>\n",
       "</div>"
      ],
      "text/plain": [
       "                            MaxEnt                       tree\n",
       "0                         0.996182                   0.998425\n",
       "1  [BIO1, BIO3, BIO12, BIO8, BIO4]  [BIO1, BIO12, BIO8, BIO5]"
      ]
     },
     "metadata": {},
     "output_type": "display_data"
    },
    {
     "data": {
      "text/html": [
       "<h5> ~~~~~~~~~~~~~~~~~~~~~~~~~~~~~~~~~~~~~~~~~~~~~~~~~~~~~~~~~~~~~~~~~~~~~~~~~~~~~~~~~~~~~~~~~~ </h5>"
      ],
      "text/plain": [
       "<IPython.core.display.HTML object>"
      ]
     },
     "metadata": {},
     "output_type": "display_data"
    },
    {
     "data": {
      "image/png": "[encoded data removed]",
      "text/plain": [
       "<matplotlib.figure.Figure at 0x7fe530f14be0>"
      ]
     },
     "metadata": {},
     "output_type": "display_data"
    },
    {
     "data": {
      "image/png": "[encoded data removed]",
      "text/plain": [
       "<matplotlib.figure.Figure at 0x7fe52d3c5978>"
      ]
     },
     "metadata": {},
     "output_type": "display_data"
    },
    {
     "data": {
      "text/html": [
       "<h5>=============== quercus mongolica ======================</h5>"
      ],
      "text/plain": [
       "<IPython.core.display.HTML object>"
      ]
     },
     "metadata": {},
     "output_type": "display_data"
    },
    {
     "name": "stdout",
     "output_type": "stream",
     "text": [
      "Constructing the dataset...\n",
      "Removed correlated features:  {'BIO17', 'BIO9', 'BIO7', 'BIO13', 'BIO16', 'BIO10', 'BIO18', 'BIO11', 'BIO19', 'BIO6'}\n",
      "Leaved features:  {'BIO1', 'BIO3', 'BIO12', 'BIO8', 'BIO4', 'BIO14', 'BIO15', 'BIO2', 'BIO5'}\n",
      "Dataset is formed.\n",
      "<class 'pandas.core.frame.DataFrame'>\n",
      "RangeIndex: 4325 entries, 0 to 4324\n",
      "Data columns (total 13 columns):\n",
      "BIO1         4325 non-null float64\n",
      "BIO12        4325 non-null float64\n",
      "BIO14        4325 non-null float64\n",
      "BIO15        4325 non-null float64\n",
      "BIO2         4325 non-null float64\n",
      "BIO3         4325 non-null float64\n",
      "BIO4         4325 non-null float64\n",
      "BIO5         4325 non-null float64\n",
      "BIO8         4325 non-null float64\n",
      "absence      4325 non-null bool\n",
      "latitude     4325 non-null float64\n",
      "longitude    4325 non-null float64\n",
      "species      4325 non-null object\n",
      "dtypes: bool(1), float64(11), object(1)\n",
      "memory usage: 409.8+ KB\n",
      "Preforming recursive feature ellimination for the <tree> classifier...\n",
      "Preforming recursive feature ellimination for the <MaxEnt> classifier...\n"
     ]
    },
    {
     "data": {
      "text/html": [
       "<h5> --------------- Summary for quercus mongolica: --------------- </h5>"
      ],
      "text/plain": [
       "<IPython.core.display.HTML object>"
      ]
     },
     "metadata": {},
     "output_type": "display_data"
    },
    {
     "name": "stdout",
     "output_type": "stream",
     "text": [
      "The best classifier is tree. Its accuracy score is 0.9981513385664021.\n",
      "Optimal predictor set (acc):  ['BIO1' 'BIO12' 'BIO8' 'BIO5']\n",
      "The best classifier is MaxEnt. Its roc/auc score is 0.9997676095624815.\n",
      "Optimal predictor set (auc):  ['BIO12' 'BIO8' 'BIO14' 'BIO5']\n",
      "Statistic over all classifiers: \n",
      "AUC/ROC - Case:\n"
     ]
    },
    {
     "data": {
      "text/html": [
       "<div>\n",
       "<style scoped>\n",
       "    .dataframe tbody tr th:only-of-type {\n",
       "        vertical-align: middle;\n",
       "    }\n",
       "\n",
       "    .dataframe tbody tr th {\n",
       "        vertical-align: top;\n",
       "    }\n",
       "\n",
       "    .dataframe thead th {\n",
       "        text-align: right;\n",
       "    }\n",
       "</style>\n",
       "<table border=\"1\" class=\"dataframe\">\n",
       "  <thead>\n",
       "    <tr style=\"text-align: right;\">\n",
       "      <th></th>\n",
       "      <th>MaxEnt</th>\n",
       "      <th>tree</th>\n",
       "    </tr>\n",
       "  </thead>\n",
       "  <tbody>\n",
       "    <tr>\n",
       "      <th>0</th>\n",
       "      <td>0.999768</td>\n",
       "      <td>0.991531</td>\n",
       "    </tr>\n",
       "    <tr>\n",
       "      <th>1</th>\n",
       "      <td>[BIO12, BIO8, BIO14, BIO5]</td>\n",
       "      <td>[BIO1, BIO12, BIO8, BIO5]</td>\n",
       "    </tr>\n",
       "  </tbody>\n",
       "</table>\n",
       "</div>"
      ],
      "text/plain": [
       "                       MaxEnt                       tree\n",
       "0                    0.999768                   0.991531\n",
       "1  [BIO12, BIO8, BIO14, BIO5]  [BIO1, BIO12, BIO8, BIO5]"
      ]
     },
     "metadata": {},
     "output_type": "display_data"
    },
    {
     "name": "stdout",
     "output_type": "stream",
     "text": [
      "Precision - Case:\n"
     ]
    },
    {
     "data": {
      "text/html": [
       "<div>\n",
       "<style scoped>\n",
       "    .dataframe tbody tr th:only-of-type {\n",
       "        vertical-align: middle;\n",
       "    }\n",
       "\n",
       "    .dataframe tbody tr th {\n",
       "        vertical-align: top;\n",
       "    }\n",
       "\n",
       "    .dataframe thead th {\n",
       "        text-align: right;\n",
       "    }\n",
       "</style>\n",
       "<table border=\"1\" class=\"dataframe\">\n",
       "  <thead>\n",
       "    <tr style=\"text-align: right;\">\n",
       "      <th></th>\n",
       "      <th>MaxEnt</th>\n",
       "      <th>tree</th>\n",
       "    </tr>\n",
       "  </thead>\n",
       "  <tbody>\n",
       "    <tr>\n",
       "      <th>0</th>\n",
       "      <td>0.996071</td>\n",
       "      <td>0.998151</td>\n",
       "    </tr>\n",
       "    <tr>\n",
       "      <th>1</th>\n",
       "      <td>[BIO12, BIO8, BIO14, BIO5]</td>\n",
       "      <td>[BIO1, BIO12, BIO8, BIO5]</td>\n",
       "    </tr>\n",
       "  </tbody>\n",
       "</table>\n",
       "</div>"
      ],
      "text/plain": [
       "                       MaxEnt                       tree\n",
       "0                    0.996071                   0.998151\n",
       "1  [BIO12, BIO8, BIO14, BIO5]  [BIO1, BIO12, BIO8, BIO5]"
      ]
     },
     "metadata": {},
     "output_type": "display_data"
    },
    {
     "data": {
      "text/html": [
       "<h5> ~~~~~~~~~~~~~~~~~~~~~~~~~~~~~~~~~~~~~~~~~~~~~~~~~~~~~~~~~~~~~~~~~~~~~~~~~~~~~~~~~~~~~~~~~~ </h5>"
      ],
      "text/plain": [
       "<IPython.core.display.HTML object>"
      ]
     },
     "metadata": {},
     "output_type": "display_data"
    },
    {
     "data": {
      "image/png": "[encoded data removed]",
      "text/plain": [
       "<matplotlib.figure.Figure at 0x7fe500b36ac8>"
      ]
     },
     "metadata": {},
     "output_type": "display_data"
    },
    {
     "data": {
      "image/png": "[encoded data removed]",
      "text/plain": [
       "<matplotlib.figure.Figure at 0x7fe52f273ac8>"
      ]
     },
     "metadata": {},
     "output_type": "display_data"
    },
    {
     "data": {
      "text/html": [
       "<h5>=============== quercus crispula ======================</h5>"
      ],
      "text/plain": [
       "<IPython.core.display.HTML object>"
      ]
     },
     "metadata": {},
     "output_type": "display_data"
    },
    {
     "name": "stdout",
     "output_type": "stream",
     "text": [
      "Constructing the dataset...\n"
     ]
    },
    {
     "ename": "UnboundLocalError",
     "evalue": "local variable 'result' referenced before assignment",
     "output_type": "error",
     "traceback": [
      "\u001b[0;31m---------------------------------------------------------------------------\u001b[0m",
      "\u001b[0;31mTypeError\u001b[0m                                 Traceback (most recent call last)",
      "\u001b[0;32m~/workspace/pacific_sdm/bin/loader.py\u001b[0m in \u001b[0;36mget_predictor_data\u001b[0;34m(lats, lons, name, postfix)\u001b[0m\n\u001b[1;32m    171\u001b[0m         \u001b[0;32mtry\u001b[0m\u001b[0;34m:\u001b[0m\u001b[0;34m\u001b[0m\u001b[0m\n\u001b[0;32m--> 172\u001b[0;31m             \u001b[0mresult\u001b[0m \u001b[0;34m=\u001b[0m \u001b[0mglobals\u001b[0m\u001b[0;34m(\u001b[0m\u001b[0;34m)\u001b[0m\u001b[0;34m[\u001b[0m\u001b[0mPREDICTOR_LOADERS\u001b[0m\u001b[0;34m[\u001b[0m\u001b[0mname\u001b[0m\u001b[0;34m]\u001b[0m\u001b[0;34m]\u001b[0m\u001b[0;34m(\u001b[0m\u001b[0mlats\u001b[0m\u001b[0;34m,\u001b[0m \u001b[0mlons\u001b[0m\u001b[0;34m,\u001b[0m \u001b[0mname\u001b[0m\u001b[0;34m,\u001b[0m \u001b[0mpostfix\u001b[0m\u001b[0;34m=\u001b[0m\u001b[0mpostfix\u001b[0m\u001b[0;34m)\u001b[0m\u001b[0;34m\u001b[0m\u001b[0m\n\u001b[0m\u001b[1;32m    173\u001b[0m         \u001b[0;32mexcept\u001b[0m \u001b[0mTypeError\u001b[0m\u001b[0;34m:\u001b[0m\u001b[0;34m\u001b[0m\u001b[0m\n",
      "\u001b[0;31mTypeError\u001b[0m: get_bio_data() got an unexpected keyword argument 'postfix'",
      "\nDuring handling of the above exception, another exception occurred:\n",
      "\u001b[0;31mKeyboardInterrupt\u001b[0m                         Traceback (most recent call last)",
      "\u001b[0;32m~/workspace/pacific_sdm/bin/loader.py\u001b[0m in \u001b[0;36mget_predictor_data\u001b[0;34m(lats, lons, name, postfix)\u001b[0m\n\u001b[1;32m    173\u001b[0m         \u001b[0;32mexcept\u001b[0m \u001b[0mTypeError\u001b[0m\u001b[0;34m:\u001b[0m\u001b[0;34m\u001b[0m\u001b[0m\n\u001b[0;32m--> 174\u001b[0;31m             \u001b[0mresult\u001b[0m \u001b[0;34m=\u001b[0m \u001b[0mglobals\u001b[0m\u001b[0;34m(\u001b[0m\u001b[0;34m)\u001b[0m\u001b[0;34m[\u001b[0m\u001b[0mPREDICTOR_LOADERS\u001b[0m\u001b[0;34m[\u001b[0m\u001b[0mname\u001b[0m\u001b[0;34m]\u001b[0m\u001b[0;34m]\u001b[0m\u001b[0;34m(\u001b[0m\u001b[0mlats\u001b[0m\u001b[0;34m,\u001b[0m \u001b[0mlons\u001b[0m\u001b[0;34m,\u001b[0m \u001b[0mname\u001b[0m\u001b[0;34m+\u001b[0m\u001b[0mpostfix\u001b[0m\u001b[0;34m)\u001b[0m\u001b[0;34m\u001b[0m\u001b[0m\n\u001b[0m\u001b[1;32m    175\u001b[0m         \u001b[0;32mfinally\u001b[0m\u001b[0;34m:\u001b[0m\u001b[0;34m\u001b[0m\u001b[0m\n",
      "\u001b[0;32m~/workspace/pacific_sdm/bin/loader.py\u001b[0m in \u001b[0;36mget_bio_data\u001b[0;34m(lats, lons, name)\u001b[0m\n\u001b[1;32m     31\u001b[0m         \u001b[0;32mraise\u001b[0m \u001b[0mBaseException\u001b[0m\u001b[0;34m(\u001b[0m\u001b[0;34m\"xrot and yrot should be 0\"\u001b[0m\u001b[0;34m)\u001b[0m\u001b[0;34m\u001b[0m\u001b[0m\n\u001b[0;32m---> 32\u001b[0;31m     \u001b[0marray\u001b[0m \u001b[0;34m=\u001b[0m \u001b[0mdata\u001b[0m\u001b[0;34m.\u001b[0m\u001b[0mReadAsArray\u001b[0m\u001b[0;34m(\u001b[0m\u001b[0;34m)\u001b[0m\u001b[0;34m\u001b[0m\u001b[0m\n\u001b[0m\u001b[1;32m     33\u001b[0m     \u001b[0;32mdel\u001b[0m \u001b[0mdata\u001b[0m\u001b[0;34m\u001b[0m\u001b[0m\n",
      "\u001b[0;32m~/.pyenv/versions/3.5.4/envs/sci/lib/python3.5/site-packages/osgeo/gdal.py\u001b[0m in \u001b[0;36mReadAsArray\u001b[0;34m(self, xoff, yoff, xsize, ysize, buf_obj, buf_xsize, buf_ysize, buf_type, resample_alg, callback, callback_data)\u001b[0m\n\u001b[1;32m   1872\u001b[0m                                                \u001b[0mcallback\u001b[0m \u001b[0;34m=\u001b[0m \u001b[0mcallback\u001b[0m\u001b[0;34m,\u001b[0m\u001b[0;34m\u001b[0m\u001b[0m\n\u001b[0;32m-> 1873\u001b[0;31m                                                callback_data = callback_data )\n\u001b[0m\u001b[1;32m   1874\u001b[0m \u001b[0;34m\u001b[0m\u001b[0m\n",
      "\u001b[0;32m~/.pyenv/versions/3.5.4/envs/sci/lib/python3.5/site-packages/osgeo/gdal_array.py\u001b[0m in \u001b[0;36mDatasetReadAsArray\u001b[0;34m(ds, xoff, yoff, win_xsize, win_ysize, buf_obj, buf_xsize, buf_ysize, buf_type, resample_alg, callback, callback_data)\u001b[0m\n\u001b[1;32m    248\u001b[0m                                 \u001b[0mcallback\u001b[0m \u001b[0;34m=\u001b[0m \u001b[0mcallback\u001b[0m\u001b[0;34m,\u001b[0m\u001b[0;34m\u001b[0m\u001b[0m\n\u001b[0;32m--> 249\u001b[0;31m                                 callback_data = callback_data )\n\u001b[0m\u001b[1;32m    250\u001b[0m \u001b[0;34m\u001b[0m\u001b[0m\n",
      "\u001b[0;32m~/.pyenv/versions/3.5.4/envs/sci/lib/python3.5/site-packages/osgeo/gdal_array.py\u001b[0m in \u001b[0;36mBandReadAsArray\u001b[0;34m(band, xoff, yoff, win_xsize, win_ysize, buf_xsize, buf_ysize, buf_type, buf_obj, resample_alg, callback, callback_data)\u001b[0m\n\u001b[1;32m    346\u001b[0m     if BandRasterIONumPy( band, 0, xoff, yoff, win_xsize, win_ysize,\n\u001b[0;32m--> 347\u001b[0;31m                           buf_obj, buf_type, resample_alg, callback, callback_data ) != 0:\n\u001b[0m\u001b[1;32m    348\u001b[0m         \u001b[0;32mreturn\u001b[0m \u001b[0;32mNone\u001b[0m\u001b[0;34m\u001b[0m\u001b[0m\n",
      "\u001b[0;31mKeyboardInterrupt\u001b[0m: ",
      "\nDuring handling of the above exception, another exception occurred:\n",
      "\u001b[0;31mUnboundLocalError\u001b[0m                         Traceback (most recent call last)",
      "\u001b[0;32m<ipython-input-6-8278a8e7f4a4>\u001b[0m in \u001b[0;36m<module>\u001b[0;34m()\u001b[0m\n\u001b[1;32m     12\u001b[0m                      )\n\u001b[1;32m     13\u001b[0m     \u001b[0mprint\u001b[0m\u001b[0;34m(\u001b[0m\u001b[0;34m\"Constructing the dataset...\"\u001b[0m\u001b[0;34m)\u001b[0m\u001b[0;34m\u001b[0m\u001b[0m\n\u001b[0;32m---> 14\u001b[0;31m     \u001b[0maux_result\u001b[0m \u001b[0;34m=\u001b[0m \u001b[0mmodel\u001b[0m\u001b[0;34m.\u001b[0m\u001b[0mfit_transform\u001b[0m\u001b[0;34m(\u001b[0m\u001b[0moriginal_presence_data\u001b[0m\u001b[0;34m)\u001b[0m\u001b[0;34m\u001b[0m\u001b[0m\n\u001b[0m\u001b[1;32m     15\u001b[0m     \u001b[0mcurrent_variable_set\u001b[0m \u001b[0;34m=\u001b[0m \u001b[0mset\u001b[0m\u001b[0;34m(\u001b[0m\u001b[0mVARIABLE_SET\u001b[0m\u001b[0;34m)\u001b[0m\u001b[0;34m.\u001b[0m\u001b[0mintersection\u001b[0m\u001b[0;34m(\u001b[0m\u001b[0mset\u001b[0m\u001b[0;34m(\u001b[0m\u001b[0maux_result\u001b[0m\u001b[0;34m.\u001b[0m\u001b[0mcolumns\u001b[0m\u001b[0;34m.\u001b[0m\u001b[0mvalues\u001b[0m\u001b[0;34m)\u001b[0m\u001b[0;34m)\u001b[0m\u001b[0;34m\u001b[0m\u001b[0m\n\u001b[1;32m     16\u001b[0m     \u001b[0mprint\u001b[0m\u001b[0;34m(\u001b[0m\u001b[0;34m\"Removed correlated features: \"\u001b[0m\u001b[0;34m,\u001b[0m \u001b[0mset\u001b[0m\u001b[0;34m(\u001b[0m\u001b[0mVARIABLE_SET\u001b[0m\u001b[0;34m)\u001b[0m \u001b[0;34m-\u001b[0m \u001b[0mcurrent_variable_set\u001b[0m\u001b[0;34m)\u001b[0m\u001b[0;34m\u001b[0m\u001b[0m\n",
      "\u001b[0;32m~/.pyenv/versions/3.5.4/envs/sci/lib/python3.5/site-packages/sklearn/pipeline.py\u001b[0m in \u001b[0;36mfit_transform\u001b[0;34m(self, X, y, **fit_params)\u001b[0m\n\u001b[1;32m    279\u001b[0m         \"\"\"\n\u001b[1;32m    280\u001b[0m         \u001b[0mlast_step\u001b[0m \u001b[0;34m=\u001b[0m \u001b[0mself\u001b[0m\u001b[0;34m.\u001b[0m\u001b[0m_final_estimator\u001b[0m\u001b[0;34m\u001b[0m\u001b[0m\n\u001b[0;32m--> 281\u001b[0;31m         \u001b[0mXt\u001b[0m\u001b[0;34m,\u001b[0m \u001b[0mfit_params\u001b[0m \u001b[0;34m=\u001b[0m \u001b[0mself\u001b[0m\u001b[0;34m.\u001b[0m\u001b[0m_fit\u001b[0m\u001b[0;34m(\u001b[0m\u001b[0mX\u001b[0m\u001b[0;34m,\u001b[0m \u001b[0my\u001b[0m\u001b[0;34m,\u001b[0m \u001b[0;34m**\u001b[0m\u001b[0mfit_params\u001b[0m\u001b[0;34m)\u001b[0m\u001b[0;34m\u001b[0m\u001b[0m\n\u001b[0m\u001b[1;32m    282\u001b[0m         \u001b[0;32mif\u001b[0m \u001b[0mhasattr\u001b[0m\u001b[0;34m(\u001b[0m\u001b[0mlast_step\u001b[0m\u001b[0;34m,\u001b[0m \u001b[0;34m'fit_transform'\u001b[0m\u001b[0;34m)\u001b[0m\u001b[0;34m:\u001b[0m\u001b[0;34m\u001b[0m\u001b[0m\n\u001b[1;32m    283\u001b[0m             \u001b[0;32mreturn\u001b[0m \u001b[0mlast_step\u001b[0m\u001b[0;34m.\u001b[0m\u001b[0mfit_transform\u001b[0m\u001b[0;34m(\u001b[0m\u001b[0mXt\u001b[0m\u001b[0;34m,\u001b[0m \u001b[0my\u001b[0m\u001b[0;34m,\u001b[0m \u001b[0;34m**\u001b[0m\u001b[0mfit_params\u001b[0m\u001b[0;34m)\u001b[0m\u001b[0;34m\u001b[0m\u001b[0m\n",
      "\u001b[0;32m~/.pyenv/versions/3.5.4/envs/sci/lib/python3.5/site-packages/sklearn/pipeline.py\u001b[0m in \u001b[0;36m_fit\u001b[0;34m(self, X, y, **fit_params)\u001b[0m\n\u001b[1;32m    211\u001b[0m                 Xt, fitted_transformer = fit_transform_one_cached(\n\u001b[1;32m    212\u001b[0m                     \u001b[0mcloned_transformer\u001b[0m\u001b[0;34m,\u001b[0m \u001b[0;32mNone\u001b[0m\u001b[0;34m,\u001b[0m \u001b[0mXt\u001b[0m\u001b[0;34m,\u001b[0m \u001b[0my\u001b[0m\u001b[0;34m,\u001b[0m\u001b[0;34m\u001b[0m\u001b[0m\n\u001b[0;32m--> 213\u001b[0;31m                     **fit_params_steps[name])\n\u001b[0m\u001b[1;32m    214\u001b[0m                 \u001b[0;31m# Replace the transformer of the step with the fitted\u001b[0m\u001b[0;34m\u001b[0m\u001b[0;34m\u001b[0m\u001b[0m\n\u001b[1;32m    215\u001b[0m                 \u001b[0;31m# transformer. This is necessary when loading the transformer\u001b[0m\u001b[0;34m\u001b[0m\u001b[0;34m\u001b[0m\u001b[0m\n",
      "\u001b[0;32m~/.pyenv/versions/3.5.4/envs/sci/lib/python3.5/site-packages/sklearn/externals/joblib/memory.py\u001b[0m in \u001b[0;36m__call__\u001b[0;34m(self, *args, **kwargs)\u001b[0m\n\u001b[1;32m    360\u001b[0m \u001b[0;34m\u001b[0m\u001b[0m\n\u001b[1;32m    361\u001b[0m     \u001b[0;32mdef\u001b[0m \u001b[0m__call__\u001b[0m\u001b[0;34m(\u001b[0m\u001b[0mself\u001b[0m\u001b[0;34m,\u001b[0m \u001b[0;34m*\u001b[0m\u001b[0margs\u001b[0m\u001b[0;34m,\u001b[0m \u001b[0;34m**\u001b[0m\u001b[0mkwargs\u001b[0m\u001b[0;34m)\u001b[0m\u001b[0;34m:\u001b[0m\u001b[0;34m\u001b[0m\u001b[0m\n\u001b[0;32m--> 362\u001b[0;31m         \u001b[0;32mreturn\u001b[0m \u001b[0mself\u001b[0m\u001b[0;34m.\u001b[0m\u001b[0mfunc\u001b[0m\u001b[0;34m(\u001b[0m\u001b[0;34m*\u001b[0m\u001b[0margs\u001b[0m\u001b[0;34m,\u001b[0m \u001b[0;34m**\u001b[0m\u001b[0mkwargs\u001b[0m\u001b[0;34m)\u001b[0m\u001b[0;34m\u001b[0m\u001b[0m\n\u001b[0m\u001b[1;32m    363\u001b[0m \u001b[0;34m\u001b[0m\u001b[0m\n\u001b[1;32m    364\u001b[0m     \u001b[0;32mdef\u001b[0m \u001b[0mcall_and_shelve\u001b[0m\u001b[0;34m(\u001b[0m\u001b[0mself\u001b[0m\u001b[0;34m,\u001b[0m \u001b[0;34m*\u001b[0m\u001b[0margs\u001b[0m\u001b[0;34m,\u001b[0m \u001b[0;34m**\u001b[0m\u001b[0mkwargs\u001b[0m\u001b[0;34m)\u001b[0m\u001b[0;34m:\u001b[0m\u001b[0;34m\u001b[0m\u001b[0m\n",
      "\u001b[0;32m~/.pyenv/versions/3.5.4/envs/sci/lib/python3.5/site-packages/sklearn/pipeline.py\u001b[0m in \u001b[0;36m_fit_transform_one\u001b[0;34m(transformer, weight, X, y, **fit_params)\u001b[0m\n\u001b[1;32m    579\u001b[0m                        **fit_params):\n\u001b[1;32m    580\u001b[0m     \u001b[0;32mif\u001b[0m \u001b[0mhasattr\u001b[0m\u001b[0;34m(\u001b[0m\u001b[0mtransformer\u001b[0m\u001b[0;34m,\u001b[0m \u001b[0;34m'fit_transform'\u001b[0m\u001b[0;34m)\u001b[0m\u001b[0;34m:\u001b[0m\u001b[0;34m\u001b[0m\u001b[0m\n\u001b[0;32m--> 581\u001b[0;31m         \u001b[0mres\u001b[0m \u001b[0;34m=\u001b[0m \u001b[0mtransformer\u001b[0m\u001b[0;34m.\u001b[0m\u001b[0mfit_transform\u001b[0m\u001b[0;34m(\u001b[0m\u001b[0mX\u001b[0m\u001b[0;34m,\u001b[0m \u001b[0my\u001b[0m\u001b[0;34m,\u001b[0m \u001b[0;34m**\u001b[0m\u001b[0mfit_params\u001b[0m\u001b[0;34m)\u001b[0m\u001b[0;34m\u001b[0m\u001b[0m\n\u001b[0m\u001b[1;32m    582\u001b[0m     \u001b[0;32melse\u001b[0m\u001b[0;34m:\u001b[0m\u001b[0;34m\u001b[0m\u001b[0m\n\u001b[1;32m    583\u001b[0m         \u001b[0mres\u001b[0m \u001b[0;34m=\u001b[0m \u001b[0mtransformer\u001b[0m\u001b[0;34m.\u001b[0m\u001b[0mfit\u001b[0m\u001b[0;34m(\u001b[0m\u001b[0mX\u001b[0m\u001b[0;34m,\u001b[0m \u001b[0my\u001b[0m\u001b[0;34m,\u001b[0m \u001b[0;34m**\u001b[0m\u001b[0mfit_params\u001b[0m\u001b[0;34m)\u001b[0m\u001b[0;34m.\u001b[0m\u001b[0mtransform\u001b[0m\u001b[0;34m(\u001b[0m\u001b[0mX\u001b[0m\u001b[0;34m)\u001b[0m\u001b[0;34m\u001b[0m\u001b[0m\n",
      "\u001b[0;32m~/.pyenv/versions/3.5.4/envs/sci/lib/python3.5/site-packages/sklearn/base.py\u001b[0m in \u001b[0;36mfit_transform\u001b[0;34m(self, X, y, **fit_params)\u001b[0m\n\u001b[1;32m    515\u001b[0m         \u001b[0;32mif\u001b[0m \u001b[0my\u001b[0m \u001b[0;32mis\u001b[0m \u001b[0;32mNone\u001b[0m\u001b[0;34m:\u001b[0m\u001b[0;34m\u001b[0m\u001b[0m\n\u001b[1;32m    516\u001b[0m             \u001b[0;31m# fit method of arity 1 (unsupervised transformation)\u001b[0m\u001b[0;34m\u001b[0m\u001b[0;34m\u001b[0m\u001b[0m\n\u001b[0;32m--> 517\u001b[0;31m             \u001b[0;32mreturn\u001b[0m \u001b[0mself\u001b[0m\u001b[0;34m.\u001b[0m\u001b[0mfit\u001b[0m\u001b[0;34m(\u001b[0m\u001b[0mX\u001b[0m\u001b[0;34m,\u001b[0m \u001b[0;34m**\u001b[0m\u001b[0mfit_params\u001b[0m\u001b[0;34m)\u001b[0m\u001b[0;34m.\u001b[0m\u001b[0mtransform\u001b[0m\u001b[0;34m(\u001b[0m\u001b[0mX\u001b[0m\u001b[0;34m)\u001b[0m\u001b[0;34m\u001b[0m\u001b[0m\n\u001b[0m\u001b[1;32m    518\u001b[0m         \u001b[0;32melse\u001b[0m\u001b[0;34m:\u001b[0m\u001b[0;34m\u001b[0m\u001b[0m\n\u001b[1;32m    519\u001b[0m             \u001b[0;31m# fit method of arity 2 (supervised transformation)\u001b[0m\u001b[0;34m\u001b[0m\u001b[0;34m\u001b[0m\u001b[0m\n",
      "\u001b[0;32m~/workspace/pacific_sdm/bin/model.py\u001b[0m in \u001b[0;36mtransform\u001b[0;34m(self, df, y)\u001b[0m\n\u001b[1;32m    155\u001b[0m         \u001b[0mdf_cand\u001b[0m \u001b[0;34m=\u001b[0m \u001b[0mpd\u001b[0m\u001b[0;34m.\u001b[0m\u001b[0mDataFrame\u001b[0m\u001b[0;34m(\u001b[0m\u001b[0;34m{\u001b[0m\u001b[0;34m'latitude'\u001b[0m\u001b[0;34m:\u001b[0m\u001b[0mlats_candidates\u001b[0m\u001b[0;34m,\u001b[0m \u001b[0;34m'longitude'\u001b[0m\u001b[0;34m:\u001b[0m \u001b[0mlons_candidates\u001b[0m\u001b[0;34m}\u001b[0m\u001b[0;34m)\u001b[0m\u001b[0;34m\u001b[0m\u001b[0m\n\u001b[1;32m    156\u001b[0m         \u001b[0mfiller\u001b[0m \u001b[0;34m=\u001b[0m \u001b[0mFillEnvironmentalData\u001b[0m\u001b[0;34m(\u001b[0m\u001b[0mvariables\u001b[0m\u001b[0;34m=\u001b[0m\u001b[0mvariables\u001b[0m\u001b[0;34m)\u001b[0m\u001b[0;34m\u001b[0m\u001b[0m\n\u001b[0;32m--> 157\u001b[0;31m         \u001b[0mdata_candidates\u001b[0m \u001b[0;34m=\u001b[0m \u001b[0mfiller\u001b[0m\u001b[0;34m.\u001b[0m\u001b[0mfit_transform\u001b[0m\u001b[0;34m(\u001b[0m\u001b[0mdf_cand\u001b[0m\u001b[0;34m)\u001b[0m\u001b[0;34m\u001b[0m\u001b[0m\n\u001b[0m\u001b[1;32m    158\u001b[0m         \u001b[0mdata_presence\u001b[0m \u001b[0;34m=\u001b[0m \u001b[0mdf_\u001b[0m\u001b[0;34m.\u001b[0m\u001b[0mloc\u001b[0m\u001b[0;34m[\u001b[0m\u001b[0;34m:\u001b[0m\u001b[0;34m,\u001b[0m \u001b[0mvariables\u001b[0m\u001b[0;34m]\u001b[0m\u001b[0;34m.\u001b[0m\u001b[0mvalues\u001b[0m\u001b[0;34m\u001b[0m\u001b[0m\n\u001b[1;32m    159\u001b[0m         \u001b[0mcandidate_values\u001b[0m \u001b[0;34m=\u001b[0m \u001b[0mdata_candidates\u001b[0m\u001b[0;34m.\u001b[0m\u001b[0mloc\u001b[0m\u001b[0;34m[\u001b[0m\u001b[0;34m:\u001b[0m\u001b[0;34m,\u001b[0m \u001b[0mvariables\u001b[0m\u001b[0;34m]\u001b[0m\u001b[0;34m.\u001b[0m\u001b[0mvalues\u001b[0m\u001b[0;34m\u001b[0m\u001b[0m\n",
      "\u001b[0;32m~/.pyenv/versions/3.5.4/envs/sci/lib/python3.5/site-packages/sklearn/base.py\u001b[0m in \u001b[0;36mfit_transform\u001b[0;34m(self, X, y, **fit_params)\u001b[0m\n\u001b[1;32m    515\u001b[0m         \u001b[0;32mif\u001b[0m \u001b[0my\u001b[0m \u001b[0;32mis\u001b[0m \u001b[0;32mNone\u001b[0m\u001b[0;34m:\u001b[0m\u001b[0;34m\u001b[0m\u001b[0m\n\u001b[1;32m    516\u001b[0m             \u001b[0;31m# fit method of arity 1 (unsupervised transformation)\u001b[0m\u001b[0;34m\u001b[0m\u001b[0;34m\u001b[0m\u001b[0m\n\u001b[0;32m--> 517\u001b[0;31m             \u001b[0;32mreturn\u001b[0m \u001b[0mself\u001b[0m\u001b[0;34m.\u001b[0m\u001b[0mfit\u001b[0m\u001b[0;34m(\u001b[0m\u001b[0mX\u001b[0m\u001b[0;34m,\u001b[0m \u001b[0;34m**\u001b[0m\u001b[0mfit_params\u001b[0m\u001b[0;34m)\u001b[0m\u001b[0;34m.\u001b[0m\u001b[0mtransform\u001b[0m\u001b[0;34m(\u001b[0m\u001b[0mX\u001b[0m\u001b[0;34m)\u001b[0m\u001b[0;34m\u001b[0m\u001b[0m\n\u001b[0m\u001b[1;32m    518\u001b[0m         \u001b[0;32melse\u001b[0m\u001b[0;34m:\u001b[0m\u001b[0;34m\u001b[0m\u001b[0m\n\u001b[1;32m    519\u001b[0m             \u001b[0;31m# fit method of arity 2 (supervised transformation)\u001b[0m\u001b[0;34m\u001b[0m\u001b[0;34m\u001b[0m\u001b[0m\n",
      "\u001b[0;32m~/workspace/pacific_sdm/bin/model.py\u001b[0m in \u001b[0;36mtransform\u001b[0;34m(self, df, y)\u001b[0m\n\u001b[1;32m    190\u001b[0m             values = get_predictor_data(tuple(df_['latitude'].values),\n\u001b[1;32m    191\u001b[0m                                         \u001b[0mtuple\u001b[0m\u001b[0;34m(\u001b[0m\u001b[0mdf_\u001b[0m\u001b[0;34m[\u001b[0m\u001b[0;34m'longitude'\u001b[0m\u001b[0;34m]\u001b[0m\u001b[0;34m.\u001b[0m\u001b[0mvalues\u001b[0m\u001b[0;34m)\u001b[0m\u001b[0;34m,\u001b[0m \u001b[0mvar\u001b[0m\u001b[0;34m,\u001b[0m\u001b[0;34m\u001b[0m\u001b[0m\n\u001b[0;32m--> 192\u001b[0;31m                                         postfix=self.postfix_)\n\u001b[0m\u001b[1;32m    193\u001b[0m             \u001b[0mdf_\u001b[0m\u001b[0;34m[\u001b[0m\u001b[0mvar\u001b[0m\u001b[0;34m]\u001b[0m \u001b[0;34m=\u001b[0m \u001b[0mvalues\u001b[0m\u001b[0;34m\u001b[0m\u001b[0m\n\u001b[1;32m    194\u001b[0m         \u001b[0;32mreturn\u001b[0m \u001b[0mdf_\u001b[0m\u001b[0;34m.\u001b[0m\u001b[0mdropna\u001b[0m\u001b[0;34m(\u001b[0m\u001b[0;34m)\u001b[0m\u001b[0;34m.\u001b[0m\u001b[0mreset_index\u001b[0m\u001b[0;34m(\u001b[0m\u001b[0mdrop\u001b[0m\u001b[0;34m=\u001b[0m\u001b[0;32mTrue\u001b[0m\u001b[0;34m)\u001b[0m\u001b[0;34m\u001b[0m\u001b[0m\n",
      "\u001b[0;32m~/workspace/pacific_sdm/bin/loader.py\u001b[0m in \u001b[0;36mget_predictor_data\u001b[0;34m(lats, lons, name, postfix)\u001b[0m\n\u001b[1;32m    174\u001b[0m             \u001b[0mresult\u001b[0m \u001b[0;34m=\u001b[0m \u001b[0mglobals\u001b[0m\u001b[0;34m(\u001b[0m\u001b[0;34m)\u001b[0m\u001b[0;34m[\u001b[0m\u001b[0mPREDICTOR_LOADERS\u001b[0m\u001b[0;34m[\u001b[0m\u001b[0mname\u001b[0m\u001b[0;34m]\u001b[0m\u001b[0;34m]\u001b[0m\u001b[0;34m(\u001b[0m\u001b[0mlats\u001b[0m\u001b[0;34m,\u001b[0m \u001b[0mlons\u001b[0m\u001b[0;34m,\u001b[0m \u001b[0mname\u001b[0m\u001b[0;34m+\u001b[0m\u001b[0mpostfix\u001b[0m\u001b[0;34m)\u001b[0m\u001b[0;34m\u001b[0m\u001b[0m\n\u001b[1;32m    175\u001b[0m         \u001b[0;32mfinally\u001b[0m\u001b[0;34m:\u001b[0m\u001b[0;34m\u001b[0m\u001b[0m\n\u001b[0;32m--> 176\u001b[0;31m             \u001b[0;32mreturn\u001b[0m \u001b[0mresult\u001b[0m\u001b[0;34m\u001b[0m\u001b[0m\n\u001b[0m\u001b[1;32m    177\u001b[0m     \u001b[0;32melse\u001b[0m\u001b[0;34m:\u001b[0m\u001b[0;34m\u001b[0m\u001b[0m\n\u001b[1;32m    178\u001b[0m         \u001b[0;32mraise\u001b[0m \u001b[0mBaseException\u001b[0m\u001b[0;34m(\u001b[0m\u001b[0;34m\"The method for computation of %s isn't defined\"\u001b[0m \u001b[0;34m%\u001b[0m \u001b[0mname\u001b[0m\u001b[0;34m)\u001b[0m\u001b[0;34m\u001b[0m\u001b[0m\n",
      "\u001b[0;31mUnboundLocalError\u001b[0m: local variable 'result' referenced before assignment"
     ]
    }
   ],
   "source": [
    "\n",
    "for species in MODEL_SPECIES:\n",
    "    display(HTML('<h5>=============== %s ======================</h5>' % species))\n",
    "    classifier_stats_acc, classifier_stats_auc = [], []\n",
    "    model = Pipeline([('select_species', SelectSpecies(species)), \n",
    "                      ('prune_suspicious', PruneSuspiciousCoords()),\n",
    "                      ('ps_absence', FillPseudoAbsenceData(density=PSEUDO_ABSENCE_DENSITY)),\n",
    "                      ('fill_env', FillEnvironmentalData(VARIABLE_SET)),\n",
    "                      ('fill_by_cond', FillPseudoAbsenceByConditions(species=species, similarity=0.2, density=1)),\n",
    "                      ('exclude_by_corr', CorrelationPruner(threshold=0.9, variables=VARIABLE_SET))\n",
    "                     ]\n",
    "                     )\n",
    "    print(\"Constructing the dataset...\")\n",
    "    aux_result = model.fit_transform(original_presence_data)\n",
    "    current_variable_set = set(VARIABLE_SET).intersection(set(aux_result.columns.values))\n",
    "    print(\"Removed correlated features: \", set(VARIABLE_SET) - current_variable_set)\n",
    "    print(\"Leaved features: \", current_variable_set)\n",
    "    current_variable_set = list(current_variable_set)\n",
    "    X, y = aux_result[current_variable_set].values, list(map(int, ~aux_result.absence))\n",
    "    print(\"Dataset is formed.\")\n",
    "    aux_result.info()\n",
    "    for name, clf in CLASSIFIERS:\n",
    "        std_clf = TweakedPipeline([('scaler', StandardScaler()),\n",
    "                         ('classificator', clf)])\n",
    "        print(\"Preforming recursive feature ellimination for the <%s> classifier...\" % name)\n",
    "        rfecv_acc = RFECV(estimator=std_clf, step=1, cv=StratifiedKFold(KFOLDS_NUMBER, shuffle=True),\n",
    "                      scoring='accuracy')\n",
    "        rfecv_acc.fit(X, y)\n",
    "        acc_score = np.array(rfecv_acc.grid_scores_)[np.argmax(rfecv_acc.grid_scores_)]\n",
    "        rfecv_auc = RFECV(estimator=std_clf, step=1, cv=StratifiedKFold(KFOLDS_NUMBER, shuffle=True),\n",
    "                      scoring='roc_auc')\n",
    "        rfecv_auc.fit(X, y)\n",
    "        auc_score = np.array(rfecv_auc.grid_scores_)[np.argmax(rfecv_auc.grid_scores_)]\n",
    "        classifier_stats_acc.append((name, acc_score, std_clf, rfecv_acc.support_))\n",
    "        classifier_stats_auc.append((name, auc_score, std_clf, rfecv_auc.support_))\n",
    "    acc_optimal_name, acc_optimal_score, acc_optimal_clf, acc_optimal_mask = tuple(classifier_stats_acc[np.argmax(list(map(lambda x: x[1], classifier_stats_acc)))])\n",
    "    auc_optimal_name, auc_optimal_score, auc_optimal_clf, auc_optimal_mask = tuple(classifier_stats_auc[np.argmax(list(map(lambda x: x[1], classifier_stats_auc)))])\n",
    "    display(HTML('<h5> --------------- Summary for %s: --------------- </h5>' % species))\n",
    "    print(\"The best classifier is %s. Its accuracy score is %s.\" % (acc_optimal_name, acc_optimal_score))\n",
    "    print(\"Optimal predictor set (acc): \",  np.array(current_variable_set)[acc_optimal_mask])\n",
    "    print(\"The best classifier is %s. Its roc/auc score is %s.\" % (auc_optimal_name, auc_optimal_score))\n",
    "    print(\"Optimal predictor set (auc): \",  np.array(current_variable_set)[auc_optimal_mask])\n",
    "    print(\"Statistic over all classifiers: \")\n",
    "    print(\"AUC/ROC - Case:\")\n",
    "    df = pd.DataFrame({n[0]: [n[1], np.array(current_variable_set)[n[-1]][:5]] for n in classifier_stats_auc})\n",
    "    display(df)\n",
    "    print(\"Precision - Case:\")\n",
    "    df = pd.DataFrame({n[0]: [n[1], np.array(current_variable_set)[n[-1]][:5]] for n in classifier_stats_acc})\n",
    "    display(df)\n",
    "    display(HTML('<h5> %s </h5>' % (\"~\" * 90,)))\n",
    "    \n",
    "    # ---- \n",
    "    LATS = np.linspace(21, 69, 1000)\n",
    "    LONS = np.linspace(101, 169, 1000)\n",
    "    LATS_GRID, LONS_GRID = np.meshgrid(LATS, LONS)\n",
    "    \n",
    "    optimal_vars = list(np.array(current_variable_set)[auc_optimal_mask])\n",
    "    \n",
    "    fill_env = FillEnvironmentalData(optimal_vars)\n",
    "    map_df = pd.DataFrame({'latitude': LATS_GRID.ravel(),\n",
    "                           'longitude': LONS_GRID.ravel()})\n",
    "    X, y = aux_result[optimal_vars].values, list(map(int, ~aux_result.absence))\n",
    "    auc_optimal_clf.fit(X, y)\n",
    "    #fill_env.fit(map_df)\n",
    "\n",
    "    # ---- Current distribution\n",
    "    filled_df = fill_env.transform_nans(map_df)\n",
    "    XMAP = filled_df.loc[:, optimal_vars].values\n",
    "    nan_mask = np.any(np.isnan(XMAP), axis=1)\n",
    "    predictions = np.zeros((len(nan_mask), 2)) * np.nan\n",
    "    \n",
    "    predictions[~nan_mask, :] = auc_optimal_clf.predict_proba(XMAP[~nan_mask,:])\n",
    "    presence_proba_current = predictions[:, 1]\n",
    "    plt.figure()\n",
    "    plt.contourf(LONS_GRID, LATS_GRID, presence_proba_current.reshape(1000,1000))\n",
    "    plt.title('Present')\n",
    "    plt.show()\n",
    "    \n",
    "    fill_env = FillEnvironmentalData(optimal_vars, postfix='_50cc26')\n",
    "    filled_df = fill_env.transform_nans(map_df)\n",
    "    XMAP_f = filled_df.loc[:, optimal_vars].values\n",
    "    nan_mask_future = np.any(np.isnan(XMAP_f), axis=1)\n",
    "    predictions_future = np.zeros((len(nan_mask_future), 2)) * np.nan\n",
    "    \n",
    "    predictions_future[~nan_mask_future, :] = auc_optimal_clf.predict_proba(XMAP_f[~nan_mask_future,:])\n",
    "    presence_proba_future = predictions_future[:, 1]\n",
    "    plt.figure()\n",
    "    plt.contourf(LONS_GRID, LATS_GRID, presence_proba_future.reshape(1000,1000))\n",
    "    plt.title('Future: 50cc26')\n",
    "    plt.show()\n",
    "    \n",
    "    \n",
    "    \n",
    "    \n",
    "    \n",
    "   "
   ]
  }
 ],
 "metadata": {
  "kernelspec": {
   "display_name": "Python 3",
   "language": "python",
   "name": "python3"
  },
  "language_info": {
   "codemirror_mode": {
    "name": "ipython",
    "version": 3
   },
   "file_extension": ".py",
   "mimetype": "text/x-python",
   "name": "python",
   "nbconvert_exporter": "python",
   "pygments_lexer": "ipython3",
   "version": "3.5.4"
  }
 },
 "nbformat": 4,
 "nbformat_minor": 2
}
