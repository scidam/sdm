{
 "cells": [
  {
   "cell_type": "markdown",
   "metadata": {},
   "source": [
    "# Basic modelling module"
   ]
  },
  {
   "cell_type": "code",
   "execution_count": 1,
   "metadata": {},
   "outputs": [
    {
     "name": "stdout",
     "output_type": "stream",
     "text": [
      "Using matplotlib backend: TkAgg\n"
     ]
    }
   ],
   "source": [
    "# make plots be included into this doc\n",
    "%matplotlib auto"
   ]
  },
  {
   "cell_type": "markdown",
   "metadata": {},
   "source": [
    "# Importing modules"
   ]
  },
  {
   "cell_type": "code",
   "execution_count": 2,
   "metadata": {},
   "outputs": [],
   "source": [
    "import numpy as np\n",
    "import pandas as pd\n",
    "import os\n",
    "from IPython.core.display import display, HTML\n",
    "from bin.model import *\n",
    "from sklearn.pipeline import Pipeline\n",
    "from bin.conf import PREDICTOR_LOADERS\n",
    "from bin.loader import get_predictor_data\n",
    "from sklearn.model_selection import StratifiedKFold\n",
    "from sklearn.feature_selection import RFECV\n",
    "from sklearn.linear_model import LogisticRegression\n",
    "from sklearn.discriminant_analysis import LinearDiscriminantAnalysis\n",
    "from sklearn.naive_bayes import GaussianNB\n",
    "from sklearn.pipeline import make_pipeline\n",
    "from sklearn.preprocessing import StandardScaler\n",
    "from sklearn.tree import DecisionTreeClassifier\n",
    "from sklearn.svm import SVC\n",
    "import matplotlib.pyplot as plt"
   ]
  },
  {
   "cell_type": "markdown",
   "metadata": {},
   "source": [
    "# Constants definitions"
   ]
  },
  {
   "cell_type": "code",
   "execution_count": 3,
   "metadata": {},
   "outputs": [],
   "source": [
    "SOURCE_DATA_PATH = './data' # relative (or absolute) path to the data directory\n",
    "CSV_SEPARATOR = r';' # separator used in csv data files\n",
    "DATA_FILE_NAMES = ['Quercus.csv',# all data files should be in the same format\n",
    "                   'All_data.csv',\n",
    "                   ] \n",
    "ALLOWED_COLUMNS = ['species', 'latitude', 'longitude'] # only these columns will be retained for computations\n",
    "COLUMNS_DTYPES = [np.str, np.float64, np.float64] # Should have the same length as ALLOWED_COLUMNS\n",
    "MODEL_SPECIES = ['quercus mongolica',\n",
    "                 'kalopanax septemlobus',\n",
    "                 'quercus',\n",
    "                 'quercus crispula',\n",
    "                 'fraxinus mandshurica'] # all  species should be given in lowercase format\n",
    "\n",
    "# Initial set of variables (see conf.py: PREDICTOR_LOADERS parameter for details)\n",
    "VARIABLE_SET = ('WKI5', 'PCKI0','PWKI0', 'CKI5', 'IT', 'IC', 'TMINM', 'TMAXM')\n",
    "VARIABLE_SET += tuple(['WKI' + str(k) for k in range(2, 7)])\n",
    "VARIABLE_SET += tuple(['CKI' + str(k) for k in range(2, 7)])\n",
    "VARIABLE_SET += tuple(['BIO' + str(k) for k in range(1, 20)])\n",
    "VARIABLE_SET += ('PWKI0', 'PCKI0','IT', 'IC', 'TMINM', 'TMAXM')\n",
    "VARIABLE_SET += tuple(['PREC' + str(k) for k in range(1, 13)])\n",
    "VARIABLE_SET += tuple(['TAVG' + str(k) for k in range(1, 13)])\n",
    "VARIABLE_SET += tuple(['TMIN' + str(k) for k in range(1, 13)])\n",
    "VARIABLE_SET += tuple(['TMAX' + str(k) for k in range(1, 13)])\n",
    "VARIABLE_SET = tuple(set(VARIABLE_SET)) # remove duplicate variables if they are exist\n",
    "\n",
    "CLASSIFIERS = [ ('tree', DecisionTreeClassifier(random_state=10)),\n",
    "                ('MaxEnt', LogisticRegression()),\n",
    "                #('SVM', SVC(kernel='linear'))\n",
    "                #('LDA', LinearDiscriminantAnalysis())\n",
    "              ]\n",
    "KFOLDS_NUMBER = 20\n",
    "PSEUDO_ABSENCE_DENSITY = 0.02"
   ]
  },
  {
   "cell_type": "markdown",
   "metadata": {},
   "source": [
    "# Source data loading and preprocessing"
   ]
  },
  {
   "cell_type": "code",
   "execution_count": 4,
   "metadata": {},
   "outputs": [
    {
     "name": "stdout",
     "output_type": "stream",
     "text": [
      "The file Quercus.csv succesfully loaded.\n",
      "File overview:\n",
      "<class 'pandas.core.frame.DataFrame'>\n",
      "RangeIndex: 605 entries, 0 to 604\n",
      "Data columns (total 3 columns):\n",
      "species      605 non-null object\n",
      "latitude     604 non-null float64\n",
      "longitude    604 non-null float64\n",
      "dtypes: float64(2), object(1)\n",
      "memory usage: 14.3+ KB\n",
      "==================================================\n",
      "The file All_data.csv succesfully loaded.\n",
      "File overview:\n",
      "<class 'pandas.core.frame.DataFrame'>\n",
      "RangeIndex: 500 entries, 0 to 499\n",
      "Data columns (total 3 columns):\n",
      "species      500 non-null object\n",
      "latitude     500 non-null float64\n",
      "longitude    500 non-null float64\n",
      "dtypes: float64(2), object(1)\n",
      "memory usage: 11.8+ KB\n",
      "==================================================\n"
     ]
    },
    {
     "data": {
      "text/html": [
       "<h3>Original size: 1105</h3>"
      ],
      "text/plain": [
       "<IPython.core.display.HTML object>"
      ]
     },
     "metadata": {},
     "output_type": "display_data"
    },
    {
     "data": {
      "text/html": [
       "<h3>The size after duplications removal: 853</h3>"
      ],
      "text/plain": [
       "<IPython.core.display.HTML object>"
      ]
     },
     "metadata": {},
     "output_type": "display_data"
    }
   ],
   "source": [
    "original_presence_data = pd.DataFrame({col: [] for col in ALLOWED_COLUMNS}) #initialize dataframe-accumulator\n",
    "for filename in DATA_FILE_NAMES:\n",
    "    try:\n",
    "        # data loading procedure\n",
    "        data = pd.read_csv(os.path.join(SOURCE_DATA_PATH, filename),\n",
    "                           sep=CSV_SEPARATOR, dtype={a:b for a,b in zip(ALLOWED_COLUMNS, COLUMNS_DTYPES)})\n",
    "    except IOError:\n",
    "        print(\"Couldn't read the file %s.\" % filename)\n",
    "    if any(data):\n",
    "        print('The file %s succesfully loaded.' % filename)\n",
    "        print('File overview:')\n",
    "        data.info()\n",
    "        print('='*50)\n",
    "    # data concatenation procedure\n",
    "    original_presence_data = pd.concat([original_presence_data, data[ALLOWED_COLUMNS]], ignore_index=True)\n",
    "\n",
    "# make species names lowercased and stripped\n",
    "original_presence_data['species'] = original_presence_data['species'].apply(str.lower).apply(str.strip)\n",
    "\n",
    "display(HTML('<h3>Original size: %s</h3>'%original_presence_data['species'].size))\n",
    "\n",
    "# remove duplicate rows and nan values\n",
    "original_presence_data = original_presence_data.dropna().drop_duplicates(ALLOWED_COLUMNS).reset_index(drop=True)\n",
    "display(HTML('<h3>The size after duplications removal: %s</h3>'%original_presence_data['species'].size))\n"
   ]
  },
  {
   "cell_type": "markdown",
   "metadata": {},
   "source": [
    "## Initial dataset overview"
   ]
  },
  {
   "cell_type": "code",
   "execution_count": 5,
   "metadata": {},
   "outputs": [
    {
     "data": {
      "text/html": [
       "<h3>General info:</h3>"
      ],
      "text/plain": [
       "<IPython.core.display.HTML object>"
      ]
     },
     "metadata": {},
     "output_type": "display_data"
    },
    {
     "name": "stdout",
     "output_type": "stream",
     "text": [
      "<class 'pandas.core.frame.DataFrame'>\n",
      "RangeIndex: 853 entries, 0 to 852\n",
      "Data columns (total 3 columns):\n",
      "latitude     853 non-null float64\n",
      "longitude    853 non-null float64\n",
      "species      853 non-null object\n",
      "dtypes: float64(2), object(1)\n",
      "memory usage: 20.1+ KB\n"
     ]
    },
    {
     "data": {
      "text/html": [
       "<h3>Species occurences overview:</h3>"
      ],
      "text/plain": [
       "<IPython.core.display.HTML object>"
      ]
     },
     "metadata": {},
     "output_type": "display_data"
    },
    {
     "data": {
      "text/plain": [
       "quercus crispula          266\n",
       "quercus mongolica          93\n",
       "phellodendron amurense     77\n",
       "fraxinus mandshurica       63\n",
       "ulmus japonica             62\n",
       "acer mono                  52\n",
       "kalopanax septemlobus      51\n",
       "ulmus laciniata            44\n",
       "tilia amurensis            41\n",
       "acer mayrii                28\n",
       "carpinus cordata           24\n",
       "pinus koraiensis           23\n",
       "juglans mandshurica        17\n",
       "abies holophylla            9\n",
       "fraxinus rhynchophylla      3\n",
       "Name: species, dtype: int64"
      ]
     },
     "execution_count": 5,
     "metadata": {},
     "output_type": "execute_result"
    }
   ],
   "source": [
    "display(HTML('<h3>General info:</h3>'))\n",
    "original_presence_data.info()\n",
    "display(HTML('<h3>Species occurences overview:</h3>'))\n",
    "original_presence_data['species'].value_counts()"
   ]
  },
  {
   "cell_type": "markdown",
   "metadata": {},
   "source": [
    "# MAIN LOOP OVER ALL SPECIES"
   ]
  },
  {
   "cell_type": "code",
   "execution_count": null,
   "metadata": {},
   "outputs": [
    {
     "data": {
      "text/html": [
       "<h5>=============== quercus mongolica ======================</h5>"
      ],
      "text/plain": [
       "<IPython.core.display.HTML object>"
      ]
     },
     "metadata": {},
     "output_type": "display_data"
    },
    {
     "name": "stdout",
     "output_type": "stream",
     "text": [
      "Constructing the dataset...\n"
     ]
    },
    {
     "name": "stderr",
     "output_type": "stream",
     "text": [
      "/home/dmitry/workspace/pacific_sdm/bin/loader.py:104: RuntimeWarning: invalid value encountered in less\n",
      "  if np.any(vals < t):\n",
      "/home/dmitry/workspace/pacific_sdm/bin/loader.py:106: RuntimeWarning: invalid value encountered in less\n",
      "  result[vals < t] = result[vals < t] + precs[vals < t]\n",
      "/home/dmitry/workspace/pacific_sdm/bin/loader.py:69: RuntimeWarning: invalid value encountered in greater\n",
      "  result[vals > t] = result[vals > t] + vals[vals > t] - t\n",
      "/home/dmitry/workspace/pacific_sdm/bin/loader.py:143: RuntimeWarning: invalid value encountered in less\n",
      "  inds = _ < vals_avg\n",
      "/home/dmitry/workspace/pacific_sdm/bin/loader.py:75: RuntimeWarning: invalid value encountered in less\n",
      "  result[vals < t] = result[vals < t] + vals[vals < t] - t\n",
      "/home/dmitry/workspace/pacific_sdm/bin/loader.py:97: RuntimeWarning: invalid value encountered in greater\n",
      "  if np.any(vals > t):\n",
      "/home/dmitry/workspace/pacific_sdm/bin/loader.py:99: RuntimeWarning: invalid value encountered in greater\n",
      "  result[vals > t] = result[vals > t] + precs[vals > t]\n"
     ]
    },
    {
     "name": "stdout",
     "output_type": "stream",
     "text": [
      "<class 'pandas.core.frame.DataFrame'>\n",
      "RangeIndex: 4799 entries, 0 to 4798\n",
      "Data columns (total 28 columns):\n",
      "absence      4799 non-null bool\n",
      "latitude     4799 non-null float64\n",
      "longitude    4799 non-null float64\n",
      "species      4799 non-null object\n",
      "TMAX12       4799 non-null float64\n",
      "BIO5         4799 non-null float64\n",
      "TMIN10       4799 non-null float64\n",
      "BIO7         4799 non-null float64\n",
      "PCKI0        4799 non-null float64\n",
      "BIO12        4799 non-null float64\n",
      "PREC5        4799 non-null float64\n",
      "TAVG4        4799 non-null float64\n",
      "PREC2        4799 non-null float64\n",
      "PREC6        4799 non-null float64\n",
      "PREC8        4799 non-null float64\n",
      "TMAX9        4799 non-null float64\n",
      "PREC9        4799 non-null float64\n",
      "PREC4        4799 non-null float64\n",
      "PWKI0        4799 non-null float64\n",
      "TMIN8        4799 non-null float64\n",
      "BIO2         4799 non-null float64\n",
      "BIO8         4799 non-null float64\n",
      "PREC7        4799 non-null float64\n",
      "PREC10       4799 non-null float64\n",
      "PREC11       4799 non-null float64\n",
      "BIO3         4799 non-null float64\n",
      "BIO9         4799 non-null float64\n",
      "BIO15        4799 non-null float64\n",
      "dtypes: bool(1), float64(26), object(1)\n",
      "memory usage: 1017.1+ KB\n",
      "Removed correlated features:  {'TAVG12', 'TAVG1', 'TMAX11', 'BIO10', 'TMIN11', 'TMIN1', 'TAVG7', 'TAVG10', 'IC', 'TMIN4', 'TMAXM', 'WKI3', 'BIO1', 'TMIN5', 'TMINM', 'TAVG5', 'TAVG2', 'PREC3', 'TMAX2', 'BIO11', 'IT', 'WKI2', 'TMAX3', 'TMIN6', 'BIO17', 'WKI6', 'CKI2', 'TAVG3', 'TAVG6', 'PREC1', 'TMAX7', 'BIO13', 'BIO16', 'TMAX4', 'TMAX6', 'CKI5', 'CKI3', 'TMIN12', 'BIO4', 'CKI6', 'TAVG8', 'CKI4', 'PREC12', 'TMIN7', 'BIO19', 'WKI4', 'TMAX8', 'BIO18', 'TMAX1', 'BIO14', 'BIO6', 'TAVG11', 'TMIN2', 'WKI5', 'TMIN3', 'TMAX10', 'TMIN9', 'TAVG9', 'TMAX5'}\n",
      "Leaved features:  {'TMAX12', 'BIO5', 'TMIN10', 'BIO12', 'BIO7', 'PCKI0', 'PREC5', 'TAVG4', 'PREC2', 'TMAX9', 'PREC6', 'PREC9', 'PREC4', 'PWKI0', 'TMIN8', 'BIO2', 'BIO8', 'PREC7', 'PREC10', 'PREC11', 'BIO3', 'BIO9', 'BIO15', 'PREC8'}\n",
      "Dataset is formed.\n",
      "<class 'pandas.core.frame.DataFrame'>\n",
      "RangeIndex: 4799 entries, 0 to 4798\n",
      "Data columns (total 28 columns):\n",
      "absence      4799 non-null bool\n",
      "latitude     4799 non-null float64\n",
      "longitude    4799 non-null float64\n",
      "species      4799 non-null object\n",
      "TMAX12       4799 non-null float64\n",
      "BIO5         4799 non-null float64\n",
      "TMIN10       4799 non-null float64\n",
      "BIO7         4799 non-null float64\n",
      "PCKI0        4799 non-null float64\n",
      "BIO12        4799 non-null float64\n",
      "PREC5        4799 non-null float64\n",
      "TAVG4        4799 non-null float64\n",
      "PREC2        4799 non-null float64\n",
      "PREC6        4799 non-null float64\n",
      "PREC8        4799 non-null float64\n",
      "TMAX9        4799 non-null float64\n",
      "PREC9        4799 non-null float64\n",
      "PREC4        4799 non-null float64\n",
      "PWKI0        4799 non-null float64\n",
      "TMIN8        4799 non-null float64\n",
      "BIO2         4799 non-null float64\n",
      "BIO8         4799 non-null float64\n",
      "PREC7        4799 non-null float64\n",
      "PREC10       4799 non-null float64\n",
      "PREC11       4799 non-null float64\n",
      "BIO3         4799 non-null float64\n",
      "BIO9         4799 non-null float64\n",
      "BIO15        4799 non-null float64\n",
      "dtypes: bool(1), float64(26), object(1)\n",
      "memory usage: 1017.1+ KB\n",
      "Preforming recursive feature ellimination for the <tree> classifier...\n",
      "Preforming recursive feature ellimination for the <MaxEnt> classifier...\n"
     ]
    },
    {
     "data": {
      "text/html": [
       "<h5> --------------- Summary for quercus mongolica: --------------- </h5>"
      ],
      "text/plain": [
       "<IPython.core.display.HTML object>"
      ]
     },
     "metadata": {},
     "output_type": "display_data"
    },
    {
     "name": "stdout",
     "output_type": "stream",
     "text": [
      "The best classifier is MaxEnt. Its accuracy score is 0.9989539748953975.\n",
      "Optimal predictor set (acc):  ['TMAX12' 'BIO5' 'TMIN10' 'BIO12' 'BIO7' 'PCKI0' 'PREC5' 'TAVG4' 'PREC2'\n",
      " 'TMAX9' 'PREC6' 'PREC9' 'PREC4' 'PWKI0' 'TMIN8' 'BIO2' 'BIO8' 'PREC7'\n",
      " 'PREC10' 'PREC11' 'BIO3' 'BIO9' 'BIO15' 'PREC8']\n",
      "The best classifier is MaxEnt. Its roc/auc score is 0.9999152542372881.\n",
      "Optimal predictor set (auc):  ['BIO5' 'TMIN10' 'BIO7' 'PCKI0' 'PREC5' 'TAVG4' 'PREC2' 'TMAX9' 'PWKI0'\n",
      " 'TMIN8' 'PREC10' 'PREC11' 'BIO3']\n",
      "Statistic over all classifiers: \n",
      "AUC/ROC - Case:\n"
     ]
    },
    {
     "data": {
      "text/html": [
       "<div>\n",
       "<style scoped>\n",
       "    .dataframe tbody tr th:only-of-type {\n",
       "        vertical-align: middle;\n",
       "    }\n",
       "\n",
       "    .dataframe tbody tr th {\n",
       "        vertical-align: top;\n",
       "    }\n",
       "\n",
       "    .dataframe thead th {\n",
       "        text-align: right;\n",
       "    }\n",
       "</style>\n",
       "<table border=\"1\" class=\"dataframe\">\n",
       "  <thead>\n",
       "    <tr style=\"text-align: right;\">\n",
       "      <th></th>\n",
       "      <th>MaxEnt</th>\n",
       "      <th>tree</th>\n",
       "    </tr>\n",
       "  </thead>\n",
       "  <tbody>\n",
       "    <tr>\n",
       "      <th>0</th>\n",
       "      <td>0.999915</td>\n",
       "      <td>0.978538</td>\n",
       "    </tr>\n",
       "    <tr>\n",
       "      <th>1</th>\n",
       "      <td>[BIO5, TMIN10, BIO7, PCKI0, PREC5]</td>\n",
       "      <td>[BIO5, TMIN10, BIO7, PCKI0, PREC5]</td>\n",
       "    </tr>\n",
       "  </tbody>\n",
       "</table>\n",
       "</div>"
      ],
      "text/plain": [
       "                               MaxEnt                                tree\n",
       "0                            0.999915                            0.978538\n",
       "1  [BIO5, TMIN10, BIO7, PCKI0, PREC5]  [BIO5, TMIN10, BIO7, PCKI0, PREC5]"
      ]
     },
     "metadata": {},
     "output_type": "display_data"
    },
    {
     "name": "stdout",
     "output_type": "stream",
     "text": [
      "Precision - Case:\n"
     ]
    },
    {
     "data": {
      "text/html": [
       "<div>\n",
       "<style scoped>\n",
       "    .dataframe tbody tr th:only-of-type {\n",
       "        vertical-align: middle;\n",
       "    }\n",
       "\n",
       "    .dataframe tbody tr th {\n",
       "        vertical-align: top;\n",
       "    }\n",
       "\n",
       "    .dataframe thead th {\n",
       "        text-align: right;\n",
       "    }\n",
       "</style>\n",
       "<table border=\"1\" class=\"dataframe\">\n",
       "  <thead>\n",
       "    <tr style=\"text-align: right;\">\n",
       "      <th></th>\n",
       "      <th>MaxEnt</th>\n",
       "      <th>tree</th>\n",
       "    </tr>\n",
       "  </thead>\n",
       "  <tbody>\n",
       "    <tr>\n",
       "      <th>0</th>\n",
       "      <td>0.998954</td>\n",
       "      <td>0.99875</td>\n",
       "    </tr>\n",
       "    <tr>\n",
       "      <th>1</th>\n",
       "      <td>[TMAX12, BIO5, TMIN10, BIO12, BIO7]</td>\n",
       "      <td>[BIO5, TMIN10, BIO12, BIO7, PCKI0]</td>\n",
       "    </tr>\n",
       "  </tbody>\n",
       "</table>\n",
       "</div>"
      ],
      "text/plain": [
       "                                MaxEnt                                tree\n",
       "0                             0.998954                             0.99875\n",
       "1  [TMAX12, BIO5, TMIN10, BIO12, BIO7]  [BIO5, TMIN10, BIO12, BIO7, PCKI0]"
      ]
     },
     "metadata": {},
     "output_type": "display_data"
    },
    {
     "data": {
      "text/html": [
       "<h5> ~~~~~~~~~~~~~~~~~~~~~~~~~~~~~~~~~~~~~~~~~~~~~~~~~~~~~~~~~~~~~~~~~~~~~~~~~~~~~~~~~~~~~~~~~~ </h5>"
      ],
      "text/plain": [
       "<IPython.core.display.HTML object>"
      ]
     },
     "metadata": {},
     "output_type": "display_data"
    },
    {
     "name": "stderr",
     "output_type": "stream",
     "text": [
      "/home/dmitry/workspace/pacific_sdm/bin/loader.py:104: RuntimeWarning: invalid value encountered in less\n",
      "  if np.any(vals < t):\n",
      "/home/dmitry/workspace/pacific_sdm/bin/loader.py:106: RuntimeWarning: invalid value encountered in less\n",
      "  result[vals < t] = result[vals < t] + precs[vals < t]\n",
      "/home/dmitry/workspace/pacific_sdm/bin/loader.py:97: RuntimeWarning: invalid value encountered in greater\n",
      "  if np.any(vals > t):\n",
      "/home/dmitry/workspace/pacific_sdm/bin/loader.py:99: RuntimeWarning: invalid value encountered in greater\n",
      "  result[vals > t] = result[vals > t] + precs[vals > t]\n"
     ]
    },
    {
     "data": {
      "text/html": [
       "<h5>=============== kalopanax septemlobus ======================</h5>"
      ],
      "text/plain": [
       "<IPython.core.display.HTML object>"
      ]
     },
     "metadata": {},
     "output_type": "display_data"
    },
    {
     "name": "stdout",
     "output_type": "stream",
     "text": [
      "Constructing the dataset...\n"
     ]
    },
    {
     "name": "stderr",
     "output_type": "stream",
     "text": [
      "/home/dmitry/workspace/pacific_sdm/bin/loader.py:104: RuntimeWarning: invalid value encountered in less\n",
      "  if np.any(vals < t):\n",
      "/home/dmitry/workspace/pacific_sdm/bin/loader.py:106: RuntimeWarning: invalid value encountered in less\n",
      "  result[vals < t] = result[vals < t] + precs[vals < t]\n",
      "/home/dmitry/workspace/pacific_sdm/bin/loader.py:69: RuntimeWarning: invalid value encountered in greater\n",
      "  result[vals > t] = result[vals > t] + vals[vals > t] - t\n",
      "/home/dmitry/workspace/pacific_sdm/bin/loader.py:143: RuntimeWarning: invalid value encountered in less\n",
      "  inds = _ < vals_avg\n",
      "/home/dmitry/workspace/pacific_sdm/bin/loader.py:75: RuntimeWarning: invalid value encountered in less\n",
      "  result[vals < t] = result[vals < t] + vals[vals < t] - t\n",
      "/home/dmitry/workspace/pacific_sdm/bin/loader.py:97: RuntimeWarning: invalid value encountered in greater\n",
      "  if np.any(vals > t):\n",
      "/home/dmitry/workspace/pacific_sdm/bin/loader.py:99: RuntimeWarning: invalid value encountered in greater\n",
      "  result[vals > t] = result[vals > t] + precs[vals > t]\n"
     ]
    },
    {
     "name": "stdout",
     "output_type": "stream",
     "text": [
      "<class 'pandas.core.frame.DataFrame'>\n",
      "RangeIndex: 4771 entries, 0 to 4770\n",
      "Data columns (total 26 columns):\n",
      "absence      4771 non-null bool\n",
      "latitude     4771 non-null float64\n",
      "longitude    4771 non-null float64\n",
      "species      4771 non-null object\n",
      "TMAX12       4771 non-null float64\n",
      "BIO5         4771 non-null float64\n",
      "TMIN10       4771 non-null float64\n",
      "BIO7         4771 non-null float64\n",
      "PCKI0        4771 non-null float64\n",
      "BIO12        4771 non-null float64\n",
      "PREC5        4771 non-null float64\n",
      "TAVG4        4771 non-null float64\n",
      "PREC2        4771 non-null float64\n",
      "PREC6        4771 non-null float64\n",
      "PREC8        4771 non-null float64\n",
      "PREC9        4771 non-null float64\n",
      "PREC4        4771 non-null float64\n",
      "PWKI0        4771 non-null float64\n",
      "TMIN8        4771 non-null float64\n",
      "BIO2         4771 non-null float64\n",
      "BIO8         4771 non-null float64\n",
      "PREC7        4771 non-null float64\n",
      "PREC10       4771 non-null float64\n",
      "BIO3         4771 non-null float64\n",
      "BIO9         4771 non-null float64\n",
      "BIO15        4771 non-null float64\n",
      "dtypes: bool(1), float64(24), object(1)\n",
      "memory usage: 936.6+ KB\n",
      "Removed correlated features:  {'TAVG12', 'TAVG1', 'TMAX11', 'BIO10', 'TMIN11', 'TMIN1', 'TAVG7', 'TAVG10', 'IC', 'TMIN4', 'TMAXM', 'WKI3', 'BIO1', 'TMIN5', 'TMINM', 'TMAX9', 'TAVG5', 'TAVG2', 'PREC3', 'TMAX2', 'BIO11', 'IT', 'WKI2', 'TMAX3', 'TMIN6', 'BIO17', 'WKI6', 'CKI2', 'TAVG3', 'TAVG6', 'PREC1', 'TMAX7', 'BIO13', 'BIO16', 'TMAX4', 'TMAX6', 'CKI5', 'CKI3', 'TMIN12', 'PREC11', 'BIO4', 'CKI6', 'TAVG8', 'CKI4', 'PREC12', 'TMIN7', 'BIO19', 'WKI4', 'TMAX8', 'BIO18', 'TMAX1', 'BIO14', 'BIO6', 'TAVG11', 'TMIN2', 'WKI5', 'TMIN3', 'TMAX10', 'TMIN9', 'TAVG9', 'TMAX5'}\n",
      "Leaved features:  {'TMAX12', 'BIO5', 'TMIN10', 'BIO12', 'BIO7', 'PCKI0', 'PREC5', 'TAVG4', 'PREC2', 'PREC6', 'PREC9', 'PREC4', 'PWKI0', 'TMIN8', 'BIO2', 'BIO8', 'PREC7', 'PREC10', 'BIO3', 'BIO9', 'BIO15', 'PREC8'}\n",
      "Dataset is formed.\n",
      "<class 'pandas.core.frame.DataFrame'>\n",
      "RangeIndex: 4771 entries, 0 to 4770\n",
      "Data columns (total 26 columns):\n",
      "absence      4771 non-null bool\n",
      "latitude     4771 non-null float64\n",
      "longitude    4771 non-null float64\n",
      "species      4771 non-null object\n",
      "TMAX12       4771 non-null float64\n",
      "BIO5         4771 non-null float64\n",
      "TMIN10       4771 non-null float64\n",
      "BIO7         4771 non-null float64\n",
      "PCKI0        4771 non-null float64\n",
      "BIO12        4771 non-null float64\n",
      "PREC5        4771 non-null float64\n",
      "TAVG4        4771 non-null float64\n",
      "PREC2        4771 non-null float64\n",
      "PREC6        4771 non-null float64\n",
      "PREC8        4771 non-null float64\n",
      "PREC9        4771 non-null float64\n",
      "PREC4        4771 non-null float64\n",
      "PWKI0        4771 non-null float64\n",
      "TMIN8        4771 non-null float64\n",
      "BIO2         4771 non-null float64\n",
      "BIO8         4771 non-null float64\n",
      "PREC7        4771 non-null float64\n",
      "PREC10       4771 non-null float64\n",
      "BIO3         4771 non-null float64\n",
      "BIO9         4771 non-null float64\n",
      "BIO15        4771 non-null float64\n",
      "dtypes: bool(1), float64(24), object(1)\n",
      "memory usage: 936.6+ KB\n",
      "Preforming recursive feature ellimination for the <tree> classifier...\n",
      "Preforming recursive feature ellimination for the <MaxEnt> classifier...\n"
     ]
    },
    {
     "data": {
      "text/html": [
       "<h5> --------------- Summary for kalopanax septemlobus: --------------- </h5>"
      ],
      "text/plain": [
       "<IPython.core.display.HTML object>"
      ]
     },
     "metadata": {},
     "output_type": "display_data"
    },
    {
     "name": "stdout",
     "output_type": "stream",
     "text": [
      "The best classifier is MaxEnt. Its accuracy score is 1.0.\n",
      "Optimal predictor set (acc):  ['TMAX12' 'BIO5' 'TMIN10' 'BIO12' 'BIO7' 'PCKI0' 'PREC5' 'TAVG4' 'PREC2'\n",
      " 'PREC6' 'PREC9' 'PREC4' 'PWKI0' 'TMIN8' 'BIO2' 'BIO8' 'PREC7' 'PREC10'\n",
      " 'BIO3' 'BIO9' 'BIO15' 'PREC8']\n",
      "The best classifier is MaxEnt. Its roc/auc score is 1.0.\n",
      "Optimal predictor set (auc):  ['TMAX12' 'BIO5' 'TMIN10' 'BIO12' 'BIO7' 'PCKI0' 'PREC5' 'TAVG4' 'PREC2'\n",
      " 'PREC6' 'PREC9' 'PREC4' 'PWKI0' 'TMIN8' 'BIO2' 'BIO8' 'PREC7' 'PREC10'\n",
      " 'BIO3' 'BIO9' 'BIO15' 'PREC8']\n",
      "Statistic over all classifiers: \n",
      "AUC/ROC - Case:\n"
     ]
    },
    {
     "data": {
      "text/html": [
       "<div>\n",
       "<style scoped>\n",
       "    .dataframe tbody tr th:only-of-type {\n",
       "        vertical-align: middle;\n",
       "    }\n",
       "\n",
       "    .dataframe tbody tr th {\n",
       "        vertical-align: top;\n",
       "    }\n",
       "\n",
       "    .dataframe thead th {\n",
       "        text-align: right;\n",
       "    }\n",
       "</style>\n",
       "<table border=\"1\" class=\"dataframe\">\n",
       "  <thead>\n",
       "    <tr style=\"text-align: right;\">\n",
       "      <th></th>\n",
       "      <th>MaxEnt</th>\n",
       "      <th>tree</th>\n",
       "    </tr>\n",
       "  </thead>\n",
       "  <tbody>\n",
       "    <tr>\n",
       "      <th>0</th>\n",
       "      <td>1</td>\n",
       "      <td>0.987288</td>\n",
       "    </tr>\n",
       "    <tr>\n",
       "      <th>1</th>\n",
       "      <td>[TMAX12, BIO5, TMIN10, BIO12, BIO7]</td>\n",
       "      <td>[TMIN10, BIO12, BIO7, PCKI0, PREC5]</td>\n",
       "    </tr>\n",
       "  </tbody>\n",
       "</table>\n",
       "</div>"
      ],
      "text/plain": [
       "                                MaxEnt                                 tree\n",
       "0                                    1                             0.987288\n",
       "1  [TMAX12, BIO5, TMIN10, BIO12, BIO7]  [TMIN10, BIO12, BIO7, PCKI0, PREC5]"
      ]
     },
     "metadata": {},
     "output_type": "display_data"
    },
    {
     "name": "stdout",
     "output_type": "stream",
     "text": [
      "Precision - Case:\n"
     ]
    },
    {
     "data": {
      "text/html": [
       "<div>\n",
       "<style scoped>\n",
       "    .dataframe tbody tr th:only-of-type {\n",
       "        vertical-align: middle;\n",
       "    }\n",
       "\n",
       "    .dataframe tbody tr th {\n",
       "        vertical-align: top;\n",
       "    }\n",
       "\n",
       "    .dataframe thead th {\n",
       "        text-align: right;\n",
       "    }\n",
       "</style>\n",
       "<table border=\"1\" class=\"dataframe\">\n",
       "  <thead>\n",
       "    <tr style=\"text-align: right;\">\n",
       "      <th></th>\n",
       "      <th>MaxEnt</th>\n",
       "      <th>tree</th>\n",
       "    </tr>\n",
       "  </thead>\n",
       "  <tbody>\n",
       "    <tr>\n",
       "      <th>0</th>\n",
       "      <td>1</td>\n",
       "      <td>0.999371</td>\n",
       "    </tr>\n",
       "    <tr>\n",
       "      <th>1</th>\n",
       "      <td>[TMAX12, BIO5, TMIN10, BIO12, BIO7]</td>\n",
       "      <td>[TMIN10, BIO12, BIO7, PCKI0, PREC5]</td>\n",
       "    </tr>\n",
       "  </tbody>\n",
       "</table>\n",
       "</div>"
      ],
      "text/plain": [
       "                                MaxEnt                                 tree\n",
       "0                                    1                             0.999371\n",
       "1  [TMAX12, BIO5, TMIN10, BIO12, BIO7]  [TMIN10, BIO12, BIO7, PCKI0, PREC5]"
      ]
     },
     "metadata": {},
     "output_type": "display_data"
    },
    {
     "data": {
      "text/html": [
       "<h5> ~~~~~~~~~~~~~~~~~~~~~~~~~~~~~~~~~~~~~~~~~~~~~~~~~~~~~~~~~~~~~~~~~~~~~~~~~~~~~~~~~~~~~~~~~~ </h5>"
      ],
      "text/plain": [
       "<IPython.core.display.HTML object>"
      ]
     },
     "metadata": {},
     "output_type": "display_data"
    },
    {
     "name": "stderr",
     "output_type": "stream",
     "text": [
      "/home/dmitry/workspace/pacific_sdm/bin/loader.py:104: RuntimeWarning: invalid value encountered in less\n",
      "  if np.any(vals < t):\n",
      "/home/dmitry/workspace/pacific_sdm/bin/loader.py:106: RuntimeWarning: invalid value encountered in less\n",
      "  result[vals < t] = result[vals < t] + precs[vals < t]\n",
      "/home/dmitry/workspace/pacific_sdm/bin/loader.py:97: RuntimeWarning: invalid value encountered in greater\n",
      "  if np.any(vals > t):\n",
      "/home/dmitry/workspace/pacific_sdm/bin/loader.py:99: RuntimeWarning: invalid value encountered in greater\n",
      "  result[vals > t] = result[vals > t] + precs[vals > t]\n"
     ]
    },
    {
     "data": {
      "text/html": [
       "<h5>=============== quercus ======================</h5>"
      ],
      "text/plain": [
       "<IPython.core.display.HTML object>"
      ]
     },
     "metadata": {},
     "output_type": "display_data"
    },
    {
     "name": "stdout",
     "output_type": "stream",
     "text": [
      "Constructing the dataset...\n"
     ]
    },
    {
     "name": "stderr",
     "output_type": "stream",
     "text": [
      "/home/dmitry/workspace/pacific_sdm/bin/loader.py:104: RuntimeWarning: invalid value encountered in less\n",
      "  if np.any(vals < t):\n",
      "/home/dmitry/workspace/pacific_sdm/bin/loader.py:106: RuntimeWarning: invalid value encountered in less\n",
      "  result[vals < t] = result[vals < t] + precs[vals < t]\n",
      "/home/dmitry/workspace/pacific_sdm/bin/loader.py:69: RuntimeWarning: invalid value encountered in greater\n",
      "  result[vals > t] = result[vals > t] + vals[vals > t] - t\n",
      "/home/dmitry/workspace/pacific_sdm/bin/loader.py:143: RuntimeWarning: invalid value encountered in less\n",
      "  inds = _ < vals_avg\n",
      "/home/dmitry/workspace/pacific_sdm/bin/loader.py:75: RuntimeWarning: invalid value encountered in less\n",
      "  result[vals < t] = result[vals < t] + vals[vals < t] - t\n",
      "/home/dmitry/workspace/pacific_sdm/bin/loader.py:97: RuntimeWarning: invalid value encountered in greater\n",
      "  if np.any(vals > t):\n",
      "/home/dmitry/workspace/pacific_sdm/bin/loader.py:99: RuntimeWarning: invalid value encountered in greater\n",
      "  result[vals > t] = result[vals > t] + precs[vals > t]\n"
     ]
    },
    {
     "name": "stdout",
     "output_type": "stream",
     "text": [
      "<class 'pandas.core.frame.DataFrame'>\n",
      "RangeIndex: 5072 entries, 0 to 5071\n",
      "Data columns (total 22 columns):\n",
      "absence      5072 non-null bool\n",
      "latitude     5072 non-null float64\n",
      "longitude    5072 non-null float64\n",
      "species      5072 non-null object\n",
      "TMAX12       5072 non-null float64\n",
      "BIO5         5072 non-null float64\n",
      "TMIN10       5072 non-null float64\n",
      "BIO7         5072 non-null float64\n",
      "PCKI0        5072 non-null float64\n",
      "BIO12        5072 non-null float64\n",
      "TAVG4        5072 non-null float64\n",
      "PREC2        5072 non-null float64\n",
      "PREC8        5072 non-null float64\n",
      "TMIN8        5072 non-null float64\n",
      "BIO2         5072 non-null float64\n",
      "BIO8         5072 non-null float64\n",
      "PREC10       5072 non-null float64\n",
      "PREC11       5072 non-null float64\n",
      "PREC12       5072 non-null float64\n",
      "BIO3         5072 non-null float64\n",
      "BIO9         5072 non-null float64\n",
      "BIO15        5072 non-null float64\n",
      "dtypes: bool(1), float64(20), object(1)\n",
      "memory usage: 837.2+ KB\n",
      "Removed correlated features:  {'TAVG12', 'TMAX11', 'TAVG7', 'TMIN5', 'TMIN4', 'WKI3', 'BIO1', 'TAVG5', 'PREC3', 'TAVG2', 'BIO11', 'IT', 'PREC9', 'TMAX3', 'WKI6', 'TAVG3', 'TAVG6', 'BIO16', 'TMAX4', 'CKI5', 'CKI3', 'TMIN12', 'TAVG8', 'CKI4', 'WKI4', 'BIO18', 'TMAX1', 'BIO14', 'BIO6', 'TAVG11', 'WKI5', 'TMIN3', 'TMAX10', 'PREC1', 'TAVG1', 'BIO10', 'PREC5', 'TMIN11', 'IC', 'TAVG10', 'TMIN1', 'TMAXM', 'TMINM', 'TMAX9', 'PREC6', 'TMAX2', 'WKI2', 'TMIN6', 'BIO17', 'PREC4', 'CKI2', 'PWKI0', 'TMAX7', 'BIO13', 'TMAX6', 'PREC7', 'BIO4', 'CKI6', 'TMIN7', 'BIO19', 'TMAX8', 'TMIN2', 'TMIN9', 'TAVG9', 'TMAX5'}\n",
      "Leaved features:  {'TMAX12', 'BIO5', 'BIO2', 'TMIN10', 'BIO12', 'BIO7', 'PCKI0', 'TAVG4', 'BIO8', 'PREC10', 'PREC11', 'BIO3', 'PREC2', 'TMIN8', 'PREC12', 'BIO9', 'BIO15', 'PREC8'}\n",
      "Dataset is formed.\n",
      "<class 'pandas.core.frame.DataFrame'>\n",
      "RangeIndex: 5072 entries, 0 to 5071\n",
      "Data columns (total 22 columns):\n",
      "absence      5072 non-null bool\n",
      "latitude     5072 non-null float64\n",
      "longitude    5072 non-null float64\n",
      "species      5072 non-null object\n",
      "TMAX12       5072 non-null float64\n",
      "BIO5         5072 non-null float64\n",
      "TMIN10       5072 non-null float64\n",
      "BIO7         5072 non-null float64\n",
      "PCKI0        5072 non-null float64\n",
      "BIO12        5072 non-null float64\n",
      "TAVG4        5072 non-null float64\n",
      "PREC2        5072 non-null float64\n",
      "PREC8        5072 non-null float64\n",
      "TMIN8        5072 non-null float64\n",
      "BIO2         5072 non-null float64\n",
      "BIO8         5072 non-null float64\n",
      "PREC10       5072 non-null float64\n",
      "PREC11       5072 non-null float64\n",
      "PREC12       5072 non-null float64\n",
      "BIO3         5072 non-null float64\n",
      "BIO9         5072 non-null float64\n",
      "BIO15        5072 non-null float64\n",
      "dtypes: bool(1), float64(20), object(1)\n",
      "memory usage: 837.2+ KB\n",
      "Preforming recursive feature ellimination for the <tree> classifier...\n",
      "Preforming recursive feature ellimination for the <MaxEnt> classifier...\n"
     ]
    },
    {
     "data": {
      "text/html": [
       "<h5> --------------- Summary for quercus: --------------- </h5>"
      ],
      "text/plain": [
       "<IPython.core.display.HTML object>"
      ]
     },
     "metadata": {},
     "output_type": "display_data"
    },
    {
     "name": "stdout",
     "output_type": "stream",
     "text": [
      "The best classifier is MaxEnt. Its accuracy score is 0.9982244561327066.\n",
      "Optimal predictor set (acc):  ['TMAX12' 'BIO5' 'BIO2' 'TMIN10' 'BIO12' 'BIO7' 'PCKI0' 'TAVG4' 'BIO8'\n",
      " 'PREC10' 'PREC11' 'BIO3' 'PREC2' 'TMIN8' 'PREC12' 'BIO9' 'BIO15' 'PREC8']\n",
      "The best classifier is MaxEnt. Its roc/auc score is 0.9997978287360141.\n",
      "Optimal predictor set (auc):  ['BIO12' 'PCKI0' 'PREC2' 'TMIN8' 'PREC8']\n",
      "Statistic over all classifiers: \n",
      "AUC/ROC - Case:\n"
     ]
    },
    {
     "data": {
      "text/html": [
       "<div>\n",
       "<style scoped>\n",
       "    .dataframe tbody tr th:only-of-type {\n",
       "        vertical-align: middle;\n",
       "    }\n",
       "\n",
       "    .dataframe tbody tr th {\n",
       "        vertical-align: top;\n",
       "    }\n",
       "\n",
       "    .dataframe thead th {\n",
       "        text-align: right;\n",
       "    }\n",
       "</style>\n",
       "<table border=\"1\" class=\"dataframe\">\n",
       "  <thead>\n",
       "    <tr style=\"text-align: right;\">\n",
       "      <th></th>\n",
       "      <th>MaxEnt</th>\n",
       "      <th>tree</th>\n",
       "    </tr>\n",
       "  </thead>\n",
       "  <tbody>\n",
       "    <tr>\n",
       "      <th>0</th>\n",
       "      <td>0.999798</td>\n",
       "      <td>0.987902</td>\n",
       "    </tr>\n",
       "    <tr>\n",
       "      <th>1</th>\n",
       "      <td>[BIO12, PCKI0, PREC2, TMIN8, PREC8]</td>\n",
       "      <td>[TMIN10, TMIN8, PREC8]</td>\n",
       "    </tr>\n",
       "  </tbody>\n",
       "</table>\n",
       "</div>"
      ],
      "text/plain": [
       "                                MaxEnt                    tree\n",
       "0                             0.999798                0.987902\n",
       "1  [BIO12, PCKI0, PREC2, TMIN8, PREC8]  [TMIN10, TMIN8, PREC8]"
      ]
     },
     "metadata": {},
     "output_type": "display_data"
    },
    {
     "name": "stdout",
     "output_type": "stream",
     "text": [
      "Precision - Case:\n"
     ]
    },
    {
     "data": {
      "text/html": [
       "<div>\n",
       "<style scoped>\n",
       "    .dataframe tbody tr th:only-of-type {\n",
       "        vertical-align: middle;\n",
       "    }\n",
       "\n",
       "    .dataframe tbody tr th {\n",
       "        vertical-align: top;\n",
       "    }\n",
       "\n",
       "    .dataframe thead th {\n",
       "        text-align: right;\n",
       "    }\n",
       "</style>\n",
       "<table border=\"1\" class=\"dataframe\">\n",
       "  <thead>\n",
       "    <tr style=\"text-align: right;\">\n",
       "      <th></th>\n",
       "      <th>MaxEnt</th>\n",
       "      <th>tree</th>\n",
       "    </tr>\n",
       "  </thead>\n",
       "  <tbody>\n",
       "    <tr>\n",
       "      <th>0</th>\n",
       "      <td>0.998224</td>\n",
       "      <td>0.997435</td>\n",
       "    </tr>\n",
       "    <tr>\n",
       "      <th>1</th>\n",
       "      <td>[TMAX12, BIO5, BIO2, TMIN10, BIO12]</td>\n",
       "      <td>[TMIN10, BIO12, TMIN8, PREC8]</td>\n",
       "    </tr>\n",
       "  </tbody>\n",
       "</table>\n",
       "</div>"
      ],
      "text/plain": [
       "                                MaxEnt                           tree\n",
       "0                             0.998224                       0.997435\n",
       "1  [TMAX12, BIO5, BIO2, TMIN10, BIO12]  [TMIN10, BIO12, TMIN8, PREC8]"
      ]
     },
     "metadata": {},
     "output_type": "display_data"
    },
    {
     "data": {
      "text/html": [
       "<h5> ~~~~~~~~~~~~~~~~~~~~~~~~~~~~~~~~~~~~~~~~~~~~~~~~~~~~~~~~~~~~~~~~~~~~~~~~~~~~~~~~~~~~~~~~~~ </h5>"
      ],
      "text/plain": [
       "<IPython.core.display.HTML object>"
      ]
     },
     "metadata": {},
     "output_type": "display_data"
    },
    {
     "name": "stderr",
     "output_type": "stream",
     "text": [
      "/home/dmitry/workspace/pacific_sdm/bin/loader.py:104: RuntimeWarning: invalid value encountered in less\n",
      "  if np.any(vals < t):\n",
      "/home/dmitry/workspace/pacific_sdm/bin/loader.py:106: RuntimeWarning: invalid value encountered in less\n",
      "  result[vals < t] = result[vals < t] + precs[vals < t]\n"
     ]
    },
    {
     "data": {
      "text/html": [
       "<h5>=============== quercus crispula ======================</h5>"
      ],
      "text/plain": [
       "<IPython.core.display.HTML object>"
      ]
     },
     "metadata": {},
     "output_type": "display_data"
    },
    {
     "name": "stdout",
     "output_type": "stream",
     "text": [
      "Constructing the dataset...\n"
     ]
    },
    {
     "name": "stderr",
     "output_type": "stream",
     "text": [
      "/home/dmitry/workspace/pacific_sdm/bin/loader.py:104: RuntimeWarning: invalid value encountered in less\n",
      "  if np.any(vals < t):\n",
      "/home/dmitry/workspace/pacific_sdm/bin/loader.py:106: RuntimeWarning: invalid value encountered in less\n",
      "  result[vals < t] = result[vals < t] + precs[vals < t]\n",
      "/home/dmitry/workspace/pacific_sdm/bin/loader.py:69: RuntimeWarning: invalid value encountered in greater\n",
      "  result[vals > t] = result[vals > t] + vals[vals > t] - t\n",
      "/home/dmitry/workspace/pacific_sdm/bin/loader.py:143: RuntimeWarning: invalid value encountered in less\n",
      "  inds = _ < vals_avg\n",
      "/home/dmitry/workspace/pacific_sdm/bin/loader.py:75: RuntimeWarning: invalid value encountered in less\n",
      "  result[vals < t] = result[vals < t] + vals[vals < t] - t\n",
      "/home/dmitry/workspace/pacific_sdm/bin/loader.py:97: RuntimeWarning: invalid value encountered in greater\n",
      "  if np.any(vals > t):\n",
      "/home/dmitry/workspace/pacific_sdm/bin/loader.py:99: RuntimeWarning: invalid value encountered in greater\n",
      "  result[vals > t] = result[vals > t] + precs[vals > t]\n"
     ]
    },
    {
     "name": "stdout",
     "output_type": "stream",
     "text": [
      "<class 'pandas.core.frame.DataFrame'>\n",
      "RangeIndex: 5043 entries, 0 to 5042\n",
      "Data columns (total 22 columns):\n",
      "absence      5043 non-null bool\n",
      "latitude     5043 non-null float64\n",
      "longitude    5043 non-null float64\n",
      "species      5043 non-null object\n",
      "TMAX12       5043 non-null float64\n",
      "BIO5         5043 non-null float64\n",
      "TMIN10       5043 non-null float64\n",
      "BIO7         5043 non-null float64\n",
      "PCKI0        5043 non-null float64\n",
      "BIO12        5043 non-null float64\n",
      "TAVG4        5043 non-null float64\n",
      "PREC2        5043 non-null float64\n",
      "PREC8        5043 non-null float64\n",
      "TMIN8        5043 non-null float64\n",
      "BIO2         5043 non-null float64\n",
      "BIO8         5043 non-null float64\n",
      "PREC10       5043 non-null float64\n",
      "PREC11       5043 non-null float64\n",
      "PREC12       5043 non-null float64\n",
      "BIO3         5043 non-null float64\n",
      "BIO9         5043 non-null float64\n",
      "BIO15        5043 non-null float64\n",
      "dtypes: bool(1), float64(20), object(1)\n",
      "memory usage: 832.4+ KB\n",
      "Removed correlated features:  {'TAVG12', 'TMAX11', 'TAVG7', 'TMIN5', 'TMIN4', 'WKI3', 'BIO1', 'TAVG5', 'PREC3', 'TAVG2', 'BIO11', 'IT', 'PREC9', 'TMAX3', 'WKI6', 'TAVG3', 'TAVG6', 'BIO16', 'TMAX4', 'CKI5', 'CKI3', 'TMIN12', 'TAVG8', 'CKI4', 'WKI4', 'BIO18', 'TMAX1', 'BIO14', 'BIO6', 'TAVG11', 'WKI5', 'TMIN3', 'TMAX10', 'PREC1', 'TAVG1', 'BIO10', 'PREC5', 'TMIN11', 'IC', 'TAVG10', 'TMIN1', 'TMAXM', 'TMINM', 'TMAX9', 'PREC6', 'TMAX2', 'WKI2', 'TMIN6', 'BIO17', 'PREC4', 'CKI2', 'PWKI0', 'TMAX7', 'BIO13', 'TMAX6', 'PREC7', 'BIO4', 'CKI6', 'TMIN7', 'BIO19', 'TMAX8', 'TMIN2', 'TMIN9', 'TAVG9', 'TMAX5'}\n",
      "Leaved features:  {'TMAX12', 'BIO5', 'BIO2', 'TMIN10', 'BIO12', 'BIO7', 'PCKI0', 'TAVG4', 'BIO8', 'PREC10', 'PREC11', 'BIO3', 'PREC2', 'TMIN8', 'PREC12', 'BIO9', 'BIO15', 'PREC8'}\n",
      "Dataset is formed.\n",
      "<class 'pandas.core.frame.DataFrame'>\n",
      "RangeIndex: 5043 entries, 0 to 5042\n",
      "Data columns (total 22 columns):\n",
      "absence      5043 non-null bool\n",
      "latitude     5043 non-null float64\n",
      "longitude    5043 non-null float64\n",
      "species      5043 non-null object\n",
      "TMAX12       5043 non-null float64\n",
      "BIO5         5043 non-null float64\n",
      "TMIN10       5043 non-null float64\n",
      "BIO7         5043 non-null float64\n",
      "PCKI0        5043 non-null float64\n",
      "BIO12        5043 non-null float64\n",
      "TAVG4        5043 non-null float64\n",
      "PREC2        5043 non-null float64\n",
      "PREC8        5043 non-null float64\n",
      "TMIN8        5043 non-null float64\n",
      "BIO2         5043 non-null float64\n",
      "BIO8         5043 non-null float64\n",
      "PREC10       5043 non-null float64\n",
      "PREC11       5043 non-null float64\n",
      "PREC12       5043 non-null float64\n",
      "BIO3         5043 non-null float64\n",
      "BIO9         5043 non-null float64\n",
      "BIO15        5043 non-null float64\n",
      "dtypes: bool(1), float64(20), object(1)\n",
      "memory usage: 832.4+ KB\n",
      "Preforming recursive feature ellimination for the <tree> classifier...\n",
      "Preforming recursive feature ellimination for the <MaxEnt> classifier...\n"
     ]
    },
    {
     "data": {
      "text/html": [
       "<h5> --------------- Summary for quercus crispula: --------------- </h5>"
      ],
      "text/plain": [
       "<IPython.core.display.HTML object>"
      ]
     },
     "metadata": {},
     "output_type": "display_data"
    },
    {
     "name": "stdout",
     "output_type": "stream",
     "text": [
      "The best classifier is MaxEnt. Its accuracy score is 0.9998015873015873.\n",
      "Optimal predictor set (acc):  ['TMAX12' 'BIO5' 'BIO2' 'TMIN10' 'BIO12' 'BIO7' 'PCKI0' 'TAVG4' 'BIO8'\n",
      " 'PREC10' 'PREC11' 'BIO3' 'PREC2' 'TMIN8' 'PREC12' 'BIO9' 'BIO15' 'PREC8']\n",
      "The best classifier is MaxEnt. Its roc/auc score is 1.0.\n",
      "Optimal predictor set (auc):  ['BIO12' 'PCKI0' 'BIO3' 'TMIN8' 'PREC12' 'BIO15' 'PREC8']\n",
      "Statistic over all classifiers: \n",
      "AUC/ROC - Case:\n"
     ]
    },
    {
     "data": {
      "text/html": [
       "<div>\n",
       "<style scoped>\n",
       "    .dataframe tbody tr th:only-of-type {\n",
       "        vertical-align: middle;\n",
       "    }\n",
       "\n",
       "    .dataframe tbody tr th {\n",
       "        vertical-align: top;\n",
       "    }\n",
       "\n",
       "    .dataframe thead th {\n",
       "        text-align: right;\n",
       "    }\n",
       "</style>\n",
       "<table border=\"1\" class=\"dataframe\">\n",
       "  <thead>\n",
       "    <tr style=\"text-align: right;\">\n",
       "      <th></th>\n",
       "      <th>MaxEnt</th>\n",
       "      <th>tree</th>\n",
       "    </tr>\n",
       "  </thead>\n",
       "  <tbody>\n",
       "    <tr>\n",
       "      <th>0</th>\n",
       "      <td>1</td>\n",
       "      <td>0.997972</td>\n",
       "    </tr>\n",
       "    <tr>\n",
       "      <th>1</th>\n",
       "      <td>[BIO12, PCKI0, BIO3, TMIN8, PREC12]</td>\n",
       "      <td>[TMIN10, BIO12]</td>\n",
       "    </tr>\n",
       "  </tbody>\n",
       "</table>\n",
       "</div>"
      ],
      "text/plain": [
       "                                MaxEnt             tree\n",
       "0                                    1         0.997972\n",
       "1  [BIO12, PCKI0, BIO3, TMIN8, PREC12]  [TMIN10, BIO12]"
      ]
     },
     "metadata": {},
     "output_type": "display_data"
    },
    {
     "name": "stdout",
     "output_type": "stream",
     "text": [
      "Precision - Case:\n"
     ]
    },
    {
     "data": {
      "text/html": [
       "<div>\n",
       "<style scoped>\n",
       "    .dataframe tbody tr th:only-of-type {\n",
       "        vertical-align: middle;\n",
       "    }\n",
       "\n",
       "    .dataframe tbody tr th {\n",
       "        vertical-align: top;\n",
       "    }\n",
       "\n",
       "    .dataframe thead th {\n",
       "        text-align: right;\n",
       "    }\n",
       "</style>\n",
       "<table border=\"1\" class=\"dataframe\">\n",
       "  <thead>\n",
       "    <tr style=\"text-align: right;\">\n",
       "      <th></th>\n",
       "      <th>MaxEnt</th>\n",
       "      <th>tree</th>\n",
       "    </tr>\n",
       "  </thead>\n",
       "  <tbody>\n",
       "    <tr>\n",
       "      <th>0</th>\n",
       "      <td>0.999802</td>\n",
       "      <td>0.999206</td>\n",
       "    </tr>\n",
       "    <tr>\n",
       "      <th>1</th>\n",
       "      <td>[TMAX12, BIO5, BIO2, TMIN10, BIO12]</td>\n",
       "      <td>[TMIN10, BIO12]</td>\n",
       "    </tr>\n",
       "  </tbody>\n",
       "</table>\n",
       "</div>"
      ],
      "text/plain": [
       "                                MaxEnt             tree\n",
       "0                             0.999802         0.999206\n",
       "1  [TMAX12, BIO5, BIO2, TMIN10, BIO12]  [TMIN10, BIO12]"
      ]
     },
     "metadata": {},
     "output_type": "display_data"
    },
    {
     "data": {
      "text/html": [
       "<h5> ~~~~~~~~~~~~~~~~~~~~~~~~~~~~~~~~~~~~~~~~~~~~~~~~~~~~~~~~~~~~~~~~~~~~~~~~~~~~~~~~~~~~~~~~~~ </h5>"
      ],
      "text/plain": [
       "<IPython.core.display.HTML object>"
      ]
     },
     "metadata": {},
     "output_type": "display_data"
    },
    {
     "name": "stderr",
     "output_type": "stream",
     "text": [
      "/home/dmitry/workspace/pacific_sdm/bin/loader.py:104: RuntimeWarning: invalid value encountered in less\n",
      "  if np.any(vals < t):\n",
      "/home/dmitry/workspace/pacific_sdm/bin/loader.py:106: RuntimeWarning: invalid value encountered in less\n",
      "  result[vals < t] = result[vals < t] + precs[vals < t]\n"
     ]
    },
    {
     "data": {
      "text/html": [
       "<h5>=============== fraxinus mandshurica ======================</h5>"
      ],
      "text/plain": [
       "<IPython.core.display.HTML object>"
      ]
     },
     "metadata": {},
     "output_type": "display_data"
    },
    {
     "name": "stdout",
     "output_type": "stream",
     "text": [
      "Constructing the dataset...\n"
     ]
    },
    {
     "name": "stderr",
     "output_type": "stream",
     "text": [
      "/home/dmitry/workspace/pacific_sdm/bin/loader.py:104: RuntimeWarning: invalid value encountered in less\n",
      "  if np.any(vals < t):\n",
      "/home/dmitry/workspace/pacific_sdm/bin/loader.py:106: RuntimeWarning: invalid value encountered in less\n",
      "  result[vals < t] = result[vals < t] + precs[vals < t]\n",
      "/home/dmitry/workspace/pacific_sdm/bin/loader.py:69: RuntimeWarning: invalid value encountered in greater\n",
      "  result[vals > t] = result[vals > t] + vals[vals > t] - t\n",
      "/home/dmitry/workspace/pacific_sdm/bin/loader.py:143: RuntimeWarning: invalid value encountered in less\n",
      "  inds = _ < vals_avg\n",
      "/home/dmitry/workspace/pacific_sdm/bin/loader.py:75: RuntimeWarning: invalid value encountered in less\n",
      "  result[vals < t] = result[vals < t] + vals[vals < t] - t\n",
      "/home/dmitry/workspace/pacific_sdm/bin/loader.py:97: RuntimeWarning: invalid value encountered in greater\n",
      "  if np.any(vals > t):\n",
      "/home/dmitry/workspace/pacific_sdm/bin/loader.py:99: RuntimeWarning: invalid value encountered in greater\n",
      "  result[vals > t] = result[vals > t] + precs[vals > t]\n"
     ]
    },
    {
     "name": "stdout",
     "output_type": "stream",
     "text": [
      "<class 'pandas.core.frame.DataFrame'>\n",
      "RangeIndex: 4841 entries, 0 to 4840\n",
      "Data columns (total 28 columns):\n",
      "absence      4841 non-null bool\n",
      "latitude     4841 non-null float64\n",
      "longitude    4841 non-null float64\n",
      "species      4841 non-null object\n",
      "TMAX12       4841 non-null float64\n",
      "BIO5         4841 non-null float64\n",
      "TMIN10       4841 non-null float64\n",
      "BIO7         4841 non-null float64\n",
      "PCKI0        4841 non-null float64\n",
      "BIO12        4841 non-null float64\n",
      "PREC5        4841 non-null float64\n",
      "TAVG4        4841 non-null float64\n",
      "PREC2        4841 non-null float64\n",
      "PREC6        4841 non-null float64\n",
      "PREC8        4841 non-null float64\n",
      "TMAX9        4841 non-null float64\n",
      "PREC9        4841 non-null float64\n",
      "PREC4        4841 non-null float64\n",
      "PWKI0        4841 non-null float64\n",
      "TMIN8        4841 non-null float64\n",
      "BIO2         4841 non-null float64\n",
      "BIO8         4841 non-null float64\n",
      "PREC7        4841 non-null float64\n",
      "PREC10       4841 non-null float64\n",
      "PREC11       4841 non-null float64\n",
      "BIO3         4841 non-null float64\n",
      "BIO9         4841 non-null float64\n",
      "BIO15        4841 non-null float64\n",
      "dtypes: bool(1), float64(26), object(1)\n",
      "memory usage: 1.0+ MB\n",
      "Removed correlated features:  {'TAVG12', 'TAVG1', 'TMAX11', 'BIO10', 'TMIN11', 'TMIN1', 'TAVG7', 'TAVG10', 'IC', 'TMIN4', 'TMAXM', 'WKI3', 'BIO1', 'TMIN5', 'TMINM', 'TAVG5', 'TAVG2', 'PREC3', 'TMAX2', 'BIO11', 'IT', 'WKI2', 'TMAX3', 'TMIN6', 'BIO17', 'WKI6', 'CKI2', 'TAVG3', 'TAVG6', 'PREC1', 'TMAX7', 'BIO13', 'BIO16', 'TMAX4', 'TMAX6', 'CKI5', 'CKI3', 'TMIN12', 'BIO4', 'CKI6', 'TAVG8', 'CKI4', 'PREC12', 'TMIN7', 'BIO19', 'WKI4', 'TMAX8', 'BIO18', 'TMAX1', 'BIO14', 'BIO6', 'TAVG11', 'TMIN2', 'WKI5', 'TMIN3', 'TMAX10', 'TMIN9', 'TAVG9', 'TMAX5'}\n",
      "Leaved features:  {'TMAX12', 'BIO5', 'TMIN10', 'BIO12', 'BIO7', 'PCKI0', 'PREC5', 'TAVG4', 'PREC2', 'TMAX9', 'PREC6', 'PREC9', 'PREC4', 'PWKI0', 'TMIN8', 'BIO2', 'BIO8', 'PREC7', 'PREC10', 'PREC11', 'BIO3', 'BIO9', 'BIO15', 'PREC8'}\n",
      "Dataset is formed.\n",
      "<class 'pandas.core.frame.DataFrame'>\n",
      "RangeIndex: 4841 entries, 0 to 4840\n",
      "Data columns (total 28 columns):\n",
      "absence      4841 non-null bool\n",
      "latitude     4841 non-null float64\n",
      "longitude    4841 non-null float64\n",
      "species      4841 non-null object\n",
      "TMAX12       4841 non-null float64\n",
      "BIO5         4841 non-null float64\n",
      "TMIN10       4841 non-null float64\n",
      "BIO7         4841 non-null float64\n",
      "PCKI0        4841 non-null float64\n",
      "BIO12        4841 non-null float64\n",
      "PREC5        4841 non-null float64\n",
      "TAVG4        4841 non-null float64\n",
      "PREC2        4841 non-null float64\n",
      "PREC6        4841 non-null float64\n",
      "PREC8        4841 non-null float64\n",
      "TMAX9        4841 non-null float64\n",
      "PREC9        4841 non-null float64\n",
      "PREC4        4841 non-null float64\n",
      "PWKI0        4841 non-null float64\n",
      "TMIN8        4841 non-null float64\n",
      "BIO2         4841 non-null float64\n",
      "BIO8         4841 non-null float64\n",
      "PREC7        4841 non-null float64\n",
      "PREC10       4841 non-null float64\n",
      "PREC11       4841 non-null float64\n",
      "BIO3         4841 non-null float64\n",
      "BIO9         4841 non-null float64\n",
      "BIO15        4841 non-null float64\n",
      "dtypes: bool(1), float64(26), object(1)\n",
      "memory usage: 1.0+ MB\n",
      "Preforming recursive feature ellimination for the <tree> classifier...\n",
      "Preforming recursive feature ellimination for the <MaxEnt> classifier...\n"
     ]
    }
   ],
   "source": [
    "for species in MODEL_SPECIES:\n",
    "    display(HTML('<h5>=============== %s ======================</h5>' % species))\n",
    "    classifier_stats_acc, classifier_stats_auc = [], []\n",
    "    model = Pipeline([('select_species', SelectSpecies(species)), \n",
    "                      ('prune_suspicious', PruneSuspiciousCoords()),\n",
    "                      ('ps_absence', FillPseudoAbsenceData(density=0.8)),\n",
    "                      ('fill_env', FillEnvironmentalData(VARIABLE_SET)),\n",
    "                  #    ('fill_by_cond', FillPseudoAbsenceByConditions(species=species,\n",
    "                  #                                                   similarity=0.2,\n",
    "                  #                                                   density=0.1,\n",
    "                  #                                                   area=[(22,100),(65,169)])),\n",
    "                      ('exclude_by_corr', CorrelationPruner(threshold=0.95, variables=VARIABLE_SET))\n",
    "                     ]\n",
    "                     )\n",
    "    print(\"Constructing the dataset...\")\n",
    "    aux_result = model.fit_transform(original_presence_data)\n",
    "    aux_result.info()\n",
    "    current_variable_set = set(VARIABLE_SET).intersection(set(aux_result.columns.values))\n",
    "    print(\"Removed correlated features: \", set(VARIABLE_SET) - current_variable_set)\n",
    "    print(\"Leaved features: \", current_variable_set)\n",
    "    current_variable_set = list(current_variable_set)\n",
    "    X, y = aux_result[current_variable_set].values, list(map(int, ~aux_result.absence))\n",
    "    print(\"Dataset is formed.\")\n",
    "    aux_result.info()\n",
    "    for name, clf in CLASSIFIERS:\n",
    "        std_clf = TweakedPipeline([('scaler', StandardScaler()),\n",
    "                         ('classificator', clf)])\n",
    "        print(\"Preforming recursive feature ellimination for the <%s> classifier...\" % name)\n",
    "        rfecv_acc = RFECV(estimator=std_clf, step=1, cv=StratifiedKFold(KFOLDS_NUMBER, shuffle=True),\n",
    "                      scoring='accuracy')\n",
    "        rfecv_acc.fit(X, y)\n",
    "        acc_score = np.array(rfecv_acc.grid_scores_)[np.argmax(rfecv_acc.grid_scores_)]\n",
    "        rfecv_auc = RFECV(estimator=std_clf, step=1, cv=StratifiedKFold(KFOLDS_NUMBER, shuffle=True),\n",
    "                      scoring='roc_auc')\n",
    "        rfecv_auc.fit(X, y)\n",
    "        auc_score = np.array(rfecv_auc.grid_scores_)[np.argmax(rfecv_auc.grid_scores_)]\n",
    "        classifier_stats_acc.append((name, acc_score, std_clf, rfecv_acc.support_))\n",
    "        classifier_stats_auc.append((name, auc_score, std_clf, rfecv_auc.support_))\n",
    "    acc_optimal_name, acc_optimal_score, acc_optimal_clf, acc_optimal_mask = tuple(classifier_stats_acc[np.argmax(list(map(lambda x: x[1], classifier_stats_acc)))])\n",
    "    auc_optimal_name, auc_optimal_score, auc_optimal_clf, auc_optimal_mask = tuple(classifier_stats_auc[np.argmax(list(map(lambda x: x[1], classifier_stats_auc)))])\n",
    "    display(HTML('<h5> --------------- Summary for %s: --------------- </h5>' % species))\n",
    "    print(\"The best classifier is %s. Its accuracy score is %s.\" % (acc_optimal_name, acc_optimal_score))\n",
    "    print(\"Optimal predictor set (acc): \",  np.array(current_variable_set)[acc_optimal_mask])\n",
    "    print(\"The best classifier is %s. Its roc/auc score is %s.\" % (auc_optimal_name, auc_optimal_score))\n",
    "    print(\"Optimal predictor set (auc): \",  np.array(current_variable_set)[auc_optimal_mask])\n",
    "    print(\"Statistic over all classifiers: \")\n",
    "    print(\"AUC/ROC - Case:\")\n",
    "    df = pd.DataFrame({n[0]: [n[1], np.array(current_variable_set)[n[-1]][:5]] for n in classifier_stats_auc})\n",
    "    display(df)\n",
    "    print(\"Precision - Case:\")\n",
    "    df = pd.DataFrame({n[0]: [n[1], np.array(current_variable_set)[n[-1]][:5]] for n in classifier_stats_acc})\n",
    "    display(df)\n",
    "    display(HTML('<h5> %s </h5>' % (\"~\" * 90,)))\n",
    "    \n",
    "    # ---- \n",
    "    #optimal_vars = list(np.array(current_variable_set)[auc_optimal_mask])\n",
    "    optimal_vars = current_variable_set\n",
    "    X, y = aux_result[optimal_vars].values, list(map(int, ~aux_result.absence))\n",
    "    auc_optimal_clf.fit(X, y)\n",
    "\n",
    "    \n",
    "    fig, ax, XMAP = plot_map([22, 65], [100, 169], 1000, auc_optimal_clf,\n",
    "                            optimal_vars, train_df=aux_result,\n",
    "                            name='clf_'+auc_optimal_name+'_'+species, postfix='')\n",
    "    \n",
    "    #plt.show()\n",
    "    fig.set_size_inches(18.5, 10.5)\n",
    "    fig.savefig('%s'%species+'_'+auc_optimal_name+ '.png', dpi=600)\n",
    "    plt.close(fig)\n",
    "    \n",
    "\n",
    "#     predictions[~nan_mask, :] = auc_optimal_clf.predict_proba(XMAP[~nan_mask,:])\n",
    "#     presence_proba_current = predictions[:, 1]\n",
    "#     plt.figure()\n",
    "#     plt.contourf(LONS_GRID, LATS_GRID, presence_proba_current.reshape(1000,1000))\n",
    "#     plt.title('Present')\n",
    "#     plt.show()\n",
    "    \n",
    "#     fill_env = FillEnvironmentalData(optimal_vars, postfix='_50cc26')\n",
    "#     filled_df_f = fill_env.transform_nans(map_df)\n",
    "#     XMAP_f = filled_df_f.loc[:, optimal_vars].values\n",
    "#     nan_mask_future = np.any(np.isnan(XMAP_f), axis=1)\n",
    "#     predictions_future = np.zeros((len(nan_mask_future), 2)) * np.nan\n",
    "    \n",
    "#     predictions_future[~nan_mask_future, :] = auc_optimal_clf.predict_proba(XMAP_f[~nan_mask_future,:])\n",
    "#     presence_proba_future = predictions_future[:, 1]\n",
    "#     plt.figure()\n",
    "#     plt.contourf(LONS_GRID, LATS_GRID, presence_proba_future.reshape(1000,1000))\n",
    "#     plt.title('Future: 50cc26')\n",
    "#     plt.show()\n",
    "      "
   ]
  },
  {
   "cell_type": "code",
   "execution_count": null,
   "metadata": {},
   "outputs": [],
   "source": []
  }
 ],
 "metadata": {
  "kernelspec": {
   "display_name": "Python 3",
   "language": "python",
   "name": "python3"
  },
  "language_info": {
   "codemirror_mode": {
    "name": "ipython",
    "version": 3
   },
   "file_extension": ".py",
   "mimetype": "text/x-python",
   "name": "python",
   "nbconvert_exporter": "python",
   "pygments_lexer": "ipython3",
   "version": "3.5.4"
  }
 },
 "nbformat": 4,
 "nbformat_minor": 2
}
