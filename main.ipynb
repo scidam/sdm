{
 "cells": [
  {
   "cell_type": "markdown",
   "metadata": {},
   "source": [
    "# Basic modelling module"
   ]
  },
  {
   "cell_type": "code",
   "execution_count": 1,
   "metadata": {},
   "outputs": [],
   "source": [
    "# make plots be included into this doc\n",
    "%matplotlib inline"
   ]
  },
  {
   "cell_type": "markdown",
   "metadata": {},
   "source": [
    "# Importing modules"
   ]
  },
  {
   "cell_type": "code",
   "execution_count": 2,
   "metadata": {},
   "outputs": [],
   "source": [
    "import numpy as np\n",
    "import pandas as pd\n",
    "import os\n",
    "from IPython.core.display import display, HTML\n",
    "from bin.model import *\n",
    "from sklearn.pipeline import Pipeline\n",
    "from bin.conf import PREDICTOR_LOADERS\n",
    "from bin.loader import get_predictor_data\n",
    "from sklearn.model_selection import StratifiedKFold\n",
    "from sklearn.feature_selection import RFECV\n",
    "from sklearn.linear_model import LogisticRegression\n",
    "from sklearn.discriminant_analysis import LinearDiscriminantAnalysis\n",
    "from sklearn.naive_bayes import GaussianNB\n",
    "from sklearn.pipeline import make_pipeline\n",
    "from sklearn.preprocessing import StandardScaler\n",
    "from sklearn.tree import DecisionTreeClassifier\n",
    "from sklearn.svm import SVC"
   ]
  },
  {
   "cell_type": "markdown",
   "metadata": {},
   "source": [
    "# Constants definitions"
   ]
  },
  {
   "cell_type": "code",
   "execution_count": 3,
   "metadata": {},
   "outputs": [],
   "source": [
    "SOURCE_DATA_PATH = './data' # relative (or absolute) path to the data directory\n",
    "CSV_SEPARATOR = r';' # separator used in csv data files\n",
    "DATA_FILE_NAMES = ['broad_leaf_GBIF.csv',# all data files should be in the same format\n",
    "                   'широколиственные.csv',\n",
    "                  # 'broad_leaved_herbarium_and_observation.csv',\n",
    "                   'GBIF_coordinate.csv'\n",
    "                  ] \n",
    "ALLOWED_COLUMNS = ['species', 'latitude', 'longitude'] # only these columns will be retained for computations\n",
    "COLUMNS_DTYPES = [np.str, np.float64, np.float64] # Should have the same length as ALLOWED_COLUMNS\n",
    "MODEL_SPECIES = ['quercus',\n",
    "                 'quercus mongolica',\n",
    "                 'quercus crispula',\n",
    "                 'kalopanax septemlobus',\n",
    "                 'fraxinus mandshurica'] # all  species should be given in lowercase format\n",
    "\n",
    "# Initial set of variables (see conf.py: PREDICTOR_LOADERS parameter for details)\n",
    "VARIABLE_SET = tuple(['BIO' + str(k) for k in range(1, 20)])\n",
    "VARIABLE_SET += ('PWKI0', 'PCKI0','IT', 'IC', 'TMINM', 'TMAXM')\n",
    "VARIABLE_SET += tuple(['PREC' + str(k) for k in range(1, 13)])\n",
    "VARIABLE_SET += tuple(['TAVG' + str(k) for k in range(1, 13)])\n",
    "VARIABLE_SET += tuple(['WKI' + str(k) for k in range(2, 7)])\n",
    "VARIABLE_SET += tuple(['CKI' + str(k) for k in range(2, 7)])\n",
    "CLASSIFIERS = [ ('tree', DecisionTreeClassifier(random_state=10)),\n",
    "                ('MaxEnt', LogisticRegression()),\n",
    "                ('SVM', SVC(kernel='linear'))\n",
    "                #('LDA', LinearDiscriminantAnalysis())\n",
    "              ]\n",
    "KFOLDS_NUMBER = 20\n",
    "PSEUDO_ABSENCE_DENSITY = 1"
   ]
  },
  {
   "cell_type": "markdown",
   "metadata": {},
   "source": [
    "# Source data loading and preprocessing"
   ]
  },
  {
   "cell_type": "code",
   "execution_count": 4,
   "metadata": {},
   "outputs": [
    {
     "name": "stdout",
     "output_type": "stream",
     "text": [
      "The file broad_leaf_GBIF.csv succesfully loaded.\n",
      "File overview:\n",
      "<class 'pandas.core.frame.DataFrame'>\n",
      "RangeIndex: 3036 entries, 0 to 3035\n",
      "Data columns (total 4 columns):\n",
      "species        3036 non-null object\n",
      "countrycode    3036 non-null object\n",
      "latitude       3034 non-null float64\n",
      "longitude      3034 non-null float64\n",
      "dtypes: float64(2), object(2)\n",
      "memory usage: 95.0+ KB\n",
      "==================================================\n",
      "The file широколиственные.csv succesfully loaded.\n",
      "File overview:\n",
      "<class 'pandas.core.frame.DataFrame'>\n",
      "RangeIndex: 605 entries, 0 to 604\n",
      "Data columns (total 3 columns):\n",
      "species      605 non-null object\n",
      "latitude     604 non-null float64\n",
      "longitude    604 non-null float64\n",
      "dtypes: float64(2), object(1)\n",
      "memory usage: 14.3+ KB\n",
      "==================================================\n",
      "The file GBIF_coordinate.csv succesfully loaded.\n",
      "File overview:\n",
      "<class 'pandas.core.frame.DataFrame'>\n",
      "RangeIndex: 2443 entries, 0 to 2442\n",
      "Data columns (total 3 columns):\n",
      "species      2443 non-null object\n",
      "latitude     2437 non-null float64\n",
      "longitude    2437 non-null float64\n",
      "dtypes: float64(2), object(1)\n",
      "memory usage: 57.3+ KB\n",
      "==================================================\n"
     ]
    },
    {
     "data": {
      "text/html": [
       "<h3>Original size: 6084</h3>"
      ],
      "text/plain": [
       "<IPython.core.display.HTML object>"
      ]
     },
     "metadata": {},
     "output_type": "display_data"
    },
    {
     "data": {
      "text/html": [
       "<h3>The size after duplications removal: 2410</h3>"
      ],
      "text/plain": [
       "<IPython.core.display.HTML object>"
      ]
     },
     "metadata": {},
     "output_type": "display_data"
    }
   ],
   "source": [
    "original_presence_data = pd.DataFrame({col: [] for col in ALLOWED_COLUMNS}) #initialize dataframe-accumulator\n",
    "for filename in DATA_FILE_NAMES:\n",
    "    try:\n",
    "        # data loading procedure\n",
    "        data = pd.read_csv(os.path.join(SOURCE_DATA_PATH, filename),\n",
    "                           sep=CSV_SEPARATOR, dtype={a:b for a,b in zip(ALLOWED_COLUMNS, COLUMNS_DTYPES)})\n",
    "    except IOError:\n",
    "        print(\"Couldn't read the file %s.\" % filename)\n",
    "    if any(data):\n",
    "        print('The file %s succesfully loaded.' % filename)\n",
    "        print('File overview:')\n",
    "        data.info()\n",
    "        print('='*50)\n",
    "    # data concatenation procedure\n",
    "    original_presence_data = pd.concat([original_presence_data, data[ALLOWED_COLUMNS]], ignore_index=True)\n",
    "\n",
    "\n",
    "\n",
    "# make species names lowercased and stripped\n",
    "original_presence_data['species'] = original_presence_data['species'].apply(str.lower).apply(str.strip)\n",
    "\n",
    "display(HTML('<h3>Original size: %s</h3>'%original_presence_data['species'].size))\n",
    "\n",
    "# remove duplicate rows and nan values\n",
    "original_presence_data = original_presence_data.dropna().drop_duplicates(ALLOWED_COLUMNS).reset_index(drop=True)\n",
    "display(HTML('<h3>The size after duplications removal: %s</h3>'%original_presence_data['species'].size))\n",
    "\n",
    "\n",
    "# remove duplicate values\n"
   ]
  },
  {
   "cell_type": "markdown",
   "metadata": {},
   "source": [
    "## Initial dataset overview"
   ]
  },
  {
   "cell_type": "code",
   "execution_count": 5,
   "metadata": {},
   "outputs": [
    {
     "data": {
      "text/html": [
       "<h3>General info:</h3>"
      ],
      "text/plain": [
       "<IPython.core.display.HTML object>"
      ]
     },
     "metadata": {},
     "output_type": "display_data"
    },
    {
     "name": "stdout",
     "output_type": "stream",
     "text": [
      "<class 'pandas.core.frame.DataFrame'>\n",
      "RangeIndex: 2410 entries, 0 to 2409\n",
      "Data columns (total 3 columns):\n",
      "latitude     2410 non-null float64\n",
      "longitude    2410 non-null float64\n",
      "species      2410 non-null object\n",
      "dtypes: float64(2), object(1)\n",
      "memory usage: 56.6+ KB\n"
     ]
    },
    {
     "data": {
      "text/html": [
       "<h3>Species occurences overview:</h3>"
      ],
      "text/plain": [
       "<IPython.core.display.HTML object>"
      ]
     },
     "metadata": {},
     "output_type": "display_data"
    },
    {
     "data": {
      "text/plain": [
       "quercus mongolica         329\n",
       "carpinus cordata          307\n",
       "kalopanax septemlobus     303\n",
       "juglans mandshurica       299\n",
       "fraxinus lanuginosa       274\n",
       "quercus crispula          163\n",
       "phellodendron amurense    152\n",
       "ulmus davidiana           135\n",
       "ulmus laciniata           104\n",
       "acer mono                  78\n",
       "acer pictum                75\n",
       "pinus koraiensis           51\n",
       "fraxinus mandshurica       40\n",
       "fraxinus rhynchophylla     34\n",
       "juglans ailanthifolia      27\n",
       "tilia amurensis            23\n",
       "abies holophylla           16\n",
       "Name: species, dtype: int64"
      ]
     },
     "execution_count": 5,
     "metadata": {},
     "output_type": "execute_result"
    }
   ],
   "source": [
    "display(HTML('<h3>General info:</h3>'))\n",
    "original_presence_data.info()\n",
    "display(HTML('<h3>Species occurences overview:</h3>'))\n",
    "original_presence_data['species'].value_counts()"
   ]
  },
  {
   "cell_type": "markdown",
   "metadata": {},
   "source": [
    "# MAIN LOOP OVER ALL SPECIES"
   ]
  },
  {
   "cell_type": "code",
   "execution_count": 6,
   "metadata": {},
   "outputs": [
    {
     "data": {
      "text/html": [
       "<h5>=============== quercus ======================</h5>"
      ],
      "text/plain": [
       "<IPython.core.display.HTML object>"
      ]
     },
     "metadata": {},
     "output_type": "display_data"
    },
    {
     "name": "stdout",
     "output_type": "stream",
     "text": [
      "Constructing the dataset...\n"
     ]
    },
    {
     "name": "stderr",
     "output_type": "stream",
     "text": [
      "/home/dmitry/workspace/pacific_sdm/bin/loader.py:88: RuntimeWarning: invalid value encountered in greater\n",
      "  if np.any(vals > t):\n",
      "/home/dmitry/workspace/pacific_sdm/bin/loader.py:90: RuntimeWarning: invalid value encountered in greater\n",
      "  result[vals > t] = result[vals > t] + precs[vals > t]\n",
      "/home/dmitry/workspace/pacific_sdm/bin/loader.py:95: RuntimeWarning: invalid value encountered in less\n",
      "  if np.any(vals < t):\n",
      "/home/dmitry/workspace/pacific_sdm/bin/loader.py:97: RuntimeWarning: invalid value encountered in less\n",
      "  result[vals < t] = result[vals < t] + precs[vals < t]\n",
      "/home/dmitry/workspace/pacific_sdm/bin/loader.py:134: RuntimeWarning: invalid value encountered in less\n",
      "  inds = _ < vals_avg\n",
      "/home/dmitry/workspace/pacific_sdm/bin/loader.py:60: RuntimeWarning: invalid value encountered in greater\n",
      "  result[vals > t] = result[vals > t] + vals[vals > t] - t\n",
      "/home/dmitry/workspace/pacific_sdm/bin/loader.py:66: RuntimeWarning: invalid value encountered in less\n",
      "  result[vals < t] = result[vals < t] + vals[vals < t] - t\n"
     ]
    },
    {
     "name": "stdout",
     "output_type": "stream",
     "text": [
      "Dataset is formed.\n",
      "<class 'pandas.core.frame.DataFrame'>\n",
      "RangeIndex: 4474 entries, 0 to 4473\n",
      "Data columns (total 63 columns):\n",
      "absence      4474 non-null bool\n",
      "latitude     4474 non-null float64\n",
      "longitude    4474 non-null float64\n",
      "species      4474 non-null object\n",
      "BIO1         4474 non-null float64\n",
      "BIO2         4474 non-null float64\n",
      "BIO3         4474 non-null float64\n",
      "BIO4         4474 non-null float64\n",
      "BIO5         4474 non-null float64\n",
      "BIO6         4474 non-null float64\n",
      "BIO7         4474 non-null float64\n",
      "BIO8         4474 non-null float64\n",
      "BIO9         4474 non-null float64\n",
      "BIO10        4474 non-null float64\n",
      "BIO11        4474 non-null float64\n",
      "BIO12        4474 non-null float64\n",
      "BIO13        4474 non-null float64\n",
      "BIO14        4474 non-null float64\n",
      "BIO15        4474 non-null float64\n",
      "BIO16        4474 non-null float64\n",
      "BIO17        4474 non-null float64\n",
      "BIO18        4474 non-null float64\n",
      "BIO19        4474 non-null float64\n",
      "PWKI0        4474 non-null float64\n",
      "PCKI0        4474 non-null float64\n",
      "IT           4474 non-null float64\n",
      "IC           4474 non-null float64\n",
      "TMINM        4474 non-null float64\n",
      "TMAXM        4474 non-null float64\n",
      "PREC1        4474 non-null float64\n",
      "PREC2        4474 non-null float64\n",
      "PREC3        4474 non-null float64\n",
      "PREC4        4474 non-null float64\n",
      "PREC5        4474 non-null float64\n",
      "PREC6        4474 non-null float64\n",
      "PREC7        4474 non-null float64\n",
      "PREC8        4474 non-null float64\n",
      "PREC9        4474 non-null float64\n",
      "PREC10       4474 non-null float64\n",
      "PREC11       4474 non-null float64\n",
      "PREC12       4474 non-null float64\n",
      "TAVG1        4474 non-null float64\n",
      "TAVG2        4474 non-null float64\n",
      "TAVG3        4474 non-null float64\n",
      "TAVG4        4474 non-null float64\n",
      "TAVG5        4474 non-null float64\n",
      "TAVG6        4474 non-null float64\n",
      "TAVG7        4474 non-null float64\n",
      "TAVG8        4474 non-null float64\n",
      "TAVG9        4474 non-null float64\n",
      "TAVG10       4474 non-null float64\n",
      "TAVG11       4474 non-null float64\n",
      "TAVG12       4474 non-null float64\n",
      "WKI2         4474 non-null float64\n",
      "WKI3         4474 non-null float64\n",
      "WKI4         4474 non-null float64\n",
      "WKI5         4474 non-null float64\n",
      "WKI6         4474 non-null float64\n",
      "CKI2         4474 non-null float64\n",
      "CKI3         4474 non-null float64\n",
      "CKI4         4474 non-null float64\n",
      "CKI5         4474 non-null float64\n",
      "CKI6         4474 non-null float64\n",
      "dtypes: bool(1), float64(61), object(1)\n",
      "memory usage: 2.1+ MB\n",
      "Preforming recursive feature ellimination for the <tree> classifier...\n",
      "==================== accuracy case ====================\n",
      "Optimal composition of variables:  ['BIO18' 'BIO19' 'PWKI0' 'PCKI0' 'IT' 'IC' 'TMINM' 'TMAXM' 'PREC1' 'PREC2'\n",
      " 'PREC3' 'PREC4' 'PREC5' 'PREC6' 'PREC7' 'PREC8' 'PREC9' 'PREC10' 'PREC11'\n",
      " 'PREC12' 'TAVG2' 'TAVG3' 'TAVG4' 'TAVG5' 'TAVG6' 'TAVG7' 'TAVG8' 'TAVG9'\n",
      " 'TAVG10' 'TAVG11' 'TAVG12' 'WKI2' 'WKI3' 'WKI4' 'WKI5' 'WKI6' 'CKI2'\n",
      " 'CKI3' 'CKI4' 'CKI5' 'CKI6']\n",
      "Classification score (acc):  0.9991061418962204\n",
      "============================================================\n",
      "==================== roc/auc case ====================\n",
      "Optimal composition of variables:  ['BIO11' 'BIO12' 'BIO13' 'BIO14' 'BIO15' 'BIO16' 'BIO17' 'BIO18' 'BIO19'\n",
      " 'PWKI0' 'PCKI0' 'IT' 'IC' 'TMINM' 'TMAXM' 'PREC1' 'PREC2' 'PREC3' 'PREC4'\n",
      " 'PREC5' 'PREC6' 'PREC7' 'PREC8' 'PREC9' 'PREC10' 'PREC11' 'PREC12'\n",
      " 'TAVG1' 'TAVG2' 'TAVG3' 'TAVG4' 'TAVG5' 'TAVG6' 'TAVG7' 'TAVG8' 'TAVG9'\n",
      " 'TAVG10' 'TAVG11' 'TAVG12' 'WKI2' 'WKI3' 'WKI4' 'WKI5' 'WKI6' 'CKI2'\n",
      " 'CKI3' 'CKI4' 'CKI5' 'CKI6']\n",
      "Classification score (auc):  0.9977083333333333\n",
      "============================================================\n",
      "The following predictors composition was selected:  ['BIO18' 'BIO19' 'PWKI0' 'PCKI0' 'IT' 'IC' 'TMINM' 'TMAXM' 'PREC1' 'PREC2'\n",
      " 'PREC3' 'PREC4' 'PREC5' 'PREC6' 'PREC7' 'PREC8' 'PREC9' 'PREC10' 'PREC11'\n",
      " 'PREC12' 'TAVG2' 'TAVG3' 'TAVG4' 'TAVG5' 'TAVG6' 'TAVG7' 'TAVG8' 'TAVG9'\n",
      " 'TAVG10' 'TAVG11' 'TAVG12' 'WKI2' 'WKI3' 'WKI4' 'WKI5' 'WKI6' 'CKI2'\n",
      " 'CKI3' 'CKI4' 'CKI5' 'CKI6']\n",
      "Preforming recursive feature ellimination for the <MaxEnt> classifier...\n",
      "==================== accuracy case ====================\n",
      "Optimal composition of variables:  ['BIO15' 'BIO18' 'PWKI0' 'PCKI0' 'PREC5' 'PREC7' 'TAVG8']\n",
      "Classification score (acc):  0.9995535714285715\n",
      "============================================================\n",
      "==================== roc/auc case ====================\n",
      "Optimal composition of variables:  ['BIO3' 'BIO12' 'BIO15' 'BIO16' 'BIO18' 'PWKI0' 'PCKI0' 'PREC4' 'PREC5'\n",
      " 'PREC6' 'PREC7' 'PREC9' 'TAVG8' 'TAVG9' 'TAVG10']\n",
      "Classification score (auc):  1.0\n",
      "============================================================\n",
      "The following predictors composition was selected:  ['BIO15' 'BIO18' 'PWKI0' 'PCKI0' 'PREC5' 'PREC7' 'TAVG8']\n",
      "Preforming recursive feature ellimination for the <SVM> classifier...\n",
      "==================== accuracy case ====================\n",
      "Optimal composition of variables:  ['BIO9' 'PWKI0' 'PCKI0' 'PREC5' 'PREC6' 'PREC7' 'PREC12' 'TAVG1' 'TAVG9'\n",
      " 'TAVG10']\n",
      "Classification score (acc):  0.9995515695067265\n",
      "============================================================\n",
      "==================== roc/auc case ====================\n",
      "Optimal composition of variables:  ['BIO9' 'BIO16' 'PWKI0' 'PCKI0' 'PREC5' 'PREC6' 'PREC7' 'PREC12' 'TAVG1'\n",
      " 'TAVG9' 'TAVG10']\n",
      "Classification score (auc):  1.0\n",
      "============================================================\n",
      "The following predictors composition was selected:  ['BIO9' 'PWKI0' 'PCKI0' 'PREC5' 'PREC6' 'PREC7' 'PREC12' 'TAVG1' 'TAVG9'\n",
      " 'TAVG10']\n"
     ]
    },
    {
     "data": {
      "text/html": [
       "<h5> --------------- Summary for quercus: --------------- </h5>"
      ],
      "text/plain": [
       "<IPython.core.display.HTML object>"
      ]
     },
     "metadata": {},
     "output_type": "display_data"
    },
    {
     "name": "stdout",
     "output_type": "stream",
     "text": [
      "The best classifier is MaxEnt. Its accuracy score is 0.9995535714285715.\n",
      "Optimal predictor set (acc):  ['BIO15' 'BIO18' 'PWKI0' 'PCKI0' 'PREC5' 'PREC7' 'TAVG8']\n",
      "The best classifier is MaxEnt. Its roc/auc score is 1.0.\n",
      "Optimal predictor set (auc):  ['BIO3' 'BIO12' 'BIO15' 'BIO16' 'BIO18' 'PWKI0' 'PCKI0' 'PREC4' 'PREC5'\n",
      " 'PREC6' 'PREC7' 'PREC9' 'TAVG8' 'TAVG9' 'TAVG10']\n"
     ]
    },
    {
     "data": {
      "text/html": [
       "<h5> ~~~~~~~~~~~~~~~~~~~~~~~~~~~~~~~~~~~~~~~~~~~~~~~~~~~~~~~~~~~~~~~~~~~~~~~~~~~~~~~~~~~~~~~~~~ </h5>"
      ],
      "text/plain": [
       "<IPython.core.display.HTML object>"
      ]
     },
     "metadata": {},
     "output_type": "display_data"
    },
    {
     "data": {
      "text/html": [
       "<h5>=============== quercus mongolica ======================</h5>"
      ],
      "text/plain": [
       "<IPython.core.display.HTML object>"
      ]
     },
     "metadata": {},
     "output_type": "display_data"
    },
    {
     "name": "stdout",
     "output_type": "stream",
     "text": [
      "Constructing the dataset...\n"
     ]
    },
    {
     "name": "stderr",
     "output_type": "stream",
     "text": [
      "/home/dmitry/workspace/pacific_sdm/bin/loader.py:88: RuntimeWarning: invalid value encountered in greater\n",
      "  if np.any(vals > t):\n",
      "/home/dmitry/workspace/pacific_sdm/bin/loader.py:90: RuntimeWarning: invalid value encountered in greater\n",
      "  result[vals > t] = result[vals > t] + precs[vals > t]\n",
      "/home/dmitry/workspace/pacific_sdm/bin/loader.py:95: RuntimeWarning: invalid value encountered in less\n",
      "  if np.any(vals < t):\n",
      "/home/dmitry/workspace/pacific_sdm/bin/loader.py:97: RuntimeWarning: invalid value encountered in less\n",
      "  result[vals < t] = result[vals < t] + precs[vals < t]\n",
      "/home/dmitry/workspace/pacific_sdm/bin/loader.py:134: RuntimeWarning: invalid value encountered in less\n",
      "  inds = _ < vals_avg\n",
      "/home/dmitry/workspace/pacific_sdm/bin/loader.py:60: RuntimeWarning: invalid value encountered in greater\n",
      "  result[vals > t] = result[vals > t] + vals[vals > t] - t\n",
      "/home/dmitry/workspace/pacific_sdm/bin/loader.py:66: RuntimeWarning: invalid value encountered in less\n",
      "  result[vals < t] = result[vals < t] + vals[vals < t] - t\n"
     ]
    },
    {
     "name": "stdout",
     "output_type": "stream",
     "text": [
      "Dataset is formed.\n",
      "<class 'pandas.core.frame.DataFrame'>\n",
      "RangeIndex: 4248 entries, 0 to 4247\n",
      "Data columns (total 63 columns):\n",
      "absence      4248 non-null bool\n",
      "latitude     4248 non-null float64\n",
      "longitude    4248 non-null float64\n",
      "species      4248 non-null object\n",
      "BIO1         4248 non-null float64\n",
      "BIO2         4248 non-null float64\n",
      "BIO3         4248 non-null float64\n",
      "BIO4         4248 non-null float64\n",
      "BIO5         4248 non-null float64\n",
      "BIO6         4248 non-null float64\n",
      "BIO7         4248 non-null float64\n",
      "BIO8         4248 non-null float64\n",
      "BIO9         4248 non-null float64\n",
      "BIO10        4248 non-null float64\n",
      "BIO11        4248 non-null float64\n",
      "BIO12        4248 non-null float64\n",
      "BIO13        4248 non-null float64\n",
      "BIO14        4248 non-null float64\n",
      "BIO15        4248 non-null float64\n",
      "BIO16        4248 non-null float64\n",
      "BIO17        4248 non-null float64\n",
      "BIO18        4248 non-null float64\n",
      "BIO19        4248 non-null float64\n",
      "PWKI0        4248 non-null float64\n",
      "PCKI0        4248 non-null float64\n",
      "IT           4248 non-null float64\n",
      "IC           4248 non-null float64\n",
      "TMINM        4248 non-null float64\n",
      "TMAXM        4248 non-null float64\n",
      "PREC1        4248 non-null float64\n",
      "PREC2        4248 non-null float64\n",
      "PREC3        4248 non-null float64\n",
      "PREC4        4248 non-null float64\n",
      "PREC5        4248 non-null float64\n",
      "PREC6        4248 non-null float64\n",
      "PREC7        4248 non-null float64\n",
      "PREC8        4248 non-null float64\n",
      "PREC9        4248 non-null float64\n",
      "PREC10       4248 non-null float64\n",
      "PREC11       4248 non-null float64\n",
      "PREC12       4248 non-null float64\n",
      "TAVG1        4248 non-null float64\n",
      "TAVG2        4248 non-null float64\n",
      "TAVG3        4248 non-null float64\n",
      "TAVG4        4248 non-null float64\n",
      "TAVG5        4248 non-null float64\n",
      "TAVG6        4248 non-null float64\n",
      "TAVG7        4248 non-null float64\n",
      "TAVG8        4248 non-null float64\n",
      "TAVG9        4248 non-null float64\n",
      "TAVG10       4248 non-null float64\n",
      "TAVG11       4248 non-null float64\n",
      "TAVG12       4248 non-null float64\n",
      "WKI2         4248 non-null float64\n",
      "WKI3         4248 non-null float64\n",
      "WKI4         4248 non-null float64\n",
      "WKI5         4248 non-null float64\n",
      "WKI6         4248 non-null float64\n",
      "CKI2         4248 non-null float64\n",
      "CKI3         4248 non-null float64\n",
      "CKI4         4248 non-null float64\n",
      "CKI5         4248 non-null float64\n",
      "CKI6         4248 non-null float64\n",
      "dtypes: bool(1), float64(61), object(1)\n",
      "memory usage: 2.0+ MB\n",
      "Preforming recursive feature ellimination for the <tree> classifier...\n",
      "==================== accuracy case ====================\n",
      "Optimal composition of variables:  ['BIO10' 'BIO11' 'BIO12' 'BIO13' 'BIO14' 'BIO15' 'BIO16' 'BIO17' 'BIO18'\n",
      " 'BIO19' 'PWKI0' 'PCKI0' 'IT' 'IC' 'TMINM' 'TMAXM' 'PREC1' 'PREC2' 'PREC3'\n",
      " 'PREC4' 'PREC5' 'PREC7' 'PREC8' 'PREC9' 'PREC10' 'PREC11' 'PREC12'\n",
      " 'TAVG1' 'TAVG2' 'TAVG3' 'TAVG4' 'TAVG5' 'TAVG6' 'TAVG7' 'TAVG8' 'TAVG9'\n",
      " 'TAVG10' 'TAVG11' 'TAVG12' 'WKI2' 'WKI3' 'WKI4' 'WKI5' 'WKI6' 'CKI3'\n",
      " 'CKI4' 'CKI5' 'CKI6']\n",
      "Classification score (acc):  0.9985849056603774\n",
      "============================================================\n",
      "==================== roc/auc case ====================\n",
      "Optimal composition of variables:  ['BIO18' 'PREC7' 'TAVG5' 'TAVG8']\n",
      "Classification score (auc):  0.9933679944058842\n",
      "============================================================\n",
      "The following predictors composition was selected:  ['BIO10' 'BIO11' 'BIO12' 'BIO13' 'BIO14' 'BIO15' 'BIO16' 'BIO17' 'BIO18'\n",
      " 'BIO19' 'PWKI0' 'PCKI0' 'IT' 'IC' 'TMINM' 'TMAXM' 'PREC1' 'PREC2' 'PREC3'\n",
      " 'PREC4' 'PREC5' 'PREC7' 'PREC8' 'PREC9' 'PREC10' 'PREC11' 'PREC12'\n",
      " 'TAVG1' 'TAVG2' 'TAVG3' 'TAVG4' 'TAVG5' 'TAVG6' 'TAVG7' 'TAVG8' 'TAVG9'\n",
      " 'TAVG10' 'TAVG11' 'TAVG12' 'WKI2' 'WKI3' 'WKI4' 'WKI5' 'WKI6' 'CKI3'\n",
      " 'CKI4' 'CKI5' 'CKI6']\n",
      "Preforming recursive feature ellimination for the <MaxEnt> classifier...\n",
      "==================== accuracy case ====================\n",
      "Optimal composition of variables:  ['BIO3' 'BIO9' 'BIO12' 'BIO13' 'BIO15' 'BIO16' 'BIO18' 'PWKI0' 'PCKI0'\n",
      " 'PREC1' 'PREC2' 'PREC3' 'PREC4' 'PREC5' 'PREC6' 'PREC7' 'PREC9' 'TAVG2'\n",
      " 'TAVG3' 'TAVG4' 'TAVG6' 'TAVG8' 'TAVG9' 'TAVG10' 'TAVG11' 'WKI2' 'WKI3'\n",
      " 'WKI4' 'WKI5']\n",
      "Classification score (acc):  0.9992957642995457\n",
      "============================================================\n",
      "==================== roc/auc case ====================\n",
      "Optimal composition of variables:  ['BIO3' 'BIO13' 'BIO15' 'BIO16' 'BIO18' 'PWKI0' 'PCKI0' 'PREC3' 'PREC4'\n",
      " 'PREC5' 'PREC6' 'PREC7' 'PREC9' 'TAVG3' 'TAVG8' 'TAVG9' 'TAVG10']\n",
      "Classification score (auc):  0.9999521683673469\n",
      "============================================================\n",
      "The following predictors composition was selected:  ['BIO3' 'BIO9' 'BIO12' 'BIO13' 'BIO15' 'BIO16' 'BIO18' 'PWKI0' 'PCKI0'\n",
      " 'PREC1' 'PREC2' 'PREC3' 'PREC4' 'PREC5' 'PREC6' 'PREC7' 'PREC9' 'TAVG2'\n",
      " 'TAVG3' 'TAVG4' 'TAVG6' 'TAVG8' 'TAVG9' 'TAVG10' 'TAVG11' 'WKI2' 'WKI3'\n",
      " 'WKI4' 'WKI5']\n",
      "Preforming recursive feature ellimination for the <SVM> classifier...\n",
      "==================== accuracy case ====================\n",
      "Optimal composition of variables:  ['PCKI0' 'PREC5' 'PREC7' 'PREC12' 'TAVG9']\n",
      "Classification score (acc):  0.9995294091593585\n",
      "============================================================\n",
      "==================== roc/auc case ====================\n",
      "Optimal composition of variables:  ['BIO9' 'BIO16' 'PWKI0' 'PCKI0' 'PREC1' 'PREC5' 'PREC6' 'PREC7' 'PREC8'\n",
      " 'PREC12' 'TAVG1' 'TAVG6' 'TAVG8' 'TAVG9' 'TAVG10']\n",
      "Classification score (auc):  0.999984056122449\n",
      "============================================================\n",
      "The following predictors composition was selected:  ['PCKI0' 'PREC5' 'PREC7' 'PREC12' 'TAVG9']\n"
     ]
    },
    {
     "data": {
      "text/html": [
       "<h5> --------------- Summary for quercus mongolica: --------------- </h5>"
      ],
      "text/plain": [
       "<IPython.core.display.HTML object>"
      ]
     },
     "metadata": {},
     "output_type": "display_data"
    },
    {
     "name": "stdout",
     "output_type": "stream",
     "text": [
      "The best classifier is SVM. Its accuracy score is 0.9995294091593585.\n",
      "Optimal predictor set (acc):  ['PCKI0' 'PREC5' 'PREC7' 'PREC12' 'TAVG9']\n",
      "The best classifier is SVM. Its roc/auc score is 0.999984056122449.\n",
      "Optimal predictor set (auc):  ['BIO9' 'BIO16' 'PWKI0' 'PCKI0' 'PREC1' 'PREC5' 'PREC6' 'PREC7' 'PREC8'\n",
      " 'PREC12' 'TAVG1' 'TAVG6' 'TAVG8' 'TAVG9' 'TAVG10']\n"
     ]
    },
    {
     "data": {
      "text/html": [
       "<h5> ~~~~~~~~~~~~~~~~~~~~~~~~~~~~~~~~~~~~~~~~~~~~~~~~~~~~~~~~~~~~~~~~~~~~~~~~~~~~~~~~~~~~~~~~~~ </h5>"
      ],
      "text/plain": [
       "<IPython.core.display.HTML object>"
      ]
     },
     "metadata": {},
     "output_type": "display_data"
    },
    {
     "data": {
      "text/html": [
       "<h5>=============== quercus crispula ======================</h5>"
      ],
      "text/plain": [
       "<IPython.core.display.HTML object>"
      ]
     },
     "metadata": {},
     "output_type": "display_data"
    },
    {
     "name": "stdout",
     "output_type": "stream",
     "text": [
      "Constructing the dataset...\n"
     ]
    },
    {
     "name": "stderr",
     "output_type": "stream",
     "text": [
      "/home/dmitry/workspace/pacific_sdm/bin/loader.py:88: RuntimeWarning: invalid value encountered in greater\n",
      "  if np.any(vals > t):\n",
      "/home/dmitry/workspace/pacific_sdm/bin/loader.py:90: RuntimeWarning: invalid value encountered in greater\n",
      "  result[vals > t] = result[vals > t] + precs[vals > t]\n",
      "/home/dmitry/workspace/pacific_sdm/bin/loader.py:95: RuntimeWarning: invalid value encountered in less\n",
      "  if np.any(vals < t):\n",
      "/home/dmitry/workspace/pacific_sdm/bin/loader.py:97: RuntimeWarning: invalid value encountered in less\n",
      "  result[vals < t] = result[vals < t] + precs[vals < t]\n",
      "/home/dmitry/workspace/pacific_sdm/bin/loader.py:134: RuntimeWarning: invalid value encountered in less\n",
      "  inds = _ < vals_avg\n",
      "/home/dmitry/workspace/pacific_sdm/bin/loader.py:60: RuntimeWarning: invalid value encountered in greater\n",
      "  result[vals > t] = result[vals > t] + vals[vals > t] - t\n",
      "/home/dmitry/workspace/pacific_sdm/bin/loader.py:66: RuntimeWarning: invalid value encountered in less\n",
      "  result[vals < t] = result[vals < t] + vals[vals < t] - t\n"
     ]
    },
    {
     "name": "stdout",
     "output_type": "stream",
     "text": [
      "Dataset is formed.\n",
      "<class 'pandas.core.frame.DataFrame'>\n",
      "RangeIndex: 4149 entries, 0 to 4148\n",
      "Data columns (total 63 columns):\n",
      "absence      4149 non-null bool\n",
      "latitude     4149 non-null float64\n",
      "longitude    4149 non-null float64\n",
      "species      4149 non-null object\n",
      "BIO1         4149 non-null float64\n",
      "BIO2         4149 non-null float64\n",
      "BIO3         4149 non-null float64\n",
      "BIO4         4149 non-null float64\n",
      "BIO5         4149 non-null float64\n",
      "BIO6         4149 non-null float64\n",
      "BIO7         4149 non-null float64\n",
      "BIO8         4149 non-null float64\n",
      "BIO9         4149 non-null float64\n",
      "BIO10        4149 non-null float64\n",
      "BIO11        4149 non-null float64\n",
      "BIO12        4149 non-null float64\n",
      "BIO13        4149 non-null float64\n",
      "BIO14        4149 non-null float64\n",
      "BIO15        4149 non-null float64\n",
      "BIO16        4149 non-null float64\n",
      "BIO17        4149 non-null float64\n",
      "BIO18        4149 non-null float64\n",
      "BIO19        4149 non-null float64\n",
      "PWKI0        4149 non-null float64\n",
      "PCKI0        4149 non-null float64\n",
      "IT           4149 non-null float64\n",
      "IC           4149 non-null float64\n",
      "TMINM        4149 non-null float64\n",
      "TMAXM        4149 non-null float64\n",
      "PREC1        4149 non-null float64\n",
      "PREC2        4149 non-null float64\n",
      "PREC3        4149 non-null float64\n",
      "PREC4        4149 non-null float64\n",
      "PREC5        4149 non-null float64\n",
      "PREC6        4149 non-null float64\n",
      "PREC7        4149 non-null float64\n",
      "PREC8        4149 non-null float64\n",
      "PREC9        4149 non-null float64\n",
      "PREC10       4149 non-null float64\n",
      "PREC11       4149 non-null float64\n",
      "PREC12       4149 non-null float64\n",
      "TAVG1        4149 non-null float64\n",
      "TAVG2        4149 non-null float64\n",
      "TAVG3        4149 non-null float64\n",
      "TAVG4        4149 non-null float64\n",
      "TAVG5        4149 non-null float64\n",
      "TAVG6        4149 non-null float64\n",
      "TAVG7        4149 non-null float64\n",
      "TAVG8        4149 non-null float64\n",
      "TAVG9        4149 non-null float64\n",
      "TAVG10       4149 non-null float64\n",
      "TAVG11       4149 non-null float64\n",
      "TAVG12       4149 non-null float64\n",
      "WKI2         4149 non-null float64\n",
      "WKI3         4149 non-null float64\n",
      "WKI4         4149 non-null float64\n",
      "WKI5         4149 non-null float64\n",
      "WKI6         4149 non-null float64\n",
      "CKI2         4149 non-null float64\n",
      "CKI3         4149 non-null float64\n",
      "CKI4         4149 non-null float64\n",
      "CKI5         4149 non-null float64\n",
      "CKI6         4149 non-null float64\n",
      "dtypes: bool(1), float64(61), object(1)\n",
      "memory usage: 2.0+ MB\n",
      "Preforming recursive feature ellimination for the <tree> classifier...\n",
      "==================== accuracy case ====================\n",
      "Optimal composition of variables:  ['PWKI0' 'WKI6']\n",
      "Classification score (acc):  0.9992776848755109\n",
      "============================================================\n",
      "==================== roc/auc case ====================\n",
      "Optimal composition of variables:  ['PWKI0' 'PREC5' 'WKI6']\n",
      "Classification score (auc):  0.9936243718592965\n",
      "============================================================\n",
      "The following predictors composition was selected:  ['PWKI0' 'WKI6']\n",
      "Preforming recursive feature ellimination for the <MaxEnt> classifier...\n",
      "==================== accuracy case ====================\n",
      "Optimal composition of variables:  ['BIO1' 'BIO2' 'BIO3' 'BIO4' 'BIO5' 'BIO6' 'BIO7' 'BIO8' 'BIO9' 'BIO10'\n",
      " 'BIO11' 'BIO12' 'BIO13' 'BIO14' 'BIO15' 'BIO16' 'BIO17' 'BIO18' 'BIO19'\n",
      " 'PWKI0' 'PCKI0' 'IT' 'IC' 'TMINM' 'TMAXM' 'PREC1' 'PREC2' 'PREC3' 'PREC4'\n",
      " 'PREC5' 'PREC6' 'PREC7' 'PREC8' 'PREC9' 'PREC10' 'PREC11' 'PREC12'\n",
      " 'TAVG1' 'TAVG2' 'TAVG3' 'TAVG4' 'TAVG5' 'TAVG6' 'TAVG7' 'TAVG8' 'TAVG9'\n",
      " 'TAVG10' 'TAVG11' 'TAVG12' 'WKI2' 'WKI3' 'WKI4' 'WKI5' 'WKI6' 'CKI2'\n",
      " 'CKI3' 'CKI4' 'CKI5' 'CKI6']\n",
      "Classification score (acc):  0.9997596153846153\n",
      "============================================================\n",
      "==================== roc/auc case ====================\n",
      "Optimal composition of variables:  ['BIO1' 'BIO2' 'BIO3' 'BIO4' 'BIO5' 'BIO6' 'BIO7' 'BIO8' 'BIO9' 'BIO10'\n",
      " 'BIO11' 'BIO12' 'BIO13' 'BIO14' 'BIO15' 'BIO16' 'BIO17' 'BIO18' 'BIO19'\n",
      " 'PWKI0' 'PCKI0' 'IT' 'IC' 'TMINM' 'TMAXM' 'PREC1' 'PREC2' 'PREC3' 'PREC4'\n",
      " 'PREC5' 'PREC6' 'PREC7' 'PREC8' 'PREC9' 'PREC10' 'PREC11' 'PREC12'\n",
      " 'TAVG1' 'TAVG2' 'TAVG3' 'TAVG4' 'TAVG5' 'TAVG6' 'TAVG7' 'TAVG8' 'TAVG9'\n",
      " 'TAVG10' 'TAVG11' 'TAVG12' 'WKI2' 'WKI3' 'WKI4' 'WKI5' 'WKI6' 'CKI2'\n",
      " 'CKI3' 'CKI4' 'CKI5' 'CKI6']\n",
      "Classification score (auc):  1.0\n",
      "============================================================\n",
      "The following predictors composition was selected:  ['BIO1' 'BIO2' 'BIO3' 'BIO4' 'BIO5' 'BIO6' 'BIO7' 'BIO8' 'BIO9' 'BIO10'\n",
      " 'BIO11' 'BIO12' 'BIO13' 'BIO14' 'BIO15' 'BIO16' 'BIO17' 'BIO18' 'BIO19'\n",
      " 'PWKI0' 'PCKI0' 'IT' 'IC' 'TMINM' 'TMAXM' 'PREC1' 'PREC2' 'PREC3' 'PREC4'\n",
      " 'PREC5' 'PREC6' 'PREC7' 'PREC8' 'PREC9' 'PREC10' 'PREC11' 'PREC12'\n",
      " 'TAVG1' 'TAVG2' 'TAVG3' 'TAVG4' 'TAVG5' 'TAVG6' 'TAVG7' 'TAVG8' 'TAVG9'\n",
      " 'TAVG10' 'TAVG11' 'TAVG12' 'WKI2' 'WKI3' 'WKI4' 'WKI5' 'WKI6' 'CKI2'\n",
      " 'CKI3' 'CKI4' 'CKI5' 'CKI6']\n",
      "Preforming recursive feature ellimination for the <SVM> classifier...\n",
      "==================== accuracy case ====================\n",
      "Optimal composition of variables:  ['BIO1' 'BIO2' 'BIO3' 'BIO4' 'BIO5' 'BIO6' 'BIO7' 'BIO8' 'BIO9' 'BIO10'\n",
      " 'BIO11' 'BIO12' 'BIO13' 'BIO14' 'BIO15' 'BIO16' 'BIO17' 'BIO18' 'BIO19'\n",
      " 'PWKI0' 'PCKI0' 'IT' 'IC' 'TMINM' 'TMAXM' 'PREC1' 'PREC2' 'PREC3' 'PREC4'\n",
      " 'PREC5' 'PREC6' 'PREC7' 'PREC8' 'PREC9' 'PREC10' 'PREC11' 'PREC12'\n",
      " 'TAVG1' 'TAVG2' 'TAVG3' 'TAVG4' 'TAVG5' 'TAVG6' 'TAVG7' 'TAVG8' 'TAVG9'\n",
      " 'TAVG10' 'TAVG11' 'TAVG12' 'WKI2' 'WKI3' 'WKI4' 'WKI5' 'WKI6' 'CKI2'\n",
      " 'CKI3' 'CKI4' 'CKI5' 'CKI6']\n",
      "Classification score (acc):  1.0\n",
      "============================================================\n",
      "==================== roc/auc case ====================\n",
      "Optimal composition of variables:  ['BIO1' 'BIO2' 'BIO3' 'BIO4' 'BIO5' 'BIO6' 'BIO7' 'BIO8' 'BIO9' 'BIO10'\n",
      " 'BIO11' 'BIO12' 'BIO13' 'BIO14' 'BIO15' 'BIO16' 'BIO17' 'BIO18' 'BIO19'\n",
      " 'PWKI0' 'PCKI0' 'IT' 'IC' 'TMINM' 'TMAXM' 'PREC1' 'PREC2' 'PREC3' 'PREC4'\n",
      " 'PREC5' 'PREC6' 'PREC7' 'PREC8' 'PREC9' 'PREC10' 'PREC11' 'PREC12'\n",
      " 'TAVG1' 'TAVG2' 'TAVG3' 'TAVG4' 'TAVG5' 'TAVG6' 'TAVG7' 'TAVG8' 'TAVG9'\n",
      " 'TAVG10' 'TAVG11' 'TAVG12' 'WKI2' 'WKI3' 'WKI4' 'WKI5' 'WKI6' 'CKI2'\n",
      " 'CKI3' 'CKI4' 'CKI5' 'CKI6']\n",
      "Classification score (auc):  1.0\n",
      "============================================================\n",
      "The following predictors composition was selected:  ['BIO1' 'BIO2' 'BIO3' 'BIO4' 'BIO5' 'BIO6' 'BIO7' 'BIO8' 'BIO9' 'BIO10'\n",
      " 'BIO11' 'BIO12' 'BIO13' 'BIO14' 'BIO15' 'BIO16' 'BIO17' 'BIO18' 'BIO19'\n",
      " 'PWKI0' 'PCKI0' 'IT' 'IC' 'TMINM' 'TMAXM' 'PREC1' 'PREC2' 'PREC3' 'PREC4'\n",
      " 'PREC5' 'PREC6' 'PREC7' 'PREC8' 'PREC9' 'PREC10' 'PREC11' 'PREC12'\n",
      " 'TAVG1' 'TAVG2' 'TAVG3' 'TAVG4' 'TAVG5' 'TAVG6' 'TAVG7' 'TAVG8' 'TAVG9'\n",
      " 'TAVG10' 'TAVG11' 'TAVG12' 'WKI2' 'WKI3' 'WKI4' 'WKI5' 'WKI6' 'CKI2'\n",
      " 'CKI3' 'CKI4' 'CKI5' 'CKI6']\n"
     ]
    },
    {
     "data": {
      "text/html": [
       "<h5> --------------- Summary for quercus crispula: --------------- </h5>"
      ],
      "text/plain": [
       "<IPython.core.display.HTML object>"
      ]
     },
     "metadata": {},
     "output_type": "display_data"
    },
    {
     "name": "stdout",
     "output_type": "stream",
     "text": [
      "The best classifier is SVM. Its accuracy score is 1.0.\n",
      "Optimal predictor set (acc):  ['BIO1' 'BIO2' 'BIO3' 'BIO4' 'BIO5' 'BIO6' 'BIO7' 'BIO8' 'BIO9' 'BIO10'\n",
      " 'BIO11' 'BIO12' 'BIO13' 'BIO14' 'BIO15' 'BIO16' 'BIO17' 'BIO18' 'BIO19'\n",
      " 'PWKI0' 'PCKI0' 'IT' 'IC' 'TMINM' 'TMAXM' 'PREC1' 'PREC2' 'PREC3' 'PREC4'\n",
      " 'PREC5' 'PREC6' 'PREC7' 'PREC8' 'PREC9' 'PREC10' 'PREC11' 'PREC12'\n",
      " 'TAVG1' 'TAVG2' 'TAVG3' 'TAVG4' 'TAVG5' 'TAVG6' 'TAVG7' 'TAVG8' 'TAVG9'\n",
      " 'TAVG10' 'TAVG11' 'TAVG12' 'WKI2' 'WKI3' 'WKI4' 'WKI5' 'WKI6' 'CKI2'\n",
      " 'CKI3' 'CKI4' 'CKI5' 'CKI6']\n",
      "The best classifier is MaxEnt. Its roc/auc score is 1.0.\n",
      "Optimal predictor set (auc):  ['BIO1' 'BIO2' 'BIO3' 'BIO4' 'BIO5' 'BIO6' 'BIO7' 'BIO8' 'BIO9' 'BIO10'\n",
      " 'BIO11' 'BIO12' 'BIO13' 'BIO14' 'BIO15' 'BIO16' 'BIO17' 'BIO18' 'BIO19'\n",
      " 'PWKI0' 'PCKI0' 'IT' 'IC' 'TMINM' 'TMAXM' 'PREC1' 'PREC2' 'PREC3' 'PREC4'\n",
      " 'PREC5' 'PREC6' 'PREC7' 'PREC8' 'PREC9' 'PREC10' 'PREC11' 'PREC12'\n",
      " 'TAVG1' 'TAVG2' 'TAVG3' 'TAVG4' 'TAVG5' 'TAVG6' 'TAVG7' 'TAVG8' 'TAVG9'\n",
      " 'TAVG10' 'TAVG11' 'TAVG12' 'WKI2' 'WKI3' 'WKI4' 'WKI5' 'WKI6' 'CKI2'\n",
      " 'CKI3' 'CKI4' 'CKI5' 'CKI6']\n"
     ]
    },
    {
     "data": {
      "text/html": [
       "<h5> ~~~~~~~~~~~~~~~~~~~~~~~~~~~~~~~~~~~~~~~~~~~~~~~~~~~~~~~~~~~~~~~~~~~~~~~~~~~~~~~~~~~~~~~~~~ </h5>"
      ],
      "text/plain": [
       "<IPython.core.display.HTML object>"
      ]
     },
     "metadata": {},
     "output_type": "display_data"
    },
    {
     "data": {
      "text/html": [
       "<h5>=============== kalopanax septemlobus ======================</h5>"
      ],
      "text/plain": [
       "<IPython.core.display.HTML object>"
      ]
     },
     "metadata": {},
     "output_type": "display_data"
    },
    {
     "name": "stdout",
     "output_type": "stream",
     "text": [
      "Constructing the dataset...\n"
     ]
    },
    {
     "name": "stderr",
     "output_type": "stream",
     "text": [
      "/home/dmitry/workspace/pacific_sdm/bin/loader.py:88: RuntimeWarning: invalid value encountered in greater\n",
      "  if np.any(vals > t):\n",
      "/home/dmitry/workspace/pacific_sdm/bin/loader.py:90: RuntimeWarning: invalid value encountered in greater\n",
      "  result[vals > t] = result[vals > t] + precs[vals > t]\n",
      "/home/dmitry/workspace/pacific_sdm/bin/loader.py:95: RuntimeWarning: invalid value encountered in less\n",
      "  if np.any(vals < t):\n",
      "/home/dmitry/workspace/pacific_sdm/bin/loader.py:97: RuntimeWarning: invalid value encountered in less\n",
      "  result[vals < t] = result[vals < t] + precs[vals < t]\n",
      "/home/dmitry/workspace/pacific_sdm/bin/loader.py:134: RuntimeWarning: invalid value encountered in less\n",
      "  inds = _ < vals_avg\n",
      "/home/dmitry/workspace/pacific_sdm/bin/loader.py:60: RuntimeWarning: invalid value encountered in greater\n",
      "  result[vals > t] = result[vals > t] + vals[vals > t] - t\n",
      "/home/dmitry/workspace/pacific_sdm/bin/loader.py:66: RuntimeWarning: invalid value encountered in less\n",
      "  result[vals < t] = result[vals < t] + vals[vals < t] - t\n"
     ]
    },
    {
     "name": "stdout",
     "output_type": "stream",
     "text": [
      "Dataset is formed.\n",
      "<class 'pandas.core.frame.DataFrame'>\n",
      "RangeIndex: 4252 entries, 0 to 4251\n",
      "Data columns (total 63 columns):\n",
      "absence      4252 non-null bool\n",
      "latitude     4252 non-null float64\n",
      "longitude    4252 non-null float64\n",
      "species      4252 non-null object\n",
      "BIO1         4252 non-null float64\n",
      "BIO2         4252 non-null float64\n",
      "BIO3         4252 non-null float64\n",
      "BIO4         4252 non-null float64\n",
      "BIO5         4252 non-null float64\n",
      "BIO6         4252 non-null float64\n",
      "BIO7         4252 non-null float64\n",
      "BIO8         4252 non-null float64\n",
      "BIO9         4252 non-null float64\n",
      "BIO10        4252 non-null float64\n",
      "BIO11        4252 non-null float64\n",
      "BIO12        4252 non-null float64\n",
      "BIO13        4252 non-null float64\n",
      "BIO14        4252 non-null float64\n",
      "BIO15        4252 non-null float64\n",
      "BIO16        4252 non-null float64\n",
      "BIO17        4252 non-null float64\n",
      "BIO18        4252 non-null float64\n",
      "BIO19        4252 non-null float64\n",
      "PWKI0        4252 non-null float64\n",
      "PCKI0        4252 non-null float64\n",
      "IT           4252 non-null float64\n",
      "IC           4252 non-null float64\n",
      "TMINM        4252 non-null float64\n",
      "TMAXM        4252 non-null float64\n",
      "PREC1        4252 non-null float64\n",
      "PREC2        4252 non-null float64\n",
      "PREC3        4252 non-null float64\n",
      "PREC4        4252 non-null float64\n",
      "PREC5        4252 non-null float64\n",
      "PREC6        4252 non-null float64\n",
      "PREC7        4252 non-null float64\n",
      "PREC8        4252 non-null float64\n",
      "PREC9        4252 non-null float64\n",
      "PREC10       4252 non-null float64\n",
      "PREC11       4252 non-null float64\n",
      "PREC12       4252 non-null float64\n",
      "TAVG1        4252 non-null float64\n",
      "TAVG2        4252 non-null float64\n",
      "TAVG3        4252 non-null float64\n",
      "TAVG4        4252 non-null float64\n",
      "TAVG5        4252 non-null float64\n",
      "TAVG6        4252 non-null float64\n",
      "TAVG7        4252 non-null float64\n",
      "TAVG8        4252 non-null float64\n",
      "TAVG9        4252 non-null float64\n",
      "TAVG10       4252 non-null float64\n",
      "TAVG11       4252 non-null float64\n",
      "TAVG12       4252 non-null float64\n",
      "WKI2         4252 non-null float64\n",
      "WKI3         4252 non-null float64\n",
      "WKI4         4252 non-null float64\n",
      "WKI5         4252 non-null float64\n",
      "WKI6         4252 non-null float64\n",
      "CKI2         4252 non-null float64\n",
      "CKI3         4252 non-null float64\n",
      "CKI4         4252 non-null float64\n",
      "CKI5         4252 non-null float64\n",
      "CKI6         4252 non-null float64\n",
      "dtypes: bool(1), float64(61), object(1)\n",
      "memory usage: 2.0+ MB\n",
      "Preforming recursive feature ellimination for the <tree> classifier...\n",
      "==================== accuracy case ====================\n",
      "Optimal composition of variables:  ['BIO1' 'BIO2' 'BIO3' 'BIO4' 'BIO5' 'BIO6' 'BIO7' 'BIO8' 'BIO9' 'BIO10'\n",
      " 'BIO11' 'BIO12' 'BIO13' 'BIO14' 'BIO15' 'BIO16' 'BIO17' 'BIO18' 'BIO19'\n",
      " 'PWKI0' 'PCKI0' 'IT' 'IC' 'TMINM' 'TMAXM' 'PREC1' 'PREC2' 'PREC3' 'PREC4'\n",
      " 'PREC5' 'PREC6' 'PREC7' 'PREC8' 'PREC9' 'PREC10' 'PREC11' 'PREC12'\n",
      " 'TAVG1' 'TAVG2' 'TAVG3' 'TAVG4' 'TAVG5' 'TAVG6' 'TAVG7' 'TAVG8' 'TAVG9'\n",
      " 'TAVG10' 'TAVG11' 'TAVG12' 'WKI2' 'WKI3' 'WKI4' 'WKI5' 'WKI6' 'CKI2'\n",
      " 'CKI3' 'CKI4' 'CKI5' 'CKI6']\n",
      "Classification score (acc):  0.9997652582159624\n",
      "============================================================\n",
      "==================== roc/auc case ====================\n",
      "Optimal composition of variables:  ['BIO1' 'BIO2' 'BIO3' 'BIO4' 'BIO5' 'BIO6' 'BIO7' 'BIO8' 'BIO9' 'BIO10'\n",
      " 'BIO11' 'BIO12' 'BIO13' 'BIO14' 'BIO15' 'BIO16' 'BIO17' 'BIO18' 'BIO19'\n",
      " 'PWKI0' 'PCKI0' 'IT' 'IC' 'TMINM' 'TMAXM' 'PREC1' 'PREC2' 'PREC3' 'PREC4'\n",
      " 'PREC5' 'PREC6' 'PREC7' 'PREC8' 'PREC9' 'PREC10' 'PREC11' 'PREC12'\n",
      " 'TAVG1' 'TAVG2' 'TAVG3' 'TAVG4' 'TAVG5' 'TAVG6' 'TAVG7' 'TAVG8' 'TAVG9'\n",
      " 'TAVG10' 'TAVG11' 'TAVG12' 'WKI2' 'WKI3' 'WKI4' 'WKI5' 'WKI6' 'CKI2'\n",
      " 'CKI3' 'CKI4' 'CKI5' 'CKI6']\n",
      "Classification score (auc):  0.9982142857142857\n",
      "============================================================\n",
      "The following predictors composition was selected:  ['BIO1' 'BIO2' 'BIO3' 'BIO4' 'BIO5' 'BIO6' 'BIO7' 'BIO8' 'BIO9' 'BIO10'\n",
      " 'BIO11' 'BIO12' 'BIO13' 'BIO14' 'BIO15' 'BIO16' 'BIO17' 'BIO18' 'BIO19'\n",
      " 'PWKI0' 'PCKI0' 'IT' 'IC' 'TMINM' 'TMAXM' 'PREC1' 'PREC2' 'PREC3' 'PREC4'\n",
      " 'PREC5' 'PREC6' 'PREC7' 'PREC8' 'PREC9' 'PREC10' 'PREC11' 'PREC12'\n",
      " 'TAVG1' 'TAVG2' 'TAVG3' 'TAVG4' 'TAVG5' 'TAVG6' 'TAVG7' 'TAVG8' 'TAVG9'\n",
      " 'TAVG10' 'TAVG11' 'TAVG12' 'WKI2' 'WKI3' 'WKI4' 'WKI5' 'WKI6' 'CKI2'\n",
      " 'CKI3' 'CKI4' 'CKI5' 'CKI6']\n",
      "Preforming recursive feature ellimination for the <MaxEnt> classifier...\n",
      "==================== accuracy case ====================\n",
      "Optimal composition of variables:  ['BIO1' 'BIO2' 'BIO3' 'BIO4' 'BIO5' 'BIO6' 'BIO7' 'BIO8' 'BIO9' 'BIO10'\n",
      " 'BIO11' 'BIO12' 'BIO13' 'BIO14' 'BIO15' 'BIO16' 'BIO17' 'BIO18' 'BIO19'\n",
      " 'PWKI0' 'PCKI0' 'IT' 'IC' 'TMINM' 'TMAXM' 'PREC1' 'PREC2' 'PREC3' 'PREC4'\n",
      " 'PREC5' 'PREC6' 'PREC7' 'PREC8' 'PREC9' 'PREC10' 'PREC11' 'PREC12'\n",
      " 'TAVG1' 'TAVG2' 'TAVG3' 'TAVG4' 'TAVG5' 'TAVG6' 'TAVG7' 'TAVG8' 'TAVG9'\n",
      " 'TAVG10' 'TAVG11' 'TAVG12' 'WKI2' 'WKI3' 'WKI4' 'WKI5' 'WKI6' 'CKI2'\n",
      " 'CKI3' 'CKI4' 'CKI5' 'CKI6']\n",
      "Classification score (acc):  1.0\n",
      "============================================================\n",
      "==================== roc/auc case ====================\n",
      "Optimal composition of variables:  ['BIO1' 'BIO2' 'BIO3' 'BIO4' 'BIO5' 'BIO6' 'BIO7' 'BIO8' 'BIO9' 'BIO10'\n",
      " 'BIO11' 'BIO12' 'BIO13' 'BIO14' 'BIO15' 'BIO16' 'BIO17' 'BIO18' 'BIO19'\n",
      " 'PWKI0' 'PCKI0' 'IT' 'IC' 'TMINM' 'TMAXM' 'PREC1' 'PREC2' 'PREC3' 'PREC4'\n",
      " 'PREC5' 'PREC6' 'PREC7' 'PREC8' 'PREC9' 'PREC10' 'PREC11' 'PREC12'\n",
      " 'TAVG1' 'TAVG2' 'TAVG3' 'TAVG4' 'TAVG5' 'TAVG6' 'TAVG7' 'TAVG8' 'TAVG9'\n",
      " 'TAVG10' 'TAVG11' 'TAVG12' 'WKI2' 'WKI3' 'WKI4' 'WKI5' 'WKI6' 'CKI2'\n",
      " 'CKI3' 'CKI4' 'CKI5' 'CKI6']\n",
      "Classification score (auc):  1.0\n",
      "============================================================\n",
      "The following predictors composition was selected:  ['BIO1' 'BIO2' 'BIO3' 'BIO4' 'BIO5' 'BIO6' 'BIO7' 'BIO8' 'BIO9' 'BIO10'\n",
      " 'BIO11' 'BIO12' 'BIO13' 'BIO14' 'BIO15' 'BIO16' 'BIO17' 'BIO18' 'BIO19'\n",
      " 'PWKI0' 'PCKI0' 'IT' 'IC' 'TMINM' 'TMAXM' 'PREC1' 'PREC2' 'PREC3' 'PREC4'\n",
      " 'PREC5' 'PREC6' 'PREC7' 'PREC8' 'PREC9' 'PREC10' 'PREC11' 'PREC12'\n",
      " 'TAVG1' 'TAVG2' 'TAVG3' 'TAVG4' 'TAVG5' 'TAVG6' 'TAVG7' 'TAVG8' 'TAVG9'\n",
      " 'TAVG10' 'TAVG11' 'TAVG12' 'WKI2' 'WKI3' 'WKI4' 'WKI5' 'WKI6' 'CKI2'\n",
      " 'CKI3' 'CKI4' 'CKI5' 'CKI6']\n",
      "Preforming recursive feature ellimination for the <SVM> classifier...\n",
      "==================== accuracy case ====================\n",
      "Optimal composition of variables:  ['BIO1' 'BIO2' 'BIO3' 'BIO4' 'BIO5' 'BIO6' 'BIO7' 'BIO8' 'BIO9' 'BIO10'\n",
      " 'BIO11' 'BIO12' 'BIO13' 'BIO14' 'BIO15' 'BIO16' 'BIO17' 'BIO18' 'BIO19'\n",
      " 'PWKI0' 'PCKI0' 'IT' 'IC' 'TMINM' 'TMAXM' 'PREC1' 'PREC2' 'PREC3' 'PREC4'\n",
      " 'PREC5' 'PREC6' 'PREC7' 'PREC8' 'PREC9' 'PREC10' 'PREC11' 'PREC12'\n",
      " 'TAVG1' 'TAVG2' 'TAVG3' 'TAVG4' 'TAVG5' 'TAVG6' 'TAVG7' 'TAVG8' 'TAVG9'\n",
      " 'TAVG10' 'TAVG11' 'TAVG12' 'WKI2' 'WKI3' 'WKI4' 'WKI5' 'WKI6' 'CKI2'\n",
      " 'CKI3' 'CKI4' 'CKI5' 'CKI6']\n",
      "Classification score (acc):  1.0\n",
      "============================================================\n",
      "==================== roc/auc case ====================\n",
      "Optimal composition of variables:  ['BIO1' 'BIO2' 'BIO3' 'BIO4' 'BIO5' 'BIO6' 'BIO7' 'BIO8' 'BIO9' 'BIO10'\n",
      " 'BIO11' 'BIO12' 'BIO13' 'BIO14' 'BIO15' 'BIO16' 'BIO17' 'BIO18' 'BIO19'\n",
      " 'PWKI0' 'PCKI0' 'IT' 'IC' 'TMINM' 'TMAXM' 'PREC1' 'PREC2' 'PREC3' 'PREC4'\n",
      " 'PREC5' 'PREC6' 'PREC7' 'PREC8' 'PREC9' 'PREC10' 'PREC11' 'PREC12'\n",
      " 'TAVG1' 'TAVG2' 'TAVG3' 'TAVG4' 'TAVG5' 'TAVG6' 'TAVG7' 'TAVG8' 'TAVG9'\n",
      " 'TAVG10' 'TAVG11' 'TAVG12' 'WKI2' 'WKI3' 'WKI4' 'WKI5' 'WKI6' 'CKI2'\n",
      " 'CKI3' 'CKI4' 'CKI5' 'CKI6']\n",
      "Classification score (auc):  1.0\n",
      "============================================================\n",
      "The following predictors composition was selected:  ['BIO1' 'BIO2' 'BIO3' 'BIO4' 'BIO5' 'BIO6' 'BIO7' 'BIO8' 'BIO9' 'BIO10'\n",
      " 'BIO11' 'BIO12' 'BIO13' 'BIO14' 'BIO15' 'BIO16' 'BIO17' 'BIO18' 'BIO19'\n",
      " 'PWKI0' 'PCKI0' 'IT' 'IC' 'TMINM' 'TMAXM' 'PREC1' 'PREC2' 'PREC3' 'PREC4'\n",
      " 'PREC5' 'PREC6' 'PREC7' 'PREC8' 'PREC9' 'PREC10' 'PREC11' 'PREC12'\n",
      " 'TAVG1' 'TAVG2' 'TAVG3' 'TAVG4' 'TAVG5' 'TAVG6' 'TAVG7' 'TAVG8' 'TAVG9'\n",
      " 'TAVG10' 'TAVG11' 'TAVG12' 'WKI2' 'WKI3' 'WKI4' 'WKI5' 'WKI6' 'CKI2'\n",
      " 'CKI3' 'CKI4' 'CKI5' 'CKI6']\n"
     ]
    },
    {
     "data": {
      "text/html": [
       "<h5> --------------- Summary for kalopanax septemlobus: --------------- </h5>"
      ],
      "text/plain": [
       "<IPython.core.display.HTML object>"
      ]
     },
     "metadata": {},
     "output_type": "display_data"
    },
    {
     "name": "stdout",
     "output_type": "stream",
     "text": [
      "The best classifier is MaxEnt. Its accuracy score is 1.0.\n",
      "Optimal predictor set (acc):  ['BIO1' 'BIO2' 'BIO3' 'BIO4' 'BIO5' 'BIO6' 'BIO7' 'BIO8' 'BIO9' 'BIO10'\n",
      " 'BIO11' 'BIO12' 'BIO13' 'BIO14' 'BIO15' 'BIO16' 'BIO17' 'BIO18' 'BIO19'\n",
      " 'PWKI0' 'PCKI0' 'IT' 'IC' 'TMINM' 'TMAXM' 'PREC1' 'PREC2' 'PREC3' 'PREC4'\n",
      " 'PREC5' 'PREC6' 'PREC7' 'PREC8' 'PREC9' 'PREC10' 'PREC11' 'PREC12'\n",
      " 'TAVG1' 'TAVG2' 'TAVG3' 'TAVG4' 'TAVG5' 'TAVG6' 'TAVG7' 'TAVG8' 'TAVG9'\n",
      " 'TAVG10' 'TAVG11' 'TAVG12' 'WKI2' 'WKI3' 'WKI4' 'WKI5' 'WKI6' 'CKI2'\n",
      " 'CKI3' 'CKI4' 'CKI5' 'CKI6']\n",
      "The best classifier is MaxEnt. Its roc/auc score is 1.0.\n",
      "Optimal predictor set (auc):  ['BIO1' 'BIO2' 'BIO3' 'BIO4' 'BIO5' 'BIO6' 'BIO7' 'BIO8' 'BIO9' 'BIO10'\n",
      " 'BIO11' 'BIO12' 'BIO13' 'BIO14' 'BIO15' 'BIO16' 'BIO17' 'BIO18' 'BIO19'\n",
      " 'PWKI0' 'PCKI0' 'IT' 'IC' 'TMINM' 'TMAXM' 'PREC1' 'PREC2' 'PREC3' 'PREC4'\n",
      " 'PREC5' 'PREC6' 'PREC7' 'PREC8' 'PREC9' 'PREC10' 'PREC11' 'PREC12'\n",
      " 'TAVG1' 'TAVG2' 'TAVG3' 'TAVG4' 'TAVG5' 'TAVG6' 'TAVG7' 'TAVG8' 'TAVG9'\n",
      " 'TAVG10' 'TAVG11' 'TAVG12' 'WKI2' 'WKI3' 'WKI4' 'WKI5' 'WKI6' 'CKI2'\n",
      " 'CKI3' 'CKI4' 'CKI5' 'CKI6']\n"
     ]
    },
    {
     "data": {
      "text/html": [
       "<h5> ~~~~~~~~~~~~~~~~~~~~~~~~~~~~~~~~~~~~~~~~~~~~~~~~~~~~~~~~~~~~~~~~~~~~~~~~~~~~~~~~~~~~~~~~~~ </h5>"
      ],
      "text/plain": [
       "<IPython.core.display.HTML object>"
      ]
     },
     "metadata": {},
     "output_type": "display_data"
    },
    {
     "data": {
      "text/html": [
       "<h5>=============== fraxinus mandshurica ======================</h5>"
      ],
      "text/plain": [
       "<IPython.core.display.HTML object>"
      ]
     },
     "metadata": {},
     "output_type": "display_data"
    },
    {
     "name": "stdout",
     "output_type": "stream",
     "text": [
      "Constructing the dataset...\n"
     ]
    },
    {
     "name": "stderr",
     "output_type": "stream",
     "text": [
      "/home/dmitry/workspace/pacific_sdm/bin/loader.py:88: RuntimeWarning: invalid value encountered in greater\n",
      "  if np.any(vals > t):\n",
      "/home/dmitry/workspace/pacific_sdm/bin/loader.py:90: RuntimeWarning: invalid value encountered in greater\n",
      "  result[vals > t] = result[vals > t] + precs[vals > t]\n",
      "/home/dmitry/workspace/pacific_sdm/bin/loader.py:95: RuntimeWarning: invalid value encountered in less\n",
      "  if np.any(vals < t):\n",
      "/home/dmitry/workspace/pacific_sdm/bin/loader.py:97: RuntimeWarning: invalid value encountered in less\n",
      "  result[vals < t] = result[vals < t] + precs[vals < t]\n",
      "/home/dmitry/workspace/pacific_sdm/bin/loader.py:134: RuntimeWarning: invalid value encountered in less\n",
      "  inds = _ < vals_avg\n",
      "/home/dmitry/workspace/pacific_sdm/bin/loader.py:60: RuntimeWarning: invalid value encountered in greater\n",
      "  result[vals > t] = result[vals > t] + vals[vals > t] - t\n",
      "/home/dmitry/workspace/pacific_sdm/bin/loader.py:66: RuntimeWarning: invalid value encountered in less\n",
      "  result[vals < t] = result[vals < t] + vals[vals < t] - t\n"
     ]
    },
    {
     "name": "stdout",
     "output_type": "stream",
     "text": [
      "Dataset is formed.\n",
      "<class 'pandas.core.frame.DataFrame'>\n",
      "RangeIndex: 4026 entries, 0 to 4025\n",
      "Data columns (total 63 columns):\n",
      "absence      4026 non-null bool\n",
      "latitude     4026 non-null float64\n",
      "longitude    4026 non-null float64\n",
      "species      4026 non-null object\n",
      "BIO1         4026 non-null float64\n",
      "BIO2         4026 non-null float64\n",
      "BIO3         4026 non-null float64\n",
      "BIO4         4026 non-null float64\n",
      "BIO5         4026 non-null float64\n",
      "BIO6         4026 non-null float64\n",
      "BIO7         4026 non-null float64\n",
      "BIO8         4026 non-null float64\n",
      "BIO9         4026 non-null float64\n",
      "BIO10        4026 non-null float64\n",
      "BIO11        4026 non-null float64\n",
      "BIO12        4026 non-null float64\n",
      "BIO13        4026 non-null float64\n",
      "BIO14        4026 non-null float64\n",
      "BIO15        4026 non-null float64\n",
      "BIO16        4026 non-null float64\n",
      "BIO17        4026 non-null float64\n",
      "BIO18        4026 non-null float64\n",
      "BIO19        4026 non-null float64\n",
      "PWKI0        4026 non-null float64\n",
      "PCKI0        4026 non-null float64\n",
      "IT           4026 non-null float64\n",
      "IC           4026 non-null float64\n",
      "TMINM        4026 non-null float64\n",
      "TMAXM        4026 non-null float64\n",
      "PREC1        4026 non-null float64\n",
      "PREC2        4026 non-null float64\n",
      "PREC3        4026 non-null float64\n",
      "PREC4        4026 non-null float64\n",
      "PREC5        4026 non-null float64\n",
      "PREC6        4026 non-null float64\n",
      "PREC7        4026 non-null float64\n",
      "PREC8        4026 non-null float64\n",
      "PREC9        4026 non-null float64\n",
      "PREC10       4026 non-null float64\n",
      "PREC11       4026 non-null float64\n",
      "PREC12       4026 non-null float64\n",
      "TAVG1        4026 non-null float64\n",
      "TAVG2        4026 non-null float64\n",
      "TAVG3        4026 non-null float64\n",
      "TAVG4        4026 non-null float64\n",
      "TAVG5        4026 non-null float64\n",
      "TAVG6        4026 non-null float64\n",
      "TAVG7        4026 non-null float64\n",
      "TAVG8        4026 non-null float64\n",
      "TAVG9        4026 non-null float64\n",
      "TAVG10       4026 non-null float64\n",
      "TAVG11       4026 non-null float64\n",
      "TAVG12       4026 non-null float64\n",
      "WKI2         4026 non-null float64\n",
      "WKI3         4026 non-null float64\n",
      "WKI4         4026 non-null float64\n",
      "WKI5         4026 non-null float64\n",
      "WKI6         4026 non-null float64\n",
      "CKI2         4026 non-null float64\n",
      "CKI3         4026 non-null float64\n",
      "CKI4         4026 non-null float64\n",
      "CKI5         4026 non-null float64\n",
      "CKI6         4026 non-null float64\n",
      "dtypes: bool(1), float64(61), object(1)\n",
      "memory usage: 1.9+ MB\n",
      "Preforming recursive feature ellimination for the <tree> classifier...\n",
      "==================== accuracy case ====================\n",
      "Optimal composition of variables:  ['BIO2' 'BIO3' 'BIO4' 'BIO5' 'BIO6' 'BIO7' 'BIO8' 'BIO9' 'BIO10' 'BIO11'\n",
      " 'BIO12' 'BIO13' 'BIO14' 'BIO15' 'BIO16' 'BIO17' 'BIO18' 'BIO19' 'PWKI0'\n",
      " 'PCKI0' 'IT' 'IC' 'TMINM' 'TMAXM' 'PREC1' 'PREC2' 'PREC3' 'PREC4' 'PREC5'\n",
      " 'PREC6' 'PREC7' 'PREC8' 'PREC9' 'PREC10' 'PREC11' 'PREC12' 'TAVG1'\n",
      " 'TAVG2' 'TAVG3' 'TAVG4' 'TAVG5' 'TAVG6' 'TAVG7' 'TAVG8' 'TAVG9' 'TAVG10'\n",
      " 'TAVG11' 'TAVG12' 'WKI2' 'WKI3' 'WKI4' 'WKI5' 'WKI6' 'CKI2' 'CKI3' 'CKI4'\n",
      " 'CKI5' 'CKI6']\n",
      "Classification score (acc):  0.9997512437810945\n",
      "============================================================\n",
      "==================== roc/auc case ====================\n",
      "Optimal composition of variables:  ['BIO2' 'BIO3' 'BIO4' 'BIO5' 'BIO6' 'BIO7' 'BIO8' 'BIO9' 'BIO10' 'BIO11'\n",
      " 'BIO12' 'BIO13' 'BIO14' 'BIO15' 'BIO16' 'BIO17' 'BIO18' 'BIO19' 'PWKI0'\n",
      " 'PCKI0' 'IT' 'IC' 'TMINM' 'TMAXM' 'PREC1' 'PREC2' 'PREC3' 'PREC4' 'PREC5'\n",
      " 'PREC6' 'PREC7' 'PREC8' 'PREC9' 'PREC10' 'PREC11' 'PREC12' 'TAVG1'\n",
      " 'TAVG2' 'TAVG3' 'TAVG4' 'TAVG5' 'TAVG6' 'TAVG7' 'TAVG8' 'TAVG9' 'TAVG10'\n",
      " 'TAVG11' 'TAVG12' 'WKI2' 'WKI3' 'WKI4' 'WKI5' 'WKI6' 'CKI2' 'CKI3' 'CKI4'\n",
      " 'CKI5' 'CKI6']\n",
      "Classification score (auc):  0.9875\n",
      "============================================================\n",
      "The following predictors composition was selected:  ['BIO2' 'BIO3' 'BIO4' 'BIO5' 'BIO6' 'BIO7' 'BIO8' 'BIO9' 'BIO10' 'BIO11'\n",
      " 'BIO12' 'BIO13' 'BIO14' 'BIO15' 'BIO16' 'BIO17' 'BIO18' 'BIO19' 'PWKI0'\n",
      " 'PCKI0' 'IT' 'IC' 'TMINM' 'TMAXM' 'PREC1' 'PREC2' 'PREC3' 'PREC4' 'PREC5'\n",
      " 'PREC6' 'PREC7' 'PREC8' 'PREC9' 'PREC10' 'PREC11' 'PREC12' 'TAVG1'\n",
      " 'TAVG2' 'TAVG3' 'TAVG4' 'TAVG5' 'TAVG6' 'TAVG7' 'TAVG8' 'TAVG9' 'TAVG10'\n",
      " 'TAVG11' 'TAVG12' 'WKI2' 'WKI3' 'WKI4' 'WKI5' 'WKI6' 'CKI2' 'CKI3' 'CKI4'\n",
      " 'CKI5' 'CKI6']\n",
      "Preforming recursive feature ellimination for the <MaxEnt> classifier...\n",
      "==================== accuracy case ====================\n",
      "Optimal composition of variables:  ['BIO1' 'BIO2' 'BIO3' 'BIO4' 'BIO5' 'BIO6' 'BIO7' 'BIO8' 'BIO9' 'BIO10'\n",
      " 'BIO11' 'BIO12' 'BIO13' 'BIO14' 'BIO15' 'BIO16' 'BIO17' 'BIO18' 'BIO19'\n",
      " 'PWKI0' 'PCKI0' 'IT' 'IC' 'TMINM' 'TMAXM' 'PREC1' 'PREC2' 'PREC3' 'PREC4'\n",
      " 'PREC5' 'PREC6' 'PREC7' 'PREC8' 'PREC9' 'PREC10' 'PREC11' 'PREC12'\n",
      " 'TAVG1' 'TAVG2' 'TAVG3' 'TAVG4' 'TAVG5' 'TAVG6' 'TAVG7' 'TAVG8' 'TAVG9'\n",
      " 'TAVG10' 'TAVG11' 'TAVG12' 'WKI2' 'WKI3' 'WKI4' 'WKI5' 'WKI6' 'CKI2'\n",
      " 'CKI3' 'CKI4' 'CKI5' 'CKI6']\n",
      "Classification score (acc):  0.9997512437810945\n",
      "============================================================\n",
      "==================== roc/auc case ====================\n",
      "Optimal composition of variables:  ['BIO1' 'BIO2' 'BIO3' 'BIO4' 'BIO5' 'BIO6' 'BIO7' 'BIO8' 'BIO9' 'BIO10'\n",
      " 'BIO11' 'BIO12' 'BIO13' 'BIO14' 'BIO15' 'BIO16' 'BIO17' 'BIO18' 'BIO19'\n",
      " 'PWKI0' 'PCKI0' 'IT' 'IC' 'TMINM' 'TMAXM' 'PREC1' 'PREC2' 'PREC3' 'PREC4'\n",
      " 'PREC5' 'PREC6' 'PREC7' 'PREC8' 'PREC9' 'PREC10' 'PREC11' 'PREC12'\n",
      " 'TAVG1' 'TAVG2' 'TAVG3' 'TAVG4' 'TAVG5' 'TAVG6' 'TAVG7' 'TAVG8' 'TAVG9'\n",
      " 'TAVG10' 'TAVG11' 'TAVG12' 'WKI2' 'WKI3' 'WKI4' 'WKI5' 'WKI6' 'CKI2'\n",
      " 'CKI3' 'CKI4' 'CKI5' 'CKI6']\n",
      "Classification score (auc):  1.0\n",
      "============================================================\n",
      "The following predictors composition was selected:  ['BIO1' 'BIO2' 'BIO3' 'BIO4' 'BIO5' 'BIO6' 'BIO7' 'BIO8' 'BIO9' 'BIO10'\n",
      " 'BIO11' 'BIO12' 'BIO13' 'BIO14' 'BIO15' 'BIO16' 'BIO17' 'BIO18' 'BIO19'\n",
      " 'PWKI0' 'PCKI0' 'IT' 'IC' 'TMINM' 'TMAXM' 'PREC1' 'PREC2' 'PREC3' 'PREC4'\n",
      " 'PREC5' 'PREC6' 'PREC7' 'PREC8' 'PREC9' 'PREC10' 'PREC11' 'PREC12'\n",
      " 'TAVG1' 'TAVG2' 'TAVG3' 'TAVG4' 'TAVG5' 'TAVG6' 'TAVG7' 'TAVG8' 'TAVG9'\n",
      " 'TAVG10' 'TAVG11' 'TAVG12' 'WKI2' 'WKI3' 'WKI4' 'WKI5' 'WKI6' 'CKI2'\n",
      " 'CKI3' 'CKI4' 'CKI5' 'CKI6']\n",
      "Preforming recursive feature ellimination for the <SVM> classifier...\n",
      "==================== accuracy case ====================\n",
      "Optimal composition of variables:  ['BIO1' 'BIO2' 'BIO3' 'BIO4' 'BIO5' 'BIO6' 'BIO7' 'BIO8' 'BIO9' 'BIO10'\n",
      " 'BIO11' 'BIO12' 'BIO13' 'BIO14' 'BIO15' 'BIO16' 'BIO17' 'BIO18' 'BIO19'\n",
      " 'PWKI0' 'PCKI0' 'IT' 'IC' 'TMINM' 'TMAXM' 'PREC1' 'PREC2' 'PREC3' 'PREC4'\n",
      " 'PREC5' 'PREC6' 'PREC7' 'PREC8' 'PREC9' 'PREC10' 'PREC11' 'PREC12'\n",
      " 'TAVG1' 'TAVG2' 'TAVG3' 'TAVG4' 'TAVG5' 'TAVG6' 'TAVG7' 'TAVG8' 'TAVG9'\n",
      " 'TAVG10' 'TAVG11' 'TAVG12' 'WKI2' 'WKI3' 'WKI4' 'WKI5' 'WKI6' 'CKI2'\n",
      " 'CKI3' 'CKI4' 'CKI5' 'CKI6']\n",
      "Classification score (acc):  1.0\n",
      "============================================================\n",
      "==================== roc/auc case ====================\n",
      "Optimal composition of variables:  ['BIO1' 'BIO2' 'BIO3' 'BIO4' 'BIO5' 'BIO6' 'BIO7' 'BIO8' 'BIO9' 'BIO10'\n",
      " 'BIO11' 'BIO12' 'BIO13' 'BIO14' 'BIO15' 'BIO16' 'BIO17' 'BIO18' 'BIO19'\n",
      " 'PWKI0' 'PCKI0' 'IT' 'IC' 'TMINM' 'TMAXM' 'PREC1' 'PREC2' 'PREC3' 'PREC4'\n",
      " 'PREC5' 'PREC6' 'PREC7' 'PREC8' 'PREC9' 'PREC10' 'PREC11' 'PREC12'\n",
      " 'TAVG1' 'TAVG2' 'TAVG3' 'TAVG4' 'TAVG5' 'TAVG6' 'TAVG7' 'TAVG8' 'TAVG9'\n",
      " 'TAVG10' 'TAVG11' 'TAVG12' 'WKI2' 'WKI3' 'WKI4' 'WKI5' 'WKI6' 'CKI2'\n",
      " 'CKI3' 'CKI4' 'CKI5' 'CKI6']\n",
      "Classification score (auc):  1.0\n",
      "============================================================\n",
      "The following predictors composition was selected:  ['BIO1' 'BIO2' 'BIO3' 'BIO4' 'BIO5' 'BIO6' 'BIO7' 'BIO8' 'BIO9' 'BIO10'\n",
      " 'BIO11' 'BIO12' 'BIO13' 'BIO14' 'BIO15' 'BIO16' 'BIO17' 'BIO18' 'BIO19'\n",
      " 'PWKI0' 'PCKI0' 'IT' 'IC' 'TMINM' 'TMAXM' 'PREC1' 'PREC2' 'PREC3' 'PREC4'\n",
      " 'PREC5' 'PREC6' 'PREC7' 'PREC8' 'PREC9' 'PREC10' 'PREC11' 'PREC12'\n",
      " 'TAVG1' 'TAVG2' 'TAVG3' 'TAVG4' 'TAVG5' 'TAVG6' 'TAVG7' 'TAVG8' 'TAVG9'\n",
      " 'TAVG10' 'TAVG11' 'TAVG12' 'WKI2' 'WKI3' 'WKI4' 'WKI5' 'WKI6' 'CKI2'\n",
      " 'CKI3' 'CKI4' 'CKI5' 'CKI6']\n"
     ]
    },
    {
     "data": {
      "text/html": [
       "<h5> --------------- Summary for fraxinus mandshurica: --------------- </h5>"
      ],
      "text/plain": [
       "<IPython.core.display.HTML object>"
      ]
     },
     "metadata": {},
     "output_type": "display_data"
    },
    {
     "name": "stdout",
     "output_type": "stream",
     "text": [
      "The best classifier is SVM. Its accuracy score is 1.0.\n",
      "Optimal predictor set (acc):  ['BIO1' 'BIO2' 'BIO3' 'BIO4' 'BIO5' 'BIO6' 'BIO7' 'BIO8' 'BIO9' 'BIO10'\n",
      " 'BIO11' 'BIO12' 'BIO13' 'BIO14' 'BIO15' 'BIO16' 'BIO17' 'BIO18' 'BIO19'\n",
      " 'PWKI0' 'PCKI0' 'IT' 'IC' 'TMINM' 'TMAXM' 'PREC1' 'PREC2' 'PREC3' 'PREC4'\n",
      " 'PREC5' 'PREC6' 'PREC7' 'PREC8' 'PREC9' 'PREC10' 'PREC11' 'PREC12'\n",
      " 'TAVG1' 'TAVG2' 'TAVG3' 'TAVG4' 'TAVG5' 'TAVG6' 'TAVG7' 'TAVG8' 'TAVG9'\n",
      " 'TAVG10' 'TAVG11' 'TAVG12' 'WKI2' 'WKI3' 'WKI4' 'WKI5' 'WKI6' 'CKI2'\n",
      " 'CKI3' 'CKI4' 'CKI5' 'CKI6']\n",
      "The best classifier is MaxEnt. Its roc/auc score is 1.0.\n",
      "Optimal predictor set (auc):  ['BIO1' 'BIO2' 'BIO3' 'BIO4' 'BIO5' 'BIO6' 'BIO7' 'BIO8' 'BIO9' 'BIO10'\n",
      " 'BIO11' 'BIO12' 'BIO13' 'BIO14' 'BIO15' 'BIO16' 'BIO17' 'BIO18' 'BIO19'\n",
      " 'PWKI0' 'PCKI0' 'IT' 'IC' 'TMINM' 'TMAXM' 'PREC1' 'PREC2' 'PREC3' 'PREC4'\n",
      " 'PREC5' 'PREC6' 'PREC7' 'PREC8' 'PREC9' 'PREC10' 'PREC11' 'PREC12'\n",
      " 'TAVG1' 'TAVG2' 'TAVG3' 'TAVG4' 'TAVG5' 'TAVG6' 'TAVG7' 'TAVG8' 'TAVG9'\n",
      " 'TAVG10' 'TAVG11' 'TAVG12' 'WKI2' 'WKI3' 'WKI4' 'WKI5' 'WKI6' 'CKI2'\n",
      " 'CKI3' 'CKI4' 'CKI5' 'CKI6']\n"
     ]
    },
    {
     "data": {
      "text/html": [
       "<h5> ~~~~~~~~~~~~~~~~~~~~~~~~~~~~~~~~~~~~~~~~~~~~~~~~~~~~~~~~~~~~~~~~~~~~~~~~~~~~~~~~~~~~~~~~~~ </h5>"
      ],
      "text/plain": [
       "<IPython.core.display.HTML object>"
      ]
     },
     "metadata": {},
     "output_type": "display_data"
    }
   ],
   "source": [
    "\n",
    "for species in MODEL_SPECIES:\n",
    "    display(HTML('<h5>=============== %s ======================</h5>' % species))\n",
    "    classifier_stats_acc, classifier_stats_auc = [], []\n",
    "    model = Pipeline([('select_species', SelectSpecies(species)), \n",
    "                      ('prune_suspicious', PruneSuspiciousCoords()),\n",
    "                      ('ps_absence', FillPseudoAbsenceData(density=PSEUDO_ABSENCE_DENSITY)),\n",
    "                      ('fill_env', FillEnvironmentalData(VARIABLE_SET))]\n",
    "                     )\n",
    "    print(\"Constructing the dataset...\")\n",
    "    aux_result = model.fit_transform(original_presence_data)\n",
    "    X, y = aux_result[list(VARIABLE_SET)].values, list(map(int, ~aux_result.absence))\n",
    "    print(\"Dataset is formed.\")\n",
    "    aux_result.info()\n",
    "    for name, clf in CLASSIFIERS:\n",
    "        std_clf=TweakedPipeline([('scaler', StandardScaler()),\n",
    "                         ('classificator', clf)])\n",
    "        # Not yet completed!\n",
    "        print(\"Preforming recursive feature ellimination for the <%s> classifier...\" % name)\n",
    "        rfecv_acc = RFECV(estimator=std_clf, step=1, cv=StratifiedKFold(KFOLDS_NUMBER, shuffle=True),\n",
    "                      scoring='accuracy')\n",
    "        rfecv_acc.fit(X, y)\n",
    "        print(\"=\" * 20, \"accuracy case\", \"=\" * 20)\n",
    "        print(\"Optimal composition of variables: \", np.array(VARIABLE_SET)[rfecv_acc.support_])\n",
    "        acc_score = np.array(rfecv_acc.grid_scores_)[np.argmax(rfecv_acc.grid_scores_)]\n",
    "        print(\"Classification score (acc): \", acc_score)\n",
    "        print(\"=\" * 60)\n",
    "        print(\"=\" * 20, \"roc/auc case\", \"=\" * 20)\n",
    "        rfecv_auc = RFECV(estimator=std_clf, step=1, cv=StratifiedKFold(KFOLDS_NUMBER, shuffle=True),\n",
    "                      scoring='roc_auc')\n",
    "        rfecv_auc.fit(X, y)\n",
    "        print(\"Optimal composition of variables: \", np.array(VARIABLE_SET)[rfecv_auc.support_])\n",
    "        auc_score = np.array(rfecv_auc.grid_scores_)[np.argmax(rfecv_auc.grid_scores_)]\n",
    "        print(\"Classification score (auc): \", auc_score)\n",
    "        print(\"=\" * 60)\n",
    "        print(\"The following predictors composition was selected: \",  np.array(VARIABLE_SET)[rfecv_acc.support_])\n",
    "        classifier_stats_acc.append((name, acc_score, clf, rfecv_acc.support_))\n",
    "        classifier_stats_auc.append((name, auc_score, clf, rfecv_auc.support_))\n",
    "    acc_optimal_name, acc_optimal_score, acc_optimal_clf, acc_optimal_mask = tuple(classifier_stats_acc[np.argmax(list(map(lambda x: x[1], classifier_stats_acc)))])\n",
    "    auc_optimal_name, auc_optimal_score, auc_optimal_clf, auc_optimal_mask = tuple(classifier_stats_auc[np.argmax(list(map(lambda x: x[1], classifier_stats_auc)))])\n",
    "    display(HTML('<h5> --------------- Summary for %s: --------------- </h5>' % species))\n",
    "    print(\"The best classifier is %s. Its accuracy score is %s.\" % (acc_optimal_name, acc_optimal_score))\n",
    "    print(\"Optimal predictor set (acc): \",  np.array(VARIABLE_SET)[acc_optimal_mask])\n",
    "    print(\"The best classifier is %s. Its roc/auc score is %s.\" % (auc_optimal_name, auc_optimal_score))\n",
    "    print(\"Optimal predictor set (auc): \",  np.array(VARIABLE_SET)[auc_optimal_mask])\n",
    "    display(HTML('<h5> %s </h5>' % (\"~\" * 90,)))\n"
   ]
  }
 ],
 "metadata": {
  "kernelspec": {
   "display_name": "Python 3",
   "language": "python",
   "name": "python3"
  },
  "language_info": {
   "codemirror_mode": {
    "name": "ipython",
    "version": 3
   },
   "file_extension": ".py",
   "mimetype": "text/x-python",
   "name": "python",
   "nbconvert_exporter": "python",
   "pygments_lexer": "ipython3",
   "version": "3.5.4"
  }
 },
 "nbformat": 4,
 "nbformat_minor": 2
}
